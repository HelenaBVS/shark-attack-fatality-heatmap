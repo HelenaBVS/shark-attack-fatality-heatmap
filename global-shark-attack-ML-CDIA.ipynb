{
 "cells": [
  {
   "cell_type": "markdown",
   "metadata": {},
   "source": [
    "# Global Shark Attack Incidents\n",
    "## Heatmap\n",
    "\n",
    "This notebook leverages a dataset containing records of shark attack incidents worldwide to explore and visualize the frequency of these occurrences. By analyzing this data, we gain insights into the geographic distribution of shark attacks, shedding light on areas where such incidents are more prevalent. Towards the end of the notebook, a heat map is presented, providing a visual representation of the regions most affected by shark attacks. "
   ]
  },
  {
   "cell_type": "markdown",
   "metadata": {},
   "source": [
    "## Shark data (import and visualization)"
   ]
  },
  {
   "cell_type": "code",
   "execution_count": 1,
   "metadata": {
    "execution": {
     "iopub.execute_input": "2024-06-25T01:51:12.994889Z",
     "iopub.status.busy": "2024-06-25T01:51:12.993621Z",
     "iopub.status.idle": "2024-06-25T01:51:13.242990Z",
     "shell.execute_reply": "2024-06-25T01:51:13.241502Z",
     "shell.execute_reply.started": "2024-06-25T01:51:12.994843Z"
    },
    "id": "o4rUGPnntPvX"
   },
   "outputs": [
    {
     "name": "stdout",
     "output_type": "stream",
     "text": [
      "Index(['index', 'Case Number', 'Date', 'Year', 'Type', 'Country', 'Area',\n",
      "       'Location', 'Activity', 'Name',\n",
      "       ...\n",
      "       'Unnamed: 246', 'Unnamed: 247', 'Unnamed: 248', 'Unnamed: 249',\n",
      "       'Unnamed: 250', 'Unnamed: 251', 'Unnamed: 252', 'Unnamed: 253',\n",
      "       'Unnamed: 254', 'Unnamed: 255'],\n",
      "      dtype='object', length=257)\n",
      "(6462, 15)\n"
     ]
    },
    {
     "data": {
      "text/html": [
       "<div>\n",
       "<style scoped>\n",
       "    .dataframe tbody tr th:only-of-type {\n",
       "        vertical-align: middle;\n",
       "    }\n",
       "\n",
       "    .dataframe tbody tr th {\n",
       "        vertical-align: top;\n",
       "    }\n",
       "\n",
       "    .dataframe thead th {\n",
       "        text-align: right;\n",
       "    }\n",
       "</style>\n",
       "<table border=\"1\" class=\"dataframe\">\n",
       "  <thead>\n",
       "    <tr style=\"text-align: right;\">\n",
       "      <th></th>\n",
       "      <th>Case Number</th>\n",
       "      <th>Date</th>\n",
       "      <th>Year</th>\n",
       "      <th>Type</th>\n",
       "      <th>Country</th>\n",
       "      <th>Area</th>\n",
       "      <th>Location</th>\n",
       "      <th>Activity</th>\n",
       "      <th>Name</th>\n",
       "      <th>Victim's Gender</th>\n",
       "      <th>Age</th>\n",
       "      <th>Time</th>\n",
       "      <th>Species</th>\n",
       "      <th>Fatal</th>\n",
       "      <th>Injury</th>\n",
       "    </tr>\n",
       "  </thead>\n",
       "  <tbody>\n",
       "    <tr>\n",
       "      <th>0</th>\n",
       "      <td>2020.02.05</td>\n",
       "      <td>05-Feb-2020</td>\n",
       "      <td>2020.0</td>\n",
       "      <td>Unprovoked</td>\n",
       "      <td>USA</td>\n",
       "      <td>Maui</td>\n",
       "      <td>NaN</td>\n",
       "      <td>Stand-Up Paddle boarding</td>\n",
       "      <td>NaN</td>\n",
       "      <td>NaN</td>\n",
       "      <td>NaN</td>\n",
       "      <td>09h40</td>\n",
       "      <td>Tiger shark</td>\n",
       "      <td>N</td>\n",
       "      <td>No injury, but paddleboard bitten</td>\n",
       "    </tr>\n",
       "    <tr>\n",
       "      <th>1</th>\n",
       "      <td>2020.01.30.R</td>\n",
       "      <td>Reported 30-Jan-2020</td>\n",
       "      <td>2020.0</td>\n",
       "      <td>Provoked</td>\n",
       "      <td>BAHAMAS</td>\n",
       "      <td>Exumas</td>\n",
       "      <td>NaN</td>\n",
       "      <td>Floating</td>\n",
       "      <td>Ana Bruna Avila</td>\n",
       "      <td>F</td>\n",
       "      <td>24</td>\n",
       "      <td>NaN</td>\n",
       "      <td>NaN</td>\n",
       "      <td>N</td>\n",
       "      <td>PROVOKED INCIDENT Scratches to left wrist</td>\n",
       "    </tr>\n",
       "    <tr>\n",
       "      <th>2</th>\n",
       "      <td>2020.01.17</td>\n",
       "      <td>17-Jan-2020</td>\n",
       "      <td>2020.0</td>\n",
       "      <td>Unprovoked</td>\n",
       "      <td>AUSTRALIA</td>\n",
       "      <td>New South Wales</td>\n",
       "      <td>Windang Beach</td>\n",
       "      <td>Surfing</td>\n",
       "      <td>Will Schroeter</td>\n",
       "      <td>M</td>\n",
       "      <td>59</td>\n",
       "      <td>08h00</td>\n",
       "      <td>\"A small shark\"</td>\n",
       "      <td>N</td>\n",
       "      <td>Laceration ot left ankle and foot</td>\n",
       "    </tr>\n",
       "    <tr>\n",
       "      <th>3</th>\n",
       "      <td>2020.01.16</td>\n",
       "      <td>16-Jan-2020</td>\n",
       "      <td>2020.0</td>\n",
       "      <td>Unprovoked</td>\n",
       "      <td>NEW ZEALAND</td>\n",
       "      <td>Southland</td>\n",
       "      <td>Oreti Beach</td>\n",
       "      <td>Surfing</td>\n",
       "      <td>Jordan King</td>\n",
       "      <td>F</td>\n",
       "      <td>13</td>\n",
       "      <td>20h30</td>\n",
       "      <td>Broadnose seven gill shark?</td>\n",
       "      <td>N</td>\n",
       "      <td>Minor injury to lower leg</td>\n",
       "    </tr>\n",
       "    <tr>\n",
       "      <th>4</th>\n",
       "      <td>2020.01.13</td>\n",
       "      <td>13-Jan-2020</td>\n",
       "      <td>2020.0</td>\n",
       "      <td>Unprovoked</td>\n",
       "      <td>USA</td>\n",
       "      <td>North Carolina</td>\n",
       "      <td>Rodanthe, Dare County</td>\n",
       "      <td>Surfing</td>\n",
       "      <td>Samuel Horne</td>\n",
       "      <td>M</td>\n",
       "      <td>26</td>\n",
       "      <td>14h33</td>\n",
       "      <td>NaN</td>\n",
       "      <td>N</td>\n",
       "      <td>Lacerations to foot</td>\n",
       "    </tr>\n",
       "  </tbody>\n",
       "</table>\n",
       "</div>"
      ],
      "text/plain": [
       "    Case Number                  Date    Year        Type      Country  \\\n",
       "0    2020.02.05           05-Feb-2020  2020.0  Unprovoked          USA   \n",
       "1  2020.01.30.R  Reported 30-Jan-2020  2020.0    Provoked      BAHAMAS   \n",
       "2    2020.01.17           17-Jan-2020  2020.0  Unprovoked    AUSTRALIA   \n",
       "3    2020.01.16           16-Jan-2020  2020.0  Unprovoked  NEW ZEALAND   \n",
       "4    2020.01.13           13-Jan-2020  2020.0  Unprovoked          USA   \n",
       "\n",
       "              Area               Location                  Activity  \\\n",
       "0             Maui                    NaN  Stand-Up Paddle boarding   \n",
       "1           Exumas                    NaN                  Floating   \n",
       "2  New South Wales          Windang Beach                   Surfing   \n",
       "3        Southland            Oreti Beach                   Surfing   \n",
       "4   North Carolina  Rodanthe, Dare County                   Surfing   \n",
       "\n",
       "              Name Victim's Gender  Age   Time                      Species  \\\n",
       "0              NaN             NaN  NaN  09h40                  Tiger shark   \n",
       "1  Ana Bruna Avila               F   24    NaN                          NaN   \n",
       "2   Will Schroeter               M   59  08h00              \"A small shark\"   \n",
       "3      Jordan King               F   13  20h30  Broadnose seven gill shark?   \n",
       "4     Samuel Horne               M   26  14h33                          NaN   \n",
       "\n",
       "  Fatal                                     Injury  \n",
       "0     N          No injury, but paddleboard bitten  \n",
       "1     N  PROVOKED INCIDENT Scratches to left wrist  \n",
       "2     N          Laceration ot left ankle and foot  \n",
       "3     N                  Minor injury to lower leg  \n",
       "4     N                        Lacerations to foot  "
      ]
     },
     "execution_count": 1,
     "metadata": {},
     "output_type": "execute_result"
    }
   ],
   "source": [
    "import pandas as pd\n",
    "import numpy as np\n",
    "import seaborn as sns\n",
    "import matplotlib.pyplot as plt\n",
    "\n",
    "from sklearn import preprocessing\n",
    "\n",
    "\"\"\" \n",
    "Setting display.max_columns to None ensures that Pandas will display all columns of a DataFrame, \n",
    "regardless of its size. This can be useful when working with datasets that have a large number of columns, \n",
    "as it allows you to see all the available data without truncation.\n",
    "It improves the readability and usability of the DataFrame, especially when exploring or analyzing \n",
    "the data interactively.\n",
    "\"\"\"\n",
    "pd.set_option(\"display.max_columns\",None)\n",
    "\n",
    "\"\"\"\n",
    "The low_memory=False parameter is optional and was set to False.\n",
    "When set to False, it instructs pandas not to attempt to infer the data type of each column automatically,\n",
    "which can save memory in cases where the file has many columns with mixed data types or large amounts of data.\n",
    "This can be useful when working with large files or varied data types.\n",
    "However, setting low_memory=False may consume more RAM during the file reading process,\n",
    "we're reading the dataset.\n",
    "\"\"\"\n",
    "df = pd.read_csv(\"./inputs/sharks/GSAF5.xls.csv\", low_memory=False)\n",
    "print(df.columns)\n",
    "\n",
    "df = df[['Case Number', 'Date', 'Year', 'Type', 'Country', 'Area',\n",
    "       'Location', 'Activity', 'Name', 'Unnamed: 9', 'Age', 'Time','Species ','Fatal (Y/N)','Injury']]\n",
    "\n",
    "\n",
    "\"\"\"\n",
    "It's not strictly necessary to maintain the original order of columns when renaming them. \n",
    "However, doing so can enhance clarity, consistency, and compatibility with existing code.\n",
    "\"\"\"\n",
    "# Renaming column ('Unnamed: 9' to 'Victim\\'s Gender')\n",
    "df.columns = ['Case Number', 'Date', 'Year', 'Type', 'Country', 'Area',\n",
    "       'Location', 'Activity', 'Name', 'Victim\\'s Gender', 'Age', 'Time','Species','Fatal', 'Injury']\n",
    "\n",
    "# Amount of \"(lines, columns)\" respectively\n",
    "print(df.shape)\n",
    "\n",
    "df.head()"
   ]
  },
  {
   "cell_type": "code",
   "execution_count": 2,
   "metadata": {
    "execution": {
     "iopub.execute_input": "2024-06-25T01:51:13.245957Z",
     "iopub.status.busy": "2024-06-25T01:51:13.245481Z",
     "iopub.status.idle": "2024-06-25T01:51:13.261387Z",
     "shell.execute_reply": "2024-06-25T01:51:13.260151Z",
     "shell.execute_reply.started": "2024-06-25T01:51:13.245918Z"
    }
   },
   "outputs": [
    {
     "data": {
      "text/plain": [
       "array([[False, False, False, ..., False, False, False],\n",
       "       [False, False, False, ...,  True, False, False],\n",
       "       [False, False, False, ..., False, False, False],\n",
       "       ...,\n",
       "       [False, False, False, ...,  True, False, False],\n",
       "       [False, False, False, ...,  True, False, False],\n",
       "       [False, False, False, ...,  True, False, False]])"
      ]
     },
     "execution_count": 2,
     "metadata": {},
     "output_type": "execute_result"
    }
   ],
   "source": [
    "np.array(df.isna() == True)"
   ]
  },
  {
   "cell_type": "code",
   "execution_count": 3,
   "metadata": {
    "execution": {
     "iopub.execute_input": "2024-06-25T01:51:13.263050Z",
     "iopub.status.busy": "2024-06-25T01:51:13.262651Z",
     "iopub.status.idle": "2024-06-25T01:51:13.283521Z",
     "shell.execute_reply": "2024-06-25T01:51:13.282282Z",
     "shell.execute_reply.started": "2024-06-25T01:51:13.263019Z"
    }
   },
   "outputs": [
    {
     "data": {
      "text/plain": [
       "Case Number           2\n",
       "Date                  1\n",
       "Year                  3\n",
       "Type                  5\n",
       "Country              51\n",
       "Area                463\n",
       "Location            545\n",
       "Activity            552\n",
       "Name                215\n",
       "Victim's Gender    6434\n",
       "Age                2871\n",
       "Time               3392\n",
       "Species            2924\n",
       "Fatal               547\n",
       "Injury               29\n",
       "dtype: int64"
      ]
     },
     "execution_count": 3,
     "metadata": {},
     "output_type": "execute_result"
    }
   ],
   "source": [
    "\"\"\"\n",
    "This code is using the .isnull () method of the DataFrame to check null values in each column\n",
    "and then it is adding the number of null values in each of these columns, to obtain its total.\n",
    "\"\"\"\n",
    "df.isnull().sum()"
   ]
  },
  {
   "cell_type": "code",
   "execution_count": 4,
   "metadata": {
    "execution": {
     "iopub.execute_input": "2024-06-25T01:51:13.287901Z",
     "iopub.status.busy": "2024-06-25T01:51:13.287085Z",
     "iopub.status.idle": "2024-06-25T01:51:13.298501Z",
     "shell.execute_reply": "2024-06-25T01:51:13.297110Z",
     "shell.execute_reply.started": "2024-06-25T01:51:13.287856Z"
    }
   },
   "outputs": [
    {
     "data": {
      "text/plain": [
       "205"
      ]
     },
     "execution_count": 4,
     "metadata": {},
     "output_type": "execute_result"
    }
   ],
   "source": [
    "\"\"\"\n",
    "The nunique() function in Pandas is used to count the number of unique values in a specific column of a DataFrame.\n",
    "Applying this function to the 'Country' column provides valuable insight into the shark incidents,\n",
    "highlighting the global nature of shark attacks documented in the dataset. \n",
    "This information is crucial for understanding the geographical distribution and scope of the dataset.\n",
    "\"\"\"\n",
    "df['Country'].nunique()"
   ]
  },
  {
   "cell_type": "markdown",
   "metadata": {},
   "source": [
    "### Counting the occurrences of shark attacks by country"
   ]
  },
  {
   "cell_type": "code",
   "execution_count": 5,
   "metadata": {
    "execution": {
     "iopub.execute_input": "2024-06-25T01:51:13.300442Z",
     "iopub.status.busy": "2024-06-25T01:51:13.300047Z",
     "iopub.status.idle": "2024-06-25T01:51:13.321932Z",
     "shell.execute_reply": "2024-06-25T01:51:13.320740Z",
     "shell.execute_reply.started": "2024-06-25T01:51:13.300412Z"
    }
   },
   "outputs": [
    {
     "data": {
      "text/html": [
       "<div>\n",
       "<style scoped>\n",
       "    .dataframe tbody tr th:only-of-type {\n",
       "        vertical-align: middle;\n",
       "    }\n",
       "\n",
       "    .dataframe tbody tr th {\n",
       "        vertical-align: top;\n",
       "    }\n",
       "\n",
       "    .dataframe thead th {\n",
       "        text-align: right;\n",
       "    }\n",
       "</style>\n",
       "<table border=\"1\" class=\"dataframe\">\n",
       "  <thead>\n",
       "    <tr style=\"text-align: right;\">\n",
       "      <th></th>\n",
       "      <th>Country</th>\n",
       "      <th>count</th>\n",
       "    </tr>\n",
       "  </thead>\n",
       "  <tbody>\n",
       "    <tr>\n",
       "      <th>0</th>\n",
       "      <td>USA</td>\n",
       "      <td>2310</td>\n",
       "    </tr>\n",
       "    <tr>\n",
       "      <th>1</th>\n",
       "      <td>AUSTRALIA</td>\n",
       "      <td>1374</td>\n",
       "    </tr>\n",
       "    <tr>\n",
       "      <th>2</th>\n",
       "      <td>SOUTH AFRICA</td>\n",
       "      <td>585</td>\n",
       "    </tr>\n",
       "    <tr>\n",
       "      <th>3</th>\n",
       "      <td>NEW ZEALAND</td>\n",
       "      <td>135</td>\n",
       "    </tr>\n",
       "    <tr>\n",
       "      <th>4</th>\n",
       "      <td>PAPUA NEW GUINEA</td>\n",
       "      <td>135</td>\n",
       "    </tr>\n",
       "    <tr>\n",
       "      <th>5</th>\n",
       "      <td>BAHAMAS</td>\n",
       "      <td>115</td>\n",
       "    </tr>\n",
       "    <tr>\n",
       "      <th>6</th>\n",
       "      <td>BRAZIL</td>\n",
       "      <td>113</td>\n",
       "    </tr>\n",
       "    <tr>\n",
       "      <th>7</th>\n",
       "      <td>MEXICO</td>\n",
       "      <td>95</td>\n",
       "    </tr>\n",
       "    <tr>\n",
       "      <th>8</th>\n",
       "      <td>ITALY</td>\n",
       "      <td>71</td>\n",
       "    </tr>\n",
       "    <tr>\n",
       "      <th>9</th>\n",
       "      <td>FIJI</td>\n",
       "      <td>62</td>\n",
       "    </tr>\n",
       "    <tr>\n",
       "      <th>10</th>\n",
       "      <td>PHILIPPINES</td>\n",
       "      <td>62</td>\n",
       "    </tr>\n",
       "    <tr>\n",
       "      <th>11</th>\n",
       "      <td>REUNION</td>\n",
       "      <td>60</td>\n",
       "    </tr>\n",
       "    <tr>\n",
       "      <th>12</th>\n",
       "      <td>NEW CALEDONIA</td>\n",
       "      <td>56</td>\n",
       "    </tr>\n",
       "    <tr>\n",
       "      <th>13</th>\n",
       "      <td>CUBA</td>\n",
       "      <td>46</td>\n",
       "    </tr>\n",
       "    <tr>\n",
       "      <th>14</th>\n",
       "      <td>MOZAMBIQUE</td>\n",
       "      <td>44</td>\n",
       "    </tr>\n",
       "    <tr>\n",
       "      <th>15</th>\n",
       "      <td>SPAIN</td>\n",
       "      <td>44</td>\n",
       "    </tr>\n",
       "    <tr>\n",
       "      <th>16</th>\n",
       "      <td>EGYPT</td>\n",
       "      <td>42</td>\n",
       "    </tr>\n",
       "    <tr>\n",
       "      <th>17</th>\n",
       "      <td>INDIA</td>\n",
       "      <td>40</td>\n",
       "    </tr>\n",
       "    <tr>\n",
       "      <th>18</th>\n",
       "      <td>JAPAN</td>\n",
       "      <td>34</td>\n",
       "    </tr>\n",
       "    <tr>\n",
       "      <th>19</th>\n",
       "      <td>CROATIA</td>\n",
       "      <td>34</td>\n",
       "    </tr>\n",
       "  </tbody>\n",
       "</table>\n",
       "</div>"
      ],
      "text/plain": [
       "             Country  count\n",
       "0                USA   2310\n",
       "1          AUSTRALIA   1374\n",
       "2       SOUTH AFRICA    585\n",
       "3        NEW ZEALAND    135\n",
       "4   PAPUA NEW GUINEA    135\n",
       "5            BAHAMAS    115\n",
       "6             BRAZIL    113\n",
       "7             MEXICO     95\n",
       "8              ITALY     71\n",
       "9               FIJI     62\n",
       "10       PHILIPPINES     62\n",
       "11           REUNION     60\n",
       "12     NEW CALEDONIA     56\n",
       "13              CUBA     46\n",
       "14        MOZAMBIQUE     44\n",
       "15             SPAIN     44\n",
       "16             EGYPT     42\n",
       "17             INDIA     40\n",
       "18             JAPAN     34\n",
       "19           CROATIA     34"
      ]
     },
     "execution_count": 5,
     "metadata": {},
     "output_type": "execute_result"
    }
   ],
   "source": [
    "\"\"\"\n",
    "The \"value_counts()\" function shows the occurrences of shark attacks by country.\n",
    "The \"reset_index()\" method converts the results into a DataFrame.\n",
    "Finally, \"head(20)\", wich is also a method exhibits the top twenty countries with the highest\n",
    "number of occurrences, offering a quick view of the most affected countries by shark attacks,\n",
    "Brazil (the country where I live) is in the seventh position.\n",
    "\"\"\"\n",
    "# Selecting the column 'Country' from the DataFrame and adding the function `value_counts()`\n",
    "# in order to create the 'count' column, so that we can find out the number of occurrences, respectively.\n",
    "df_country = df['Country'].value_counts()\n",
    "\n",
    "# Counting the occurrences of shark attacks by country and storing the result in a DataFrame\n",
    "df_country = df['Country'].value_counts().reset_index()\n",
    "\n",
    "# Displaying the top 20 countries with the highest number of shark attack occurrences\n",
    "df_country.head(20)"
   ]
  },
  {
   "cell_type": "code",
   "execution_count": 6,
   "metadata": {
    "execution": {
     "iopub.execute_input": "2024-06-25T01:51:13.323999Z",
     "iopub.status.busy": "2024-06-25T01:51:13.323544Z",
     "iopub.status.idle": "2024-06-25T01:51:13.693340Z",
     "shell.execute_reply": "2024-06-25T01:51:13.691923Z",
     "shell.execute_reply.started": "2024-06-25T01:51:13.323968Z"
    },
    "id": "DILKkdNC94fT"
   },
   "outputs": [
    {
     "data": {
      "image/png": "[encoded data removed]",
      "text/plain": [
       "<Figure size 640x480 with 1 Axes>"
      ]
     },
     "metadata": {},
     "output_type": "display_data"
    }
   ],
   "source": [
    "# Plotting a bar graph that shows the 20 countries with the most occurrences of shark attacks\n",
    "df_country.head(20).plot.bar('Country')\n",
    "\n",
    "# Adding a title to the graph\n",
    "plt.title(\"Number of Shark Attacks\")\n",
    "\n",
    "# Displaying the graph\n",
    "plt.show()"
   ]
  },
  {
   "cell_type": "markdown",
   "metadata": {},
   "source": [
    "As a percentage of the total, USA is 36% and Australia is 21%, so these two countries account for half of the total."
   ]
  },
  {
   "cell_type": "code",
   "execution_count": 7,
   "metadata": {
    "execution": {
     "iopub.execute_input": "2024-06-25T01:51:13.695263Z",
     "iopub.status.busy": "2024-06-25T01:51:13.694800Z",
     "iopub.status.idle": "2024-06-25T01:51:13.710102Z",
     "shell.execute_reply": "2024-06-25T01:51:13.708646Z",
     "shell.execute_reply.started": "2024-06-25T01:51:13.695224Z"
    },
    "scrolled": true
   },
   "outputs": [
    {
     "data": {
      "text/html": [
       "<div>\n",
       "<style scoped>\n",
       "    .dataframe tbody tr th:only-of-type {\n",
       "        vertical-align: middle;\n",
       "    }\n",
       "\n",
       "    .dataframe tbody tr th {\n",
       "        vertical-align: top;\n",
       "    }\n",
       "\n",
       "    .dataframe thead th {\n",
       "        text-align: right;\n",
       "    }\n",
       "</style>\n",
       "<table border=\"1\" class=\"dataframe\">\n",
       "  <thead>\n",
       "    <tr style=\"text-align: right;\">\n",
       "      <th></th>\n",
       "      <th>Country</th>\n",
       "      <th>count</th>\n",
       "      <th>rate</th>\n",
       "    </tr>\n",
       "  </thead>\n",
       "  <tbody>\n",
       "    <tr>\n",
       "      <th>0</th>\n",
       "      <td>USA</td>\n",
       "      <td>2310</td>\n",
       "      <td>0.360318</td>\n",
       "    </tr>\n",
       "    <tr>\n",
       "      <th>1</th>\n",
       "      <td>AUSTRALIA</td>\n",
       "      <td>1374</td>\n",
       "      <td>0.214319</td>\n",
       "    </tr>\n",
       "    <tr>\n",
       "      <th>2</th>\n",
       "      <td>SOUTH AFRICA</td>\n",
       "      <td>585</td>\n",
       "      <td>0.091249</td>\n",
       "    </tr>\n",
       "    <tr>\n",
       "      <th>3</th>\n",
       "      <td>NEW ZEALAND</td>\n",
       "      <td>135</td>\n",
       "      <td>0.021058</td>\n",
       "    </tr>\n",
       "    <tr>\n",
       "      <th>4</th>\n",
       "      <td>PAPUA NEW GUINEA</td>\n",
       "      <td>135</td>\n",
       "      <td>0.021058</td>\n",
       "    </tr>\n",
       "  </tbody>\n",
       "</table>\n",
       "</div>"
      ],
      "text/plain": [
       "            Country  count      rate\n",
       "0               USA   2310  0.360318\n",
       "1         AUSTRALIA   1374  0.214319\n",
       "2      SOUTH AFRICA    585  0.091249\n",
       "3       NEW ZEALAND    135  0.021058\n",
       "4  PAPUA NEW GUINEA    135  0.021058"
      ]
     },
     "execution_count": 7,
     "metadata": {},
     "output_type": "execute_result"
    }
   ],
   "source": [
    "# Calculate the rate of shark attack occurrences for each country relative to the total occurrences worldwide\n",
    "# by dividing the number of shark attack occurrences for each country by the total occurrences of all countries.\n",
    "# Add a new column 'rate' to the DataFrame df_country to store these rates.\n",
    "df_country['rate'] = df_country.iloc[:,1] / df_country['count'].sum()\n",
    "\n",
    "# Display the first five rows of the DataFrame df_country, including the new 'rate' column.\n",
    "df_country.head(5)"
   ]
  },
  {
   "cell_type": "code",
   "execution_count": 8,
   "metadata": {
    "execution": {
     "iopub.execute_input": "2024-06-25T01:51:13.711716Z",
     "iopub.status.busy": "2024-06-25T01:51:13.711368Z",
     "iopub.status.idle": "2024-06-25T01:51:13.741919Z",
     "shell.execute_reply": "2024-06-25T01:51:13.740593Z",
     "shell.execute_reply.started": "2024-06-25T01:51:13.711689Z"
    }
   },
   "outputs": [
    {
     "data": {
      "text/html": [
       "<div>\n",
       "<style scoped>\n",
       "    .dataframe tbody tr th:only-of-type {\n",
       "        vertical-align: middle;\n",
       "    }\n",
       "\n",
       "    .dataframe tbody tr th {\n",
       "        vertical-align: top;\n",
       "    }\n",
       "\n",
       "    .dataframe thead th {\n",
       "        text-align: right;\n",
       "    }\n",
       "</style>\n",
       "<table border=\"1\" class=\"dataframe\">\n",
       "  <thead>\n",
       "    <tr style=\"text-align: right;\">\n",
       "      <th></th>\n",
       "      <th>Country</th>\n",
       "      <th>Area</th>\n",
       "      <th>Type</th>\n",
       "    </tr>\n",
       "  </thead>\n",
       "  <tbody>\n",
       "    <tr>\n",
       "      <th>787</th>\n",
       "      <td>USA</td>\n",
       "      <td>Florida</td>\n",
       "      <td>1076</td>\n",
       "    </tr>\n",
       "    <tr>\n",
       "      <th>11</th>\n",
       "      <td>AUSTRALIA</td>\n",
       "      <td>New South Wales</td>\n",
       "      <td>498</td>\n",
       "    </tr>\n",
       "    <tr>\n",
       "      <th>14</th>\n",
       "      <td>AUSTRALIA</td>\n",
       "      <td>Queensland</td>\n",
       "      <td>325</td>\n",
       "    </tr>\n",
       "    <tr>\n",
       "      <th>790</th>\n",
       "      <td>USA</td>\n",
       "      <td>Hawaii</td>\n",
       "      <td>312</td>\n",
       "    </tr>\n",
       "    <tr>\n",
       "      <th>782</th>\n",
       "      <td>USA</td>\n",
       "      <td>California</td>\n",
       "      <td>294</td>\n",
       "    </tr>\n",
       "    <tr>\n",
       "      <th>679</th>\n",
       "      <td>SOUTH AFRICA</td>\n",
       "      <td>KwaZulu-Natal</td>\n",
       "      <td>215</td>\n",
       "    </tr>\n",
       "    <tr>\n",
       "      <th>21</th>\n",
       "      <td>AUSTRALIA</td>\n",
       "      <td>Western Australia</td>\n",
       "      <td>197</td>\n",
       "    </tr>\n",
       "    <tr>\n",
       "      <th>683</th>\n",
       "      <td>SOUTH AFRICA</td>\n",
       "      <td>Western Cape Province</td>\n",
       "      <td>195</td>\n",
       "    </tr>\n",
       "    <tr>\n",
       "      <th>677</th>\n",
       "      <td>SOUTH AFRICA</td>\n",
       "      <td>Eastern Cape Province</td>\n",
       "      <td>165</td>\n",
       "    </tr>\n",
       "    <tr>\n",
       "      <th>812</th>\n",
       "      <td>USA</td>\n",
       "      <td>South Carolina</td>\n",
       "      <td>162</td>\n",
       "    </tr>\n",
       "    <tr>\n",
       "      <th>806</th>\n",
       "      <td>USA</td>\n",
       "      <td>North Carolina</td>\n",
       "      <td>111</td>\n",
       "    </tr>\n",
       "    <tr>\n",
       "      <th>15</th>\n",
       "      <td>AUSTRALIA</td>\n",
       "      <td>South Australia</td>\n",
       "      <td>104</td>\n",
       "    </tr>\n",
       "    <tr>\n",
       "      <th>19</th>\n",
       "      <td>AUSTRALIA</td>\n",
       "      <td>Victoria</td>\n",
       "      <td>91</td>\n",
       "    </tr>\n",
       "    <tr>\n",
       "      <th>813</th>\n",
       "      <td>USA</td>\n",
       "      <td>Texas</td>\n",
       "      <td>75</td>\n",
       "    </tr>\n",
       "    <tr>\n",
       "      <th>61</th>\n",
       "      <td>BRAZIL</td>\n",
       "      <td>Pernambuco</td>\n",
       "      <td>74</td>\n",
       "    </tr>\n",
       "    <tr>\n",
       "      <th>18</th>\n",
       "      <td>AUSTRALIA</td>\n",
       "      <td>Torres Strait</td>\n",
       "      <td>72</td>\n",
       "    </tr>\n",
       "    <tr>\n",
       "      <th>468</th>\n",
       "      <td>NEW ZEALAND</td>\n",
       "      <td>North Island</td>\n",
       "      <td>70</td>\n",
       "    </tr>\n",
       "    <tr>\n",
       "      <th>802</th>\n",
       "      <td>USA</td>\n",
       "      <td>New Jersey</td>\n",
       "      <td>55</td>\n",
       "    </tr>\n",
       "    <tr>\n",
       "      <th>16</th>\n",
       "      <td>AUSTRALIA</td>\n",
       "      <td>Tasmania</td>\n",
       "      <td>42</td>\n",
       "    </tr>\n",
       "    <tr>\n",
       "      <th>471</th>\n",
       "      <td>NEW ZEALAND</td>\n",
       "      <td>South Island</td>\n",
       "      <td>41</td>\n",
       "    </tr>\n",
       "  </tbody>\n",
       "</table>\n",
       "</div>"
      ],
      "text/plain": [
       "          Country                   Area  Type\n",
       "787           USA                Florida  1076\n",
       "11      AUSTRALIA        New South Wales   498\n",
       "14      AUSTRALIA             Queensland   325\n",
       "790           USA                 Hawaii   312\n",
       "782           USA             California   294\n",
       "679  SOUTH AFRICA          KwaZulu-Natal   215\n",
       "21      AUSTRALIA      Western Australia   197\n",
       "683  SOUTH AFRICA  Western Cape Province   195\n",
       "677  SOUTH AFRICA  Eastern Cape Province   165\n",
       "812           USA         South Carolina   162\n",
       "806           USA         North Carolina   111\n",
       "15      AUSTRALIA        South Australia   104\n",
       "19      AUSTRALIA               Victoria    91\n",
       "813           USA                  Texas    75\n",
       "61         BRAZIL             Pernambuco    74\n",
       "18      AUSTRALIA          Torres Strait    72\n",
       "468   NEW ZEALAND           North Island    70\n",
       "802           USA             New Jersey    55\n",
       "16      AUSTRALIA               Tasmania    42\n",
       "471   NEW ZEALAND           South Island    41"
      ]
     },
     "execution_count": 8,
     "metadata": {},
     "output_type": "execute_result"
    }
   ],
   "source": [
    "# The count of shark attacks is stored in the column 'Type'.\n",
    "# The reset_index() method is used to reset the index of the resulting DataFrame, ensuring that \n",
    "# the row labels are sequential integers, since that facilitates the access to specific rows and enhances\n",
    "# compatibility with various data manipulation operations in many libraries. \n",
    "df_Area = df[['Country','Area','Type']].groupby(['Country','Area']).count().reset_index().sort_values('Type',ascending=False)\n",
    "\n",
    "df_Area.head(20)"
   ]
  },
  {
   "cell_type": "markdown",
   "metadata": {},
   "source": [
    "# Geolocation Data (Importing and Processing)"
   ]
  },
  {
   "cell_type": "code",
   "execution_count": 9,
   "metadata": {
    "execution": {
     "iopub.execute_input": "2024-06-25T01:51:13.744036Z",
     "iopub.status.busy": "2024-06-25T01:51:13.743619Z",
     "iopub.status.idle": "2024-06-25T01:51:14.149360Z",
     "shell.execute_reply": "2024-06-25T01:51:14.147866Z",
     "shell.execute_reply.started": "2024-06-25T01:51:13.744005Z"
    }
   },
   "outputs": [],
   "source": [
    "# Opening the dataset [Geolocation Data](https://www.kaggle.com/datasets/liewyousheng/geolocation/data)\n",
    "# and reading the 'inputs/geolocation/cities.csv' file in order to obtain a better parameter in geolocation\n",
    "# and cross with the data from the Shark dataset.\n",
    "place_data = pd.read_csv('./inputs/geolocation/cities.csv')"
   ]
  },
  {
   "cell_type": "code",
   "execution_count": 10,
   "metadata": {
    "execution": {
     "iopub.execute_input": "2024-06-25T01:51:14.153732Z",
     "iopub.status.busy": "2024-06-25T01:51:14.153341Z",
     "iopub.status.idle": "2024-06-25T01:51:14.201284Z",
     "shell.execute_reply": "2024-06-25T01:51:14.200075Z",
     "shell.execute_reply.started": "2024-06-25T01:51:14.153698Z"
    }
   },
   "outputs": [],
   "source": [
    "# Selecting only the columns 'state_name', 'country_name', 'latitude', and 'longitude' from the DataFrame place_data\n",
    "# and storing the result back into the variable place_data.\n",
    "place_data = place_data[['state_name','country_name','latitude','longitude']]\n",
    "\n",
    "# Cleaning the data by removing duplicate rows based on the combination of 'state_name' and 'country_name'\n",
    "# subset parameter specifies the columns to consider when identifying duplicates.\n",
    "# In this case, we want to drop rows where both 'state_name' and 'country_name' are the same.\n",
    "place_data = place_data.drop_duplicates(subset=['state_name','country_name'])"
   ]
  },
  {
   "cell_type": "code",
   "execution_count": 11,
   "metadata": {
    "execution": {
     "iopub.execute_input": "2024-06-25T01:51:14.202885Z",
     "iopub.status.busy": "2024-06-25T01:51:14.202533Z",
     "iopub.status.idle": "2024-06-25T01:51:14.222597Z",
     "shell.execute_reply": "2024-06-25T01:51:14.221270Z",
     "shell.execute_reply.started": "2024-06-25T01:51:14.202855Z"
    }
   },
   "outputs": [
    {
     "data": {
      "text/html": [
       "<div>\n",
       "<style scoped>\n",
       "    .dataframe tbody tr th:only-of-type {\n",
       "        vertical-align: middle;\n",
       "    }\n",
       "\n",
       "    .dataframe tbody tr th {\n",
       "        vertical-align: top;\n",
       "    }\n",
       "\n",
       "    .dataframe thead th {\n",
       "        text-align: right;\n",
       "    }\n",
       "</style>\n",
       "<table border=\"1\" class=\"dataframe\">\n",
       "  <thead>\n",
       "    <tr style=\"text-align: right;\">\n",
       "      <th></th>\n",
       "      <th>state_name</th>\n",
       "      <th>country_name</th>\n",
       "      <th>latitude</th>\n",
       "      <th>longitude</th>\n",
       "    </tr>\n",
       "  </thead>\n",
       "  <tbody>\n",
       "    <tr>\n",
       "      <th>0</th>\n",
       "      <td>badakhshan</td>\n",
       "      <td>Afghanistan</td>\n",
       "      <td>36.68333</td>\n",
       "      <td>71.53333</td>\n",
       "    </tr>\n",
       "    <tr>\n",
       "      <th>6</th>\n",
       "      <td>badghis</td>\n",
       "      <td>Afghanistan</td>\n",
       "      <td>35.73062</td>\n",
       "      <td>63.78264</td>\n",
       "    </tr>\n",
       "    <tr>\n",
       "      <th>8</th>\n",
       "      <td>baghlan</td>\n",
       "      <td>Afghanistan</td>\n",
       "      <td>36.13068</td>\n",
       "      <td>68.70829</td>\n",
       "    </tr>\n",
       "    <tr>\n",
       "      <th>12</th>\n",
       "      <td>balkh</td>\n",
       "      <td>Afghanistan</td>\n",
       "      <td>36.75635</td>\n",
       "      <td>66.89720</td>\n",
       "    </tr>\n",
       "    <tr>\n",
       "      <th>18</th>\n",
       "      <td>bamyan</td>\n",
       "      <td>Afghanistan</td>\n",
       "      <td>34.82156</td>\n",
       "      <td>67.82734</td>\n",
       "    </tr>\n",
       "    <tr>\n",
       "      <th>20</th>\n",
       "      <td>daykundi</td>\n",
       "      <td>Afghanistan</td>\n",
       "      <td>33.76329</td>\n",
       "      <td>66.07617</td>\n",
       "    </tr>\n",
       "    <tr>\n",
       "      <th>21</th>\n",
       "      <td>farah</td>\n",
       "      <td>Afghanistan</td>\n",
       "      <td>32.37451</td>\n",
       "      <td>62.11638</td>\n",
       "    </tr>\n",
       "    <tr>\n",
       "      <th>22</th>\n",
       "      <td>faryab</td>\n",
       "      <td>Afghanistan</td>\n",
       "      <td>36.95293</td>\n",
       "      <td>65.12376</td>\n",
       "    </tr>\n",
       "    <tr>\n",
       "      <th>24</th>\n",
       "      <td>ghazni</td>\n",
       "      <td>Afghanistan</td>\n",
       "      <td>33.55391</td>\n",
       "      <td>68.42096</td>\n",
       "    </tr>\n",
       "    <tr>\n",
       "      <th>25</th>\n",
       "      <td>ghōr</td>\n",
       "      <td>Afghanistan</td>\n",
       "      <td>34.51952</td>\n",
       "      <td>65.25093</td>\n",
       "    </tr>\n",
       "  </tbody>\n",
       "</table>\n",
       "</div>"
      ],
      "text/plain": [
       "    state_name country_name  latitude  longitude\n",
       "0   badakhshan  Afghanistan  36.68333   71.53333\n",
       "6      badghis  Afghanistan  35.73062   63.78264\n",
       "8      baghlan  Afghanistan  36.13068   68.70829\n",
       "12       balkh  Afghanistan  36.75635   66.89720\n",
       "18      bamyan  Afghanistan  34.82156   67.82734\n",
       "20    daykundi  Afghanistan  33.76329   66.07617\n",
       "21       farah  Afghanistan  32.37451   62.11638\n",
       "22      faryab  Afghanistan  36.95293   65.12376\n",
       "24      ghazni  Afghanistan  33.55391   68.42096\n",
       "25        ghōr  Afghanistan  34.51952   65.25093"
      ]
     },
     "execution_count": 11,
     "metadata": {},
     "output_type": "execute_result"
    }
   ],
   "source": [
    "# Manipulating string data in the 'state_name' column of the 'place_data' DataFrame:\n",
    "# 1. Converting all letters in the 'state_name' column to lowercase using the str.lower() method.\n",
    "place_data['state_name'] = place_data['state_name'].str.lower()\n",
    "\n",
    "# 2. Removing all whitespace characters (' ') from the 'state_name' column using the str.replace() method.\n",
    "# This step ensures consistency in string formatting and removes unnecessary whitespace.\n",
    "place_data['state_name'] = place_data['state_name'].str.replace(' ', '')\n",
    "\n",
    "place_data.head(10)"
   ]
  },
  {
   "cell_type": "code",
   "execution_count": 12,
   "metadata": {
    "execution": {
     "iopub.execute_input": "2024-06-25T01:51:14.224508Z",
     "iopub.status.busy": "2024-06-25T01:51:14.224171Z",
     "iopub.status.idle": "2024-06-25T01:51:14.238366Z",
     "shell.execute_reply": "2024-06-25T01:51:14.237155Z",
     "shell.execute_reply.started": "2024-06-25T01:51:14.224476Z"
    }
   },
   "outputs": [
    {
     "data": {
      "text/plain": [
       "(3429, 4)"
      ]
     },
     "execution_count": 12,
     "metadata": {},
     "output_type": "execute_result"
    }
   ],
   "source": [
    "\"\"\"\n",
    "The shape attribute of a DataFrame or a NumPy array returns a tuple representing the dimensions of the \n",
    "data structure. In the specific case of place_data.shape, it returns \n",
    "a tuple with two elements: the first element represents the number of rows (or entries) \n",
    "in the DataFrame or array, and the second element represents the number of columns (or features) \n",
    "in the DataFrame or array. Therefore, when calling place_data.shape, you will obtain the \n",
    "total number of entries (or records) and the total number of features (or variables) in the DataFrame place_data. \n",
    "This is useful for understanding the data structure and determining its dimensions \n",
    "before performing additional operations or analyses.\n",
    "\"\"\"\n",
    "place_data.shape"
   ]
  },
  {
   "cell_type": "markdown",
   "metadata": {},
   "source": [
    "# Data Merge"
   ]
  },
  {
   "cell_type": "code",
   "execution_count": 13,
   "metadata": {
    "execution": {
     "iopub.execute_input": "2024-06-25T01:51:14.240299Z",
     "iopub.status.busy": "2024-06-25T01:51:14.239919Z",
     "iopub.status.idle": "2024-06-25T01:51:14.262538Z",
     "shell.execute_reply": "2024-06-25T01:51:14.261013Z",
     "shell.execute_reply.started": "2024-06-25T01:51:14.240268Z"
    }
   },
   "outputs": [
    {
     "data": {
      "text/html": [
       "<div>\n",
       "<style scoped>\n",
       "    .dataframe tbody tr th:only-of-type {\n",
       "        vertical-align: middle;\n",
       "    }\n",
       "\n",
       "    .dataframe tbody tr th {\n",
       "        vertical-align: top;\n",
       "    }\n",
       "\n",
       "    .dataframe thead th {\n",
       "        text-align: right;\n",
       "    }\n",
       "</style>\n",
       "<table border=\"1\" class=\"dataframe\">\n",
       "  <thead>\n",
       "    <tr style=\"text-align: right;\">\n",
       "      <th></th>\n",
       "      <th>Case Number</th>\n",
       "      <th>Date</th>\n",
       "      <th>Year</th>\n",
       "      <th>Type</th>\n",
       "      <th>Country</th>\n",
       "      <th>Area</th>\n",
       "      <th>Location</th>\n",
       "      <th>Activity</th>\n",
       "      <th>Name</th>\n",
       "      <th>Victim's Gender</th>\n",
       "      <th>Age</th>\n",
       "      <th>Time</th>\n",
       "      <th>Species</th>\n",
       "      <th>Fatal</th>\n",
       "      <th>Injury</th>\n",
       "    </tr>\n",
       "  </thead>\n",
       "  <tbody>\n",
       "    <tr>\n",
       "      <th>0</th>\n",
       "      <td>2020.02.05</td>\n",
       "      <td>05-Feb-2020</td>\n",
       "      <td>2020.0</td>\n",
       "      <td>Unprovoked</td>\n",
       "      <td>USA</td>\n",
       "      <td>Maui</td>\n",
       "      <td>NaN</td>\n",
       "      <td>Stand-Up Paddle boarding</td>\n",
       "      <td>NaN</td>\n",
       "      <td>NaN</td>\n",
       "      <td>NaN</td>\n",
       "      <td>09h40</td>\n",
       "      <td>Tiger shark</td>\n",
       "      <td>N</td>\n",
       "      <td>No injury, but paddleboard bitten</td>\n",
       "    </tr>\n",
       "    <tr>\n",
       "      <th>1</th>\n",
       "      <td>2020.01.30.R</td>\n",
       "      <td>Reported 30-Jan-2020</td>\n",
       "      <td>2020.0</td>\n",
       "      <td>Provoked</td>\n",
       "      <td>BAHAMAS</td>\n",
       "      <td>Exumas</td>\n",
       "      <td>NaN</td>\n",
       "      <td>Floating</td>\n",
       "      <td>Ana Bruna Avila</td>\n",
       "      <td>F</td>\n",
       "      <td>24</td>\n",
       "      <td>NaN</td>\n",
       "      <td>NaN</td>\n",
       "      <td>N</td>\n",
       "      <td>PROVOKED INCIDENT Scratches to left wrist</td>\n",
       "    </tr>\n",
       "    <tr>\n",
       "      <th>2</th>\n",
       "      <td>2020.01.17</td>\n",
       "      <td>17-Jan-2020</td>\n",
       "      <td>2020.0</td>\n",
       "      <td>Unprovoked</td>\n",
       "      <td>AUSTRALIA</td>\n",
       "      <td>New South Wales</td>\n",
       "      <td>Windang Beach</td>\n",
       "      <td>Surfing</td>\n",
       "      <td>Will Schroeter</td>\n",
       "      <td>M</td>\n",
       "      <td>59</td>\n",
       "      <td>08h00</td>\n",
       "      <td>\"A small shark\"</td>\n",
       "      <td>N</td>\n",
       "      <td>Laceration ot left ankle and foot</td>\n",
       "    </tr>\n",
       "    <tr>\n",
       "      <th>3</th>\n",
       "      <td>2020.01.16</td>\n",
       "      <td>16-Jan-2020</td>\n",
       "      <td>2020.0</td>\n",
       "      <td>Unprovoked</td>\n",
       "      <td>NEW ZEALAND</td>\n",
       "      <td>Southland</td>\n",
       "      <td>Oreti Beach</td>\n",
       "      <td>Surfing</td>\n",
       "      <td>Jordan King</td>\n",
       "      <td>F</td>\n",
       "      <td>13</td>\n",
       "      <td>20h30</td>\n",
       "      <td>Broadnose seven gill shark?</td>\n",
       "      <td>N</td>\n",
       "      <td>Minor injury to lower leg</td>\n",
       "    </tr>\n",
       "    <tr>\n",
       "      <th>4</th>\n",
       "      <td>2020.01.13</td>\n",
       "      <td>13-Jan-2020</td>\n",
       "      <td>2020.0</td>\n",
       "      <td>Unprovoked</td>\n",
       "      <td>USA</td>\n",
       "      <td>North Carolina</td>\n",
       "      <td>Rodanthe, Dare County</td>\n",
       "      <td>Surfing</td>\n",
       "      <td>Samuel Horne</td>\n",
       "      <td>M</td>\n",
       "      <td>26</td>\n",
       "      <td>14h33</td>\n",
       "      <td>NaN</td>\n",
       "      <td>N</td>\n",
       "      <td>Lacerations to foot</td>\n",
       "    </tr>\n",
       "  </tbody>\n",
       "</table>\n",
       "</div>"
      ],
      "text/plain": [
       "    Case Number                  Date    Year        Type      Country  \\\n",
       "0    2020.02.05           05-Feb-2020  2020.0  Unprovoked          USA   \n",
       "1  2020.01.30.R  Reported 30-Jan-2020  2020.0    Provoked      BAHAMAS   \n",
       "2    2020.01.17           17-Jan-2020  2020.0  Unprovoked    AUSTRALIA   \n",
       "3    2020.01.16           16-Jan-2020  2020.0  Unprovoked  NEW ZEALAND   \n",
       "4    2020.01.13           13-Jan-2020  2020.0  Unprovoked          USA   \n",
       "\n",
       "              Area               Location                  Activity  \\\n",
       "0             Maui                    NaN  Stand-Up Paddle boarding   \n",
       "1           Exumas                    NaN                  Floating   \n",
       "2  New South Wales          Windang Beach                   Surfing   \n",
       "3        Southland            Oreti Beach                   Surfing   \n",
       "4   North Carolina  Rodanthe, Dare County                   Surfing   \n",
       "\n",
       "              Name Victim's Gender  Age   Time                      Species  \\\n",
       "0              NaN             NaN  NaN  09h40                  Tiger shark   \n",
       "1  Ana Bruna Avila               F   24    NaN                          NaN   \n",
       "2   Will Schroeter               M   59  08h00              \"A small shark\"   \n",
       "3      Jordan King               F   13  20h30  Broadnose seven gill shark?   \n",
       "4     Samuel Horne               M   26  14h33                          NaN   \n",
       "\n",
       "  Fatal                                     Injury  \n",
       "0     N          No injury, but paddleboard bitten  \n",
       "1     N  PROVOKED INCIDENT Scratches to left wrist  \n",
       "2     N          Laceration ot left ankle and foot  \n",
       "3     N                  Minor injury to lower leg  \n",
       "4     N                        Lacerations to foot  "
      ]
     },
     "execution_count": 13,
     "metadata": {},
     "output_type": "execute_result"
    }
   ],
   "source": [
    "df.head()"
   ]
  },
  {
   "cell_type": "code",
   "execution_count": 14,
   "metadata": {
    "execution": {
     "iopub.execute_input": "2024-06-25T01:51:14.264307Z",
     "iopub.status.busy": "2024-06-25T01:51:14.263926Z",
     "iopub.status.idle": "2024-06-25T01:51:14.286205Z",
     "shell.execute_reply": "2024-06-25T01:51:14.285108Z",
     "shell.execute_reply.started": "2024-06-25T01:51:14.264276Z"
    }
   },
   "outputs": [
    {
     "name": "stderr",
     "output_type": "stream",
     "text": [
      "/tmp/ipykernel_63325/4293545080.py:8: SettingWithCopyWarning: \n",
      "A value is trying to be set on a copy of a slice from a DataFrame.\n",
      "Try using .loc[row_indexer,col_indexer] = value instead\n",
      "\n",
      "See the caveats in the documentation: https://pandas.pydata.org/pandas-docs/stable/user_guide/indexing.html#returning-a-view-versus-a-copy\n",
      "  df_only_Area['state_name'] = df_only_Area['state_name'].str.lower()\n",
      "/tmp/ipykernel_63325/4293545080.py:11: SettingWithCopyWarning: \n",
      "A value is trying to be set on a copy of a slice from a DataFrame.\n",
      "Try using .loc[row_indexer,col_indexer] = value instead\n",
      "\n",
      "See the caveats in the documentation: https://pandas.pydata.org/pandas-docs/stable/user_guide/indexing.html#returning-a-view-versus-a-copy\n",
      "  df_only_Area['state_name'] = df_only_Area['state_name'].str.replace(' ', '')\n"
     ]
    },
    {
     "data": {
      "text/html": [
       "<div>\n",
       "<style scoped>\n",
       "    .dataframe tbody tr th:only-of-type {\n",
       "        vertical-align: middle;\n",
       "    }\n",
       "\n",
       "    .dataframe tbody tr th {\n",
       "        vertical-align: top;\n",
       "    }\n",
       "\n",
       "    .dataframe thead th {\n",
       "        text-align: right;\n",
       "    }\n",
       "</style>\n",
       "<table border=\"1\" class=\"dataframe\">\n",
       "  <thead>\n",
       "    <tr style=\"text-align: right;\">\n",
       "      <th></th>\n",
       "      <th>Country</th>\n",
       "      <th>state_name</th>\n",
       "    </tr>\n",
       "  </thead>\n",
       "  <tbody>\n",
       "    <tr>\n",
       "      <th>0</th>\n",
       "      <td>USA</td>\n",
       "      <td>maui</td>\n",
       "    </tr>\n",
       "    <tr>\n",
       "      <th>1</th>\n",
       "      <td>BAHAMAS</td>\n",
       "      <td>exumas</td>\n",
       "    </tr>\n",
       "    <tr>\n",
       "      <th>2</th>\n",
       "      <td>AUSTRALIA</td>\n",
       "      <td>newsouthwales</td>\n",
       "    </tr>\n",
       "    <tr>\n",
       "      <th>3</th>\n",
       "      <td>NEW ZEALAND</td>\n",
       "      <td>southland</td>\n",
       "    </tr>\n",
       "    <tr>\n",
       "      <th>4</th>\n",
       "      <td>USA</td>\n",
       "      <td>northcarolina</td>\n",
       "    </tr>\n",
       "  </tbody>\n",
       "</table>\n",
       "</div>"
      ],
      "text/plain": [
       "       Country     state_name\n",
       "0          USA           maui\n",
       "1      BAHAMAS         exumas\n",
       "2    AUSTRALIA  newsouthwales\n",
       "3  NEW ZEALAND      southland\n",
       "4          USA  northcarolina"
      ]
     },
     "execution_count": 14,
     "metadata": {},
     "output_type": "execute_result"
    }
   ],
   "source": [
    "# Create a new DataFrame containing only the 'Country' and 'Area' columns from the original DataFrame\n",
    "df_only_Area = df[['Country', 'Area']]\n",
    "\n",
    "# Rename the 'Area' column to 'state_name' in order to reflect its content more accurately\n",
    "df_only_Area.columns = ['Country', 'state_name']\n",
    "\n",
    "# Convert the values in the 'state_name' column to lowercase\n",
    "df_only_Area['state_name'] = df_only_Area['state_name'].str.lower()\n",
    "\n",
    "# Remove whitespace characters from the values in the 'state_name' column\n",
    "df_only_Area['state_name'] = df_only_Area['state_name'].str.replace(' ', '')\n",
    "\n",
    "# Display the first few rows of the preprocessed DataFrame\n",
    "df_only_Area.head()"
   ]
  },
  {
   "cell_type": "code",
   "execution_count": 15,
   "metadata": {
    "execution": {
     "iopub.execute_input": "2024-06-25T01:51:14.287723Z",
     "iopub.status.busy": "2024-06-25T01:51:14.287410Z",
     "iopub.status.idle": "2024-06-25T01:51:14.298681Z",
     "shell.execute_reply": "2024-06-25T01:51:14.297345Z",
     "shell.execute_reply.started": "2024-06-25T01:51:14.287699Z"
    }
   },
   "outputs": [
    {
     "data": {
      "text/plain": [
       "Country        51\n",
       "state_name    463\n",
       "dtype: int64"
      ]
     },
     "execution_count": 15,
     "metadata": {},
     "output_type": "execute_result"
    }
   ],
   "source": [
    "df_only_Area.isnull().sum()"
   ]
  },
  {
   "cell_type": "code",
   "execution_count": 16,
   "metadata": {
    "execution": {
     "iopub.execute_input": "2024-06-25T01:51:14.300614Z",
     "iopub.status.busy": "2024-06-25T01:51:14.300280Z",
     "iopub.status.idle": "2024-06-25T01:51:14.327991Z",
     "shell.execute_reply": "2024-06-25T01:51:14.326898Z",
     "shell.execute_reply.started": "2024-06-25T01:51:14.300585Z"
    }
   },
   "outputs": [
    {
     "name": "stdout",
     "output_type": "stream",
     "text": [
      "(6704, 5)\n"
     ]
    },
    {
     "data": {
      "text/html": [
       "<div>\n",
       "<style scoped>\n",
       "    .dataframe tbody tr th:only-of-type {\n",
       "        vertical-align: middle;\n",
       "    }\n",
       "\n",
       "    .dataframe tbody tr th {\n",
       "        vertical-align: top;\n",
       "    }\n",
       "\n",
       "    .dataframe thead th {\n",
       "        text-align: right;\n",
       "    }\n",
       "</style>\n",
       "<table border=\"1\" class=\"dataframe\">\n",
       "  <thead>\n",
       "    <tr style=\"text-align: right;\">\n",
       "      <th></th>\n",
       "      <th>Country</th>\n",
       "      <th>state_name</th>\n",
       "      <th>country_name</th>\n",
       "      <th>latitude</th>\n",
       "      <th>longitude</th>\n",
       "    </tr>\n",
       "  </thead>\n",
       "  <tbody>\n",
       "    <tr>\n",
       "      <th>0</th>\n",
       "      <td>USA</td>\n",
       "      <td>maui</td>\n",
       "      <td>NaN</td>\n",
       "      <td>NaN</td>\n",
       "      <td>NaN</td>\n",
       "    </tr>\n",
       "    <tr>\n",
       "      <th>1</th>\n",
       "      <td>BAHAMAS</td>\n",
       "      <td>exumas</td>\n",
       "      <td>NaN</td>\n",
       "      <td>NaN</td>\n",
       "      <td>NaN</td>\n",
       "    </tr>\n",
       "    <tr>\n",
       "      <th>2</th>\n",
       "      <td>AUSTRALIA</td>\n",
       "      <td>newsouthwales</td>\n",
       "      <td>Australia</td>\n",
       "      <td>-33.87010</td>\n",
       "      <td>150.86119</td>\n",
       "    </tr>\n",
       "    <tr>\n",
       "      <th>3</th>\n",
       "      <td>NEW ZEALAND</td>\n",
       "      <td>southland</td>\n",
       "      <td>NaN</td>\n",
       "      <td>NaN</td>\n",
       "      <td>NaN</td>\n",
       "    </tr>\n",
       "    <tr>\n",
       "      <th>4</th>\n",
       "      <td>USA</td>\n",
       "      <td>northcarolina</td>\n",
       "      <td>United States</td>\n",
       "      <td>35.13155</td>\n",
       "      <td>-79.42948</td>\n",
       "    </tr>\n",
       "  </tbody>\n",
       "</table>\n",
       "</div>"
      ],
      "text/plain": [
       "       Country     state_name   country_name  latitude  longitude\n",
       "0          USA           maui            NaN       NaN        NaN\n",
       "1      BAHAMAS         exumas            NaN       NaN        NaN\n",
       "2    AUSTRALIA  newsouthwales      Australia -33.87010  150.86119\n",
       "3  NEW ZEALAND      southland            NaN       NaN        NaN\n",
       "4          USA  northcarolina  United States  35.13155  -79.42948"
      ]
     },
     "execution_count": 16,
     "metadata": {},
     "output_type": "execute_result"
    }
   ],
   "source": [
    "# Perform a left join operation to merge the DataFrame df_only_Area (left) with the place_data DataFrame (right) \n",
    "# on the 'state_name' column. This operation is useful when we want to retain all the data from the left DataFrame \n",
    "# (df_only_Area) and only add additional information from the right DataFrame (place_data) where available.\n",
    "df_join = pd.merge(df_only_Area, place_data, how='left', on='state_name')\n",
    "\n",
    "# Display the shape of the resulting DataFrame to check the number of rows and columns\n",
    "print(df_join.shape)\n",
    "\n",
    "# Display the first few rows of the merged DataFrame\n",
    "df_join.head()"
   ]
  },
  {
   "cell_type": "markdown",
   "metadata": {},
   "source": [
    "Since the two sets of data have different purposes, there are null data that have not been combined well.\n",
    "In this case, all nulls will be excluded."
   ]
  },
  {
   "cell_type": "code",
   "execution_count": 17,
   "metadata": {
    "execution": {
     "iopub.execute_input": "2024-06-25T01:51:14.329506Z",
     "iopub.status.busy": "2024-06-25T01:51:14.329202Z",
     "iopub.status.idle": "2024-06-25T01:51:14.340409Z",
     "shell.execute_reply": "2024-06-25T01:51:14.338777Z",
     "shell.execute_reply.started": "2024-06-25T01:51:14.329479Z"
    }
   },
   "outputs": [
    {
     "data": {
      "text/plain": [
       "Country           51\n",
       "state_name       463\n",
       "country_name    2152\n",
       "latitude        2152\n",
       "longitude       2152\n",
       "dtype: int64"
      ]
     },
     "execution_count": 17,
     "metadata": {},
     "output_type": "execute_result"
    }
   ],
   "source": [
    "# Check for missing values in the merged DataFrame df_join\n",
    "df_join.isnull().sum()"
   ]
  },
  {
   "cell_type": "code",
   "execution_count": 18,
   "metadata": {
    "execution": {
     "iopub.execute_input": "2024-06-25T01:51:14.342314Z",
     "iopub.status.busy": "2024-06-25T01:51:14.341940Z",
     "iopub.status.idle": "2024-06-25T01:51:14.358620Z",
     "shell.execute_reply": "2024-06-25T01:51:14.357341Z",
     "shell.execute_reply.started": "2024-06-25T01:51:14.342284Z"
    }
   },
   "outputs": [
    {
     "data": {
      "text/html": [
       "<div>\n",
       "<style scoped>\n",
       "    .dataframe tbody tr th:only-of-type {\n",
       "        vertical-align: middle;\n",
       "    }\n",
       "\n",
       "    .dataframe tbody tr th {\n",
       "        vertical-align: top;\n",
       "    }\n",
       "\n",
       "    .dataframe thead th {\n",
       "        text-align: right;\n",
       "    }\n",
       "</style>\n",
       "<table border=\"1\" class=\"dataframe\">\n",
       "  <thead>\n",
       "    <tr style=\"text-align: right;\">\n",
       "      <th></th>\n",
       "      <th>Country</th>\n",
       "      <th>state_name</th>\n",
       "      <th>country_name</th>\n",
       "      <th>latitude</th>\n",
       "      <th>longitude</th>\n",
       "    </tr>\n",
       "  </thead>\n",
       "  <tbody>\n",
       "    <tr>\n",
       "      <th>0</th>\n",
       "      <td>USA</td>\n",
       "      <td>maui</td>\n",
       "      <td>NaN</td>\n",
       "      <td>NaN</td>\n",
       "      <td>NaN</td>\n",
       "    </tr>\n",
       "    <tr>\n",
       "      <th>1</th>\n",
       "      <td>BAHAMAS</td>\n",
       "      <td>exumas</td>\n",
       "      <td>NaN</td>\n",
       "      <td>NaN</td>\n",
       "      <td>NaN</td>\n",
       "    </tr>\n",
       "    <tr>\n",
       "      <th>3</th>\n",
       "      <td>NEW ZEALAND</td>\n",
       "      <td>southland</td>\n",
       "      <td>NaN</td>\n",
       "      <td>NaN</td>\n",
       "      <td>NaN</td>\n",
       "    </tr>\n",
       "    <tr>\n",
       "      <th>5</th>\n",
       "      <td>THAILAND</td>\n",
       "      <td>phangngaprovince</td>\n",
       "      <td>NaN</td>\n",
       "      <td>NaN</td>\n",
       "      <td>NaN</td>\n",
       "    </tr>\n",
       "    <tr>\n",
       "      <th>8</th>\n",
       "      <td>NEW CALEDONIA</td>\n",
       "      <td>NaN</td>\n",
       "      <td>NaN</td>\n",
       "      <td>NaN</td>\n",
       "      <td>NaN</td>\n",
       "    </tr>\n",
       "  </tbody>\n",
       "</table>\n",
       "</div>"
      ],
      "text/plain": [
       "         Country        state_name country_name  latitude  longitude\n",
       "0            USA              maui          NaN       NaN        NaN\n",
       "1        BAHAMAS            exumas          NaN       NaN        NaN\n",
       "3    NEW ZEALAND         southland          NaN       NaN        NaN\n",
       "5       THAILAND  phangngaprovince          NaN       NaN        NaN\n",
       "8  NEW CALEDONIA               NaN          NaN       NaN        NaN"
      ]
     },
     "execution_count": 18,
     "metadata": {},
     "output_type": "execute_result"
    }
   ],
   "source": [
    "# Display the rows where the 'country_name' column is null (missing)\n",
    "df_join[pd.isnull(df_join.country_name)].head()"
   ]
  },
  {
   "cell_type": "code",
   "execution_count": 19,
   "metadata": {
    "execution": {
     "iopub.execute_input": "2024-06-25T01:51:14.361212Z",
     "iopub.status.busy": "2024-06-25T01:51:14.360733Z",
     "iopub.status.idle": "2024-06-25T01:51:14.376402Z",
     "shell.execute_reply": "2024-06-25T01:51:14.375114Z",
     "shell.execute_reply.started": "2024-06-25T01:51:14.361170Z"
    }
   },
   "outputs": [
    {
     "name": "stdout",
     "output_type": "stream",
     "text": [
      "latitude     0\n",
      "longitude    0\n",
      "dtype: int64\n"
     ]
    },
    {
     "data": {
      "text/plain": [
       "(4552, 2)"
      ]
     },
     "execution_count": 19,
     "metadata": {},
     "output_type": "execute_result"
    }
   ],
   "source": [
    "\"\"\"\n",
    "# Drop rows with missing values and specific columns from the DataFrame df_join.\n",
    "# The axis=0 parameter indicates that rows will be dropped.\n",
    "# The .drop() function is used to remove rows or columns from a DataFrame.\n",
    "# Here, we remove rows containing missing values using dropna(), and specific columns \n",
    "# ('Country', 'country_name', 'state_name') using the 'axis=1' parameter.\n",
    "\"\"\"\n",
    "df_join = df_join.dropna(axis=0).drop(['Country','country_name','state_name'], axis=1)\n",
    "\n",
    "# Check for missing values after dropping rows \n",
    "print(df_join.isnull().sum())\n",
    "\n",
    "# Display the shape of the DataFrame after dropping rows and columns\n",
    "df_join.shape"
   ]
  },
  {
   "cell_type": "code",
   "execution_count": 20,
   "metadata": {
    "execution": {
     "iopub.execute_input": "2024-06-25T01:51:14.378508Z",
     "iopub.status.busy": "2024-06-25T01:51:14.378180Z",
     "iopub.status.idle": "2024-06-25T01:51:14.389447Z",
     "shell.execute_reply": "2024-06-25T01:51:14.387997Z",
     "shell.execute_reply.started": "2024-06-25T01:51:14.378479Z"
    }
   },
   "outputs": [
    {
     "data": {
      "text/html": [
       "<div>\n",
       "<style scoped>\n",
       "    .dataframe tbody tr th:only-of-type {\n",
       "        vertical-align: middle;\n",
       "    }\n",
       "\n",
       "    .dataframe tbody tr th {\n",
       "        vertical-align: top;\n",
       "    }\n",
       "\n",
       "    .dataframe thead th {\n",
       "        text-align: right;\n",
       "    }\n",
       "</style>\n",
       "<table border=\"1\" class=\"dataframe\">\n",
       "  <thead>\n",
       "    <tr style=\"text-align: right;\">\n",
       "      <th></th>\n",
       "      <th>latitude</th>\n",
       "      <th>longitude</th>\n",
       "    </tr>\n",
       "  </thead>\n",
       "  <tbody>\n",
       "    <tr>\n",
       "      <th>2</th>\n",
       "      <td>-33.87010</td>\n",
       "      <td>150.86119</td>\n",
       "    </tr>\n",
       "    <tr>\n",
       "      <th>4</th>\n",
       "      <td>35.13155</td>\n",
       "      <td>-79.42948</td>\n",
       "    </tr>\n",
       "    <tr>\n",
       "      <th>6</th>\n",
       "      <td>-27.58333</td>\n",
       "      <td>153.03333</td>\n",
       "    </tr>\n",
       "    <tr>\n",
       "      <th>7</th>\n",
       "      <td>-33.66364</td>\n",
       "      <td>115.25635</td>\n",
       "    </tr>\n",
       "    <tr>\n",
       "      <th>9</th>\n",
       "      <td>-33.66364</td>\n",
       "      <td>115.25635</td>\n",
       "    </tr>\n",
       "  </tbody>\n",
       "</table>\n",
       "</div>"
      ],
      "text/plain": [
       "   latitude  longitude\n",
       "2 -33.87010  150.86119\n",
       "4  35.13155  -79.42948\n",
       "6 -27.58333  153.03333\n",
       "7 -33.66364  115.25635\n",
       "9 -33.66364  115.25635"
      ]
     },
     "execution_count": 20,
     "metadata": {},
     "output_type": "execute_result"
    }
   ],
   "source": [
    "# This displays the first few rows of the DataFrame, allowing the data to be inspected \n",
    "# in order to confirm that the preprocessing steps have been applied correctly.\n",
    "df_join.head()"
   ]
  },
  {
   "cell_type": "markdown",
   "metadata": {},
   "source": [
    "# Heat Map Visualization"
   ]
  },
  {
   "cell_type": "code",
   "execution_count": 21,
   "metadata": {
    "execution": {
     "iopub.execute_input": "2024-06-25T01:51:14.391512Z",
     "iopub.status.busy": "2024-06-25T01:51:14.391036Z",
     "iopub.status.idle": "2024-06-25T01:51:46.744415Z",
     "shell.execute_reply": "2024-06-25T01:51:46.742828Z",
     "shell.execute_reply.started": "2024-06-25T01:51:14.391468Z"
    }
   },
   "outputs": [
    {
     "name": "stdout",
     "output_type": "stream",
     "text": [
      "Requirement already satisfied: folium in /home/helena/anaconda3/lib/python3.11/site-packages (0.16.0)\n",
      "Requirement already satisfied: branca>=0.6.0 in /home/helena/anaconda3/lib/python3.11/site-packages (from folium) (0.7.1)\n",
      "Requirement already satisfied: jinja2>=2.9 in /home/helena/anaconda3/lib/python3.11/site-packages (from folium) (3.1.2)\n",
      "Requirement already satisfied: numpy in /home/helena/anaconda3/lib/python3.11/site-packages (from folium) (1.24.3)\n",
      "Requirement already satisfied: requests in /home/helena/anaconda3/lib/python3.11/site-packages (from folium) (2.31.0)\n",
      "Requirement already satisfied: xyzservices in /home/helena/anaconda3/lib/python3.11/site-packages (from folium) (2022.9.0)\n",
      "Requirement already satisfied: MarkupSafe>=2.0 in /home/helena/anaconda3/lib/python3.11/site-packages (from jinja2>=2.9->folium) (2.1.1)\n",
      "Requirement already satisfied: charset-normalizer<4,>=2 in /home/helena/anaconda3/lib/python3.11/site-packages (from requests->folium) (2.0.4)\n",
      "Requirement already satisfied: idna<4,>=2.5 in /home/helena/anaconda3/lib/python3.11/site-packages (from requests->folium) (3.4)\n",
      "Requirement already satisfied: urllib3<3,>=1.21.1 in /home/helena/anaconda3/lib/python3.11/site-packages (from requests->folium) (1.26.16)\n",
      "Requirement already satisfied: certifi>=2017.4.17 in /home/helena/anaconda3/lib/python3.11/site-packages (from requests->folium) (2024.2.2)\n"
     ]
    }
   ],
   "source": [
    "# This command instaled the Folium package, which is used for visualizing geospatial data with interactive maps. \n",
    "# Once installed, I was able to import and use Folium in the Jupyter notebook.\n",
    "!pip install folium"
   ]
  },
  {
   "cell_type": "code",
   "execution_count": 22,
   "metadata": {
    "execution": {
     "iopub.execute_input": "2024-06-25T01:51:46.746739Z",
     "iopub.status.busy": "2024-06-25T01:51:46.746365Z",
     "iopub.status.idle": "2024-06-25T01:51:46.815197Z",
     "shell.execute_reply": "2024-06-25T01:51:46.813925Z",
     "shell.execute_reply.started": "2024-06-25T01:51:46.746703Z"
    }
   },
   "outputs": [
    {
     "data": {
      "text/html": [
       "<div style=\"width:100%;\"><div style=\"position:relative;width:100%;height:0;padding-bottom:60%;\"><span style=\"color:#565656\">Make this Notebook Trusted to load map: File -> Trust Notebook</span><iframe srcdoc=\"&lt;!DOCTYPE html&gt;\n",
       "&lt;html&gt;\n",
       "&lt;head&gt;\n",
       "    \n",
       "    &lt;meta http-equiv=&quot;content-type&quot; content=&quot;text/html; charset=UTF-8&quot; /&gt;\n",
       "    \n",
       "        &lt;script&gt;\n",
       "            L_NO_TOUCH = false;\n",
       "            L_DISABLE_3D = false;\n",
       "        &lt;/script&gt;\n",
       "    \n",
       "    &lt;style&gt;html, body {width: 100%;height: 100%;margin: 0;padding: 0;}&lt;/style&gt;\n",
       "    &lt;style&gt;#map {position:absolute;top:0;bottom:0;right:0;left:0;}&lt;/style&gt;\n",
       "    &lt;script src=&quot;https://cdn.jsdelivr.net/npm/leaflet@1.9.3/dist/leaflet.js&quot;&gt;&lt;/script&gt;\n",
       "    &lt;script src=&quot;https://code.jquery.com/jquery-3.7.1.min.js&quot;&gt;&lt;/script&gt;\n",
       "    &lt;script src=&quot;https://cdn.jsdelivr.net/npm/bootstrap@5.2.2/dist/js/bootstrap.bundle.min.js&quot;&gt;&lt;/script&gt;\n",
       "    &lt;script src=&quot;https://cdnjs.cloudflare.com/ajax/libs/Leaflet.awesome-markers/2.0.2/leaflet.awesome-markers.js&quot;&gt;&lt;/script&gt;\n",
       "    &lt;link rel=&quot;stylesheet&quot; href=&quot;https://cdn.jsdelivr.net/npm/leaflet@1.9.3/dist/leaflet.css&quot;/&gt;\n",
       "    &lt;link rel=&quot;stylesheet&quot; href=&quot;https://cdn.jsdelivr.net/npm/bootstrap@5.2.2/dist/css/bootstrap.min.css&quot;/&gt;\n",
       "    &lt;link rel=&quot;stylesheet&quot; href=&quot;https://netdna.bootstrapcdn.com/bootstrap/3.0.0/css/bootstrap.min.css&quot;/&gt;\n",
       "    &lt;link rel=&quot;stylesheet&quot; href=&quot;https://cdn.jsdelivr.net/npm/@fortawesome/fontawesome-free@6.2.0/css/all.min.css&quot;/&gt;\n",
       "    &lt;link rel=&quot;stylesheet&quot; href=&quot;https://cdnjs.cloudflare.com/ajax/libs/Leaflet.awesome-markers/2.0.2/leaflet.awesome-markers.css&quot;/&gt;\n",
       "    &lt;link rel=&quot;stylesheet&quot; href=&quot;https://cdn.jsdelivr.net/gh/python-visualization/folium/folium/templates/leaflet.awesome.rotate.min.css&quot;/&gt;\n",
       "    \n",
       "            &lt;meta name=&quot;viewport&quot; content=&quot;width=device-width,\n",
       "                initial-scale=1.0, maximum-scale=1.0, user-scalable=no&quot; /&gt;\n",
       "            &lt;style&gt;\n",
       "                #map_d4efce572c713c9f1d0a42330515eb78 {\n",
       "                    position: relative;\n",
       "                    width: 100.0%;\n",
       "                    height: 100.0%;\n",
       "                    left: 0.0%;\n",
       "                    top: 0.0%;\n",
       "                }\n",
       "                .leaflet-container { font-size: 1rem; }\n",
       "            &lt;/style&gt;\n",
       "        \n",
       "    &lt;script src=&quot;https://cdn.jsdelivr.net/gh/python-visualization/folium@main/folium/templates/leaflet_heat.min.js&quot;&gt;&lt;/script&gt;\n",
       "&lt;/head&gt;\n",
       "&lt;body&gt;\n",
       "    \n",
       "    \n",
       "            &lt;div class=&quot;folium-map&quot; id=&quot;map_d4efce572c713c9f1d0a42330515eb78&quot; &gt;&lt;/div&gt;\n",
       "        \n",
       "&lt;/body&gt;\n",
       "&lt;script&gt;\n",
       "    \n",
       "    \n",
       "            var map_d4efce572c713c9f1d0a42330515eb78 = L.map(\n",
       "                &quot;map_d4efce572c713c9f1d0a42330515eb78&quot;,\n",
       "                {\n",
       "                    center: [10.0, -20.0],\n",
       "                    crs: L.CRS.EPSG3857,\n",
       "                    zoom: 3,\n",
       "                    zoomControl: true,\n",
       "                    preferCanvas: false,\n",
       "                }\n",
       "            );\n",
       "\n",
       "            \n",
       "\n",
       "        \n",
       "    \n",
       "            var tile_layer_462bb534ed0a7be640d110659a4009e0 = L.tileLayer(\n",
       "                &quot;https://tile.openstreetmap.org/{z}/{x}/{y}.png&quot;,\n",
       "                {&quot;attribution&quot;: &quot;\\u0026copy; \\u003ca href=\\&quot;https://www.openstreetmap.org/copyright\\&quot;\\u003eOpenStreetMap\\u003c/a\\u003e contributors&quot;, &quot;detectRetina&quot;: false, &quot;maxNativeZoom&quot;: 19, &quot;maxZoom&quot;: 19, &quot;minZoom&quot;: 0, &quot;noWrap&quot;: false, &quot;opacity&quot;: 1, &quot;subdomains&quot;: &quot;abc&quot;, &quot;tms&quot;: false}\n",
       "            );\n",
       "        \n",
       "    \n",
       "            tile_layer_462bb534ed0a7be640d110659a4009e0.addTo(map_d4efce572c713c9f1d0a42330515eb78);\n",
       "        \n",
       "    \n",
       "            var heat_map_051591a47aeeb2fd57904d07ff171ada = L.heatLayer(\n",
       "                [[-33.8701, 150.86119], [35.13155, -79.42948], [-27.58333, 153.03333], [-33.66364, 115.25635], [-33.66364, 115.25635], [-27.58333, 153.03333], [-10.08333, 148.91667], [-9.10306, 160.15056], [7.86, 80.65167], [-14.65685, 28.07057], [37.90472, -122.07857], [-33.8701, 150.86119], [-33.66364, 115.25635], [21.44472, -157.83778], [26.55063, -80.14866], [-27.58333, 153.03333], [-27.58333, 153.03333], [16.82917, -99.74083], [26.55063, -80.14866], [-27.58333, 153.03333], [26.55063, -80.14866], [-27.58333, 153.03333], [26.55063, -80.14866], [-33.8701, 150.86119], [26.55063, -80.14866], [-12.37954, 130.8732], [21.44472, -157.83778], [26.55063, -80.14866], [26.55063, -80.14866], [21.44472, -157.83778], [34.17817, -82.37901], [-33.66364, 115.25635], [26.55063, -80.14866], [26.55063, -80.14866], [26.55063, -80.14866], [21.44472, -157.83778], [26.55063, -80.14866], [21.44472, -157.83778], [26.55063, -80.14866], [26.55063, -80.14866], [26.55063, -80.14866], [26.55063, -80.14866], [35.13155, -79.42948], [26.55063, -80.14866], [-27.58333, 153.03333], [26.55063, -80.14866], [26.55063, -80.14866], [41.42343, -71.78562], [26.55063, -80.14866], [-43.95353, -176.55973], [35.13155, -79.42948], [26.55063, -80.14866], [-27.58333, 153.03333], [26.55063, -80.14866], [35.13155, -79.42948], [31.99212, -83.30682], [35.13155, -79.42948], [-42.87932, 147.48459], [-33.8701, 150.86119], [35.13155, -79.42948], [21.44472, -157.83778], [39.42845, -74.49571], [21.44472, -157.83778], [-27.58333, 153.03333], [26.55063, -80.14866], [-33.8701, 150.86119], [21.44472, -157.83778], [26.55063, -80.14866], [26.55063, -80.14866], [21.44472, -157.83778], [21.44472, -157.83778], [21.44472, -157.83778], [-27.58333, 153.03333], [26.55063, -80.14866], [16.82917, -99.74083], [21.44472, -157.83778], [26.55063, -80.14866], [44.63651, -123.10593], [-33.8701, 150.86119], [21.44472, -157.83778], [-33.8701, 150.86119], [-27.73558, 30.13537], [26.55063, -80.14866], [-33.66364, 115.25635], [-27.58333, 153.03333], [37.90472, -122.07857], [27.29583, -110.0375], [-33.8701, 150.86119], [-33.8701, 150.86119], [-12.37954, 130.8732], [-33.8701, 150.86119], [-27.73558, 30.13537], [-33.66364, 115.25635], [-33.8701, 150.86119], [-27.58333, 153.03333], [-33.66364, 115.25635], [26.55063, -80.14866], [26.55063, -80.14866], [37.90472, -122.07857], [-33.8701, 150.86119], [-33.66364, 115.25635], [26.55063, -80.14866], [-27.58333, 153.03333], [35.13155, -79.42948], [26.55063, -80.14866], [43.80923, -76.02409], [43.80923, -76.02409], [33.8323, -101.84295], [37.90472, -122.07857], [26.55063, -80.14866], [26.55063, -80.14866], [26.55063, -80.14866], [26.55063, -80.14866], [26.55063, -80.14866], [34.17817, -82.37901], [37.90472, -122.07857], [26.55063, -80.14866], [31.99212, -83.30682], [21.44472, -157.83778], [-33.8701, 150.86119], [19.36433, -103.57676], [-33.8701, 150.86119], [-7.86865, -35.08171], [26.55063, -80.14866], [26.55063, -80.14866], [26.55063, -80.14866], [-27.58333, 153.03333], [34.17817, -82.37901], [34.17817, -82.37901], [-33.8701, 150.86119], [33.8323, -101.84295], [-33.66364, 115.25635], [-33.8701, 150.86119], [-33.66364, 115.25635], [-33.66364, 115.25635], [21.44472, -157.83778], [-7.86865, -35.08171], [-33.66364, 115.25635], [-33.66364, 115.25635], [25.06666667, -77.33333333], [-9.26988, -37.91917], [21.44472, -157.83778], [-33.66364, 115.25635], [-37.8, 145.0], [35.88152, 14.39872], [-37.8, 145.0], [35.88152, 14.39872], [-27.73558, 30.13537], [-33.8701, 150.86119], [-37.8, 145.0], [35.88152, 14.39872], [-33.8701, 150.86119], [-27.58333, 153.03333], [-33.66364, 115.25635], [-33.66364, 115.25635], [-27.58333, 153.03333], [-33.8701, 150.86119], [-33.66364, 115.25635], [21.44472, -157.83778], [37.90472, -122.07857], [37.90472, -122.07857], [26.55063, -80.14866], [-33.8701, 150.86119], [21.44472, -157.83778], [-27.58333, 153.03333], [-33.8701, 150.86119], [21.44472, -157.83778], [26.55063, -80.14866], [26.55063, -80.14866], [-35.0768, 138.59163], [26.55063, -80.14866], [21.44472, -157.83778], [21.44472, -157.83778], [26.55063, -80.14866], [41.42343, -71.78562], [-33.66364, 115.25635], [43.80923, -76.02409], [26.55063, -80.14866], [26.55063, -80.14866], [28.12271, -16.726], [26.55063, -80.14866], [26.55063, -80.14866], [-33.8701, 150.86119], [35.08834, 139.05325], [26.55063, -80.14866], [33.8323, -101.84295], [26.55063, -80.14866], [-37.8, 145.0], [35.88152, 14.39872], [26.55063, -80.14866], [42.10482, -70.94532], [34.17817, -82.37901], [42.10482, -70.94532], [37.90472, -122.07857], [26.55063, -80.14866], [34.17817, -82.37901], [34.17817, -82.37901], [39.42845, -74.49571], [26.55063, -80.14866], [34.17817, -82.37901], [37.90472, -122.07857], [37.90472, -122.07857], [46.97537, -123.81572], [-33.66364, 115.25635], [37.90472, -122.07857], [26.55063, -80.14866], [18.04858, -92.7775], [-12.2925, 44.49722], [34.17817, -82.37901], [34.17817, -82.37901], [26.55063, -80.14866], [34.17817, -82.37901], [-33.66364, 115.25635], [-37.8, 145.0], [35.88152, 14.39872], [26.55063, -80.14866], [26.55063, -80.14866], [25.06666667, -77.33333333], [34.17817, -82.37901], [26.55063, -80.14866], [-33.8701, 150.86119], [-27.58333, 153.03333], [27.14231, -114.29582], [37.90472, -122.07857], [37.90472, -122.07857], [34.17817, -82.37901], [26.55063, -80.14866], [34.17817, -82.37901], [26.55063, -80.14866], [-33.66364, 115.25635], [21.44472, -157.83778], [26.55063, -80.14866], [26.55063, -80.14866], [-27.73558, 30.13537], [26.55063, -80.14866], [26.55063, -80.14866], [26.55063, -80.14866], [26.55063, -80.14866], [26.55063, -80.14866], [-27.58333, 153.03333], [26.55063, -80.14866], [26.55063, -80.14866], [-33.8701, 150.86119], [37.90472, -122.07857], [-33.66364, 115.25635], [-33.66364, 115.25635], [-27.58333, 153.03333], [26.55063, -80.14866], [-7.86865, -35.08171], [-27.73558, 30.13537], [34.17817, -82.37901], [25.728, -79.29721], [-7.86865, -35.08171], [26.55063, -80.14866], [-27.58333, 153.03333], [-27.58333, 153.03333], [26.55063, -80.14866], [-8.45, 115.61667], [-27.58333, 153.03333], [26.55063, -80.14866], [-33.8701, 150.86119], [26.55063, -80.14866], [-33.66364, 115.25635], [-33.66364, 115.25635], [26.55063, -80.14866], [-33.8701, 150.86119], [-33.8701, 150.86119], [-37.8, 145.0], [35.88152, 14.39872], [21.44472, -157.83778], [26.55063, -80.14866], [26.55063, -80.14866], [-33.8701, 150.86119], [21.44472, -157.83778], [-27.58333, 153.03333], [21.44472, -157.83778], [-33.8701, 150.86119], [44.63651, -123.10593], [26.55063, -80.14866], [26.55063, -80.14866], [-33.8701, 150.86119], [26.55063, -80.14866], [26.55063, -80.14866], [26.55063, -80.14866], [37.90472, -122.07857], [-37.8, 145.0], [35.88152, 14.39872], [-37.8, 145.0], [35.88152, 14.39872], [-33.66364, 115.25635], [26.55063, -80.14866], [21.44472, -157.83778], [34.17817, -82.37901], [-33.66364, 115.25635], [26.55063, -80.14866], [37.90472, -122.07857], [26.55063, -80.14866], [26.55063, -80.14866], [26.55063, -80.14866], [21.44472, -157.83778], [26.55063, -80.14866], [-33.66364, 115.25635], [26.55063, -80.14866], [-33.8701, 150.86119], [-42.87932, 147.48459], [-27.58333, 153.03333], [31.57184, -85.25049], [26.55063, -80.14866], [26.55063, -80.14866], [37.90472, -122.07857], [34.17817, -82.37901], [28.12271, -16.726], [37.90472, -122.07857], [42.10482, -70.94532], [37.90472, -122.07857], [26.55063, -80.14866], [-27.58333, 153.03333], [34.17817, -82.37901], [35.13155, -79.42948], [34.17817, -82.37901], [26.55063, -80.14866], [21.44472, -157.83778], [-33.66364, 115.25635], [33.8323, -101.84295], [35.13155, -79.42948], [34.17817, -82.37901], [26.55063, -80.14866], [-33.66364, 115.25635], [29.60018, 32.31671], [-33.8701, 150.86119], [-33.66364, 115.25635], [37.90472, -122.07857], [26.55063, -80.14866], [26.55063, -80.14866], [26.55063, -80.14866], [26.55063, -80.14866], [26.55063, -80.14866], [26.55063, -80.14866], [21.44472, -157.83778], [-8.45, 115.61667], [26.55063, -80.14866], [-33.8701, 150.86119], [26.55063, -80.14866], [26.55063, -80.14866], [26.55063, -80.14866], [21.44472, -157.83778], [-33.8701, 150.86119], [26.55063, -80.14866], [-33.8701, 150.86119], [37.90472, -122.07857], [26.55063, -80.14866], [26.55063, -80.14866], [-35.0768, 138.59163], [-42.87932, 147.48459], [-27.58333, 153.03333], [-33.8701, 150.86119], [-27.73558, 30.13537], [21.44472, -157.83778], [21.44472, -157.83778], [33.8323, -101.84295], [21.44472, -157.83778], [-27.58333, 153.03333], [-27.58333, 153.03333], [-27.58333, 153.03333], [-27.73558, 30.13537], [21.44472, -157.83778], [-33.8701, 150.86119], [-7.86865, -35.08171], [-33.8701, 150.86119], [26.55063, -80.14866], [26.55063, -80.14866], [26.55063, -80.14866], [-33.8701, 150.86119], [26.55063, -80.14866], [21.44472, -157.83778], [26.55063, -80.14866], [-23.865, 35.38333], [-33.66364, 115.25635], [21.44472, -157.83778], [26.55063, -80.14866], [26.55063, -80.14866], [-23.865, 35.38333], [21.44472, -157.83778], [21.44472, -157.83778], [37.90472, -122.07857], [34.17817, -82.37901], [21.44472, -157.83778], [-23.865, 35.38333], [-33.66364, 115.25635], [26.55063, -80.14866], [33.8323, -101.84295], [26.55063, -80.14866], [26.55063, -80.14866], [-27.58333, 153.03333], [37.90472, -122.07857], [26.55063, -80.14866], [21.44472, -157.83778], [26.55063, -80.14866], [26.55063, -80.14866], [37.90472, -122.07857], [26.55063, -80.14866], [26.55063, -80.14866], [-33.8701, 150.86119], [37.90472, -122.07857], [37.90472, -122.07857], [-33.8701, 150.86119], [34.17817, -82.37901], [7.91456, 98.3333], [37.90472, -122.07857], [37.90472, -122.07857], [26.55063, -80.14866], [-33.8701, 150.86119], [34.17817, -82.37901], [26.55063, -80.14866], [37.90472, -122.07857], [37.90472, -122.07857], [-33.8701, 150.86119], [-37.8, 145.0], [35.88152, 14.39872], [26.55063, -80.14866], [34.17817, -82.37901], [-42.87932, 147.48459], [37.90472, -122.07857], [-37.8, 145.0], [35.88152, 14.39872], [37.90472, -122.07857], [37.90472, -122.07857], [35.13155, -79.42948], [-33.8701, 150.86119], [-33.8701, 150.86119], [35.13155, -79.42948], [-33.8701, 150.86119], [34.17817, -82.37901], [35.13155, -79.42948], [26.55063, -80.14866], [34.17817, -82.37901], [-33.66364, 115.25635], [35.13155, -79.42948], [35.13155, -79.42948], [-33.66364, 115.25635], [34.17817, -82.37901], [26.55063, -80.14866], [35.13155, -79.42948], [35.13155, -79.42948], [37.90472, -122.07857], [35.13155, -79.42948], [26.55063, -80.14866], [26.55063, -80.14866], [26.55063, -80.14866], [26.55063, -80.14866], [26.55063, -80.14866], [26.55063, -80.14866], [34.17817, -82.37901], [26.55063, -80.14866], [-33.8701, 150.86119], [21.44472, -157.83778], [26.55063, -80.14866], [-35.0768, 138.59163], [-33.8701, 150.86119], [26.55063, -80.14866], [-33.8701, 150.86119], [26.55063, -80.14866], [40.12812, 8.8176], [-7.86865, -35.08171], [21.44472, -157.83778], [-33.8701, 150.86119], [24.89639, -107.63278], [-33.8701, 150.86119], [-33.8701, 150.86119], [-33.8701, 150.86119], [-27.58333, 153.03333], [21.44472, -157.83778], [-33.8701, 150.86119], [26.55063, -80.14866], [-33.8701, 150.86119], [-33.8701, 150.86119], [-33.8701, 150.86119], [26.55063, -80.14866], [26.55063, -80.14866], [-33.8701, 150.86119], [-33.66364, 115.25635], [-27.73558, 30.13537], [37.90472, -122.07857], [-37.8, 145.0], [35.88152, 14.39872], [-27.58333, 153.03333], [11.8842, -86.05508], [-33.66364, 115.25635], [-33.66364, 115.25635], [37.90472, -122.07857], [26.55063, -80.14866], [21.44472, -157.83778], [-33.8701, 150.86119], [26.55063, -80.14866], [21.44472, -157.83778], [-33.8701, 150.86119], [21.44472, -157.83778], [21.44472, -157.83778], [37.90472, -122.07857], [21.44472, -157.83778], [-33.8701, 150.86119], [34.17817, -82.37901], [26.55063, -80.14866], [-33.66364, 115.25635], [26.55063, -80.14866], [26.55063, -80.14866], [26.55063, -80.14866], [37.90472, -122.07857], [37.90472, -122.07857], [37.90472, -122.07857], [-33.66364, 115.25635], [26.55063, -80.14866], [37.90472, -122.07857], [-33.8701, 150.86119], [31.57184, -85.25049], [42.10482, -70.94532], [26.55063, -80.14866], [41.51682, 1.901], [26.55063, -80.14866], [26.55063, -80.14866], [26.55063, -80.14866], [39.50956, -76.16412], [35.13155, -79.42948], [34.17817, -82.37901], [26.55063, -80.14866], [35.13155, -79.42948], [-33.66364, 115.25635], [26.55063, -80.14866], [26.55063, -80.14866], [26.55063, -80.14866], [29.97465, -92.13429], [34.17817, -82.37901], [26.55063, -80.14866], [26.55063, -80.14866], [26.55063, -80.14866], [35.13155, -79.42948], [26.55063, -80.14866], [28.12271, -16.726], [21.44472, -157.83778], [26.55063, -80.14866], [35.13155, -79.42948], [26.55063, -80.14866], [37.90472, -122.07857], [37.90472, -122.07857], [34.17817, -82.37901], [-35.0768, 138.59163], [-35.0768, 138.59163], [-33.66364, 115.25635], [39.62928, -75.65826], [-35.0768, 138.59163], [33.8323, -101.84295], [26.55063, -80.14866], [-33.8701, 150.86119], [-27.58333, 153.03333], [-33.8701, 150.86119], [26.55063, -80.14866], [-35.0768, 138.59163], [26.55063, -80.14866], [31.99212, -83.30682], [26.55063, -80.14866], [34.17817, -82.37901], [26.55063, -80.14866], [-33.66364, 115.25635], [26.55063, -80.14866], [26.55063, -80.14866], [26.55063, -80.14866], [26.55063, -80.14866], [-33.8701, 150.86119], [-33.66364, 115.25635], [26.55063, -80.14866], [26.55063, -80.14866], [-37.8, 145.0], [35.88152, 14.39872], [-33.8701, 150.86119], [-33.8701, 150.86119], [26.55063, -80.14866], [-35.0768, 138.59163], [-33.8701, 150.86119], [26.30948, 127.77024], [21.44472, -157.83778], [21.44472, -157.83778], [26.55063, -80.14866], [-33.8701, 150.86119], [21.44472, -157.83778], [-33.8701, 150.86119], [21.44472, -157.83778], [-33.66364, 115.25635], [44.63651, -123.10593], [-33.66364, 115.25635], [39.42845, -74.49571], [26.55063, -80.14866], [21.44472, -157.83778], [-33.66364, 115.25635], [-33.66364, 115.25635], [-33.8701, 150.86119], [21.44472, -157.83778], [21.44472, -157.83778], [26.55063, -80.14866], [-33.66364, 115.25635], [37.90472, -122.07857], [26.55063, -80.14866], [26.55063, -80.14866], [-24.96675, 25.33273], [31.19941, 35.36253], [26.55063, -80.14866], [26.55063, -80.14866], [26.55063, -80.14866], [26.55063, -80.14866], [26.55063, -80.14866], [34.17817, -82.37901], [26.55063, -80.14866], [26.55063, -80.14866], [26.55063, -80.14866], [26.55063, -80.14866], [26.55063, -80.14866], [37.90472, -122.07857], [37.90472, -122.07857], [26.55063, -80.14866], [-33.8701, 150.86119], [21.44472, -157.83778], [37.90472, -122.07857], [21.44472, -157.83778], [21.44472, -157.83778], [34.17817, -82.37901], [26.55063, -80.14866], [21.44472, -157.83778], [34.17817, -82.37901], [20.39693, -87.31444], [21.44472, -157.83778], [-7.86865, -35.08171], [31.57184, -85.25049], [26.55063, -80.14866], [35.13155, -79.42948], [41.51682, 1.901], [-37.8, 145.0], [35.88152, 14.39872], [22.88361, 121.04833], [17.98297, -76.78685], [37.90472, -122.07857], [26.55063, -80.14866], [34.17817, -82.37901], [21.44472, -157.83778], [33.8323, -101.84295], [26.55063, -80.14866], [34.17817, -82.37901], [26.55063, -80.14866], [-33.8701, 150.86119], [21.44472, -157.83778], [26.55063, -80.14866], [-7.86865, -35.08171], [37.90472, -122.07857], [26.55063, -80.14866], [-33.8701, 150.86119], [20.39693, -87.31444], [-33.8701, 150.86119], [26.55063, -80.14866], [26.55063, -80.14866], [26.55063, -80.14866], [-33.66364, 115.25635], [21.44472, -157.83778], [-33.8701, 150.86119], [-33.66364, 115.25635], [21.44472, -157.83778], [21.44472, -157.83778], [26.55063, -80.14866], [17.98297, -76.78685], [-37.8, 145.0], [35.88152, 14.39872], [-27.58333, 153.03333], [-27.58333, 153.03333], [21.44472, -157.83778], [-33.66364, 115.25635], [26.55063, -80.14866], [-33.8701, 150.86119], [-33.8701, 150.86119], [-33.66364, 115.25635], [21.44472, -157.83778], [-33.8701, 150.86119], [21.44472, -157.83778], [-27.58333, 153.03333], [24.89639, -107.63278], [26.55063, -80.14866], [21.44472, -157.83778], [21.44472, -157.83778], [37.90472, -122.07857], [21.44472, -157.83778], [37.90472, -122.07857], [26.55063, -80.14866], [26.55063, -80.14866], [21.44472, -157.83778], [26.55063, -80.14866], [5.79023, 6.10473], [37.90472, -122.07857], [-33.66364, 115.25635], [26.55063, -80.14866], [26.55063, -80.14866], [26.55063, -80.14866], [26.55063, -80.14866], [26.55063, -80.14866], [26.55063, -80.14866], [26.55063, -80.14866], [26.55063, -80.14866], [26.55063, -80.14866], [26.55063, -80.14866], [21.44472, -157.83778], [26.55063, -80.14866], [-33.66364, 115.25635], [-7.86865, -35.08171], [31.57184, -85.25049], [-33.66364, 115.25635], [26.55063, -80.14866], [37.90472, -122.07857], [-35.0768, 138.59163], [21.44472, -157.83778], [42.10482, -70.94532], [35.13155, -79.42948], [-33.66364, 115.25635], [35.13155, -79.42948], [-37.8, 145.0], [35.88152, 14.39872], [37.90472, -122.07857], [26.55063, -80.14866], [26.55063, -80.14866], [21.44472, -157.83778], [-42.87932, 147.48459], [26.55063, -80.14866], [-33.66364, 115.25635], [34.17817, -82.37901], [35.13155, -79.42948], [26.55063, -80.14866], [34.17817, -82.37901], [34.17817, -82.37901], [34.17817, -82.37901], [34.17817, -82.37901], [-37.8, 145.0], [35.88152, 14.39872], [40.12812, 8.8176], [-33.8701, 150.86119], [26.55063, -80.14866], [34.17817, -82.37901], [35.13155, -79.42948], [16.82917, -99.74083], [26.55063, -80.14866], [21.44472, -157.83778], [37.90472, -122.07857], [26.55063, -80.14866], [37.90472, -122.07857], [26.55063, -80.14866], [-35.0768, 138.59163], [21.44472, -157.83778], [26.55063, -80.14866], [-33.66364, 115.25635], [26.55063, -80.14866], [-33.66364, 115.25635], [-27.58333, 153.03333], [26.55063, -80.14866], [26.55063, -80.14866], [26.55063, -80.14866], [-37.8, 145.0], [35.88152, 14.39872], [26.55063, -80.14866], [26.55063, -80.14866], [-33.8701, 150.86119], [-27.58333, 153.03333], [21.44472, -157.83778], [-33.66364, 115.25635], [22.88361, 121.04833], [-33.8701, 150.86119], [44.63651, -123.10593], [-33.8701, 150.86119], [-27.58333, 153.03333], [26.55063, -80.14866], [-2.233, -80.91039], [26.55063, -80.14866], [21.44472, -157.83778], [-33.8701, 150.86119], [-27.73558, 30.13537], [-33.8701, 150.86119], [44.63651, -123.10593], [-27.58333, 153.03333], [-33.8701, 150.86119], [-8.45, 115.61667], [-27.58333, 153.03333], [37.90472, -122.07857], [-4.48333, 151.86667], [-7.86865, -35.08171], [37.90472, -122.07857], [-27.73558, 30.13537], [-33.66364, 115.25635], [44.63651, -123.10593], [-37.8, 145.0], [35.88152, 14.39872], [26.55063, -80.14866], [44.63651, -123.10593], [-33.66364, 115.25635], [26.55063, -80.14866], [31.57184, -85.25049], [18.16277778, -66.72222222], [19.31102, -69.5428], [26.55063, -80.14866], [34.17817, -82.37901], [21.44472, -157.83778], [26.55063, -80.14866], [37.90472, -122.07857], [-10.08333, 148.91667], [-9.10306, 160.15056], [7.86, 80.65167], [-14.65685, 28.07057], [21.44472, -157.83778], [-33.66364, 115.25635], [26.55063, -80.14866], [26.55063, -80.14866], [-27.58333, 153.03333], [33.8323, -101.84295], [43.96571, 133.05846], [35.13155, -79.42948], [35.13155, -79.42948], [35.13155, -79.42948], [35.13155, -79.42948], [18.16277778, -66.72222222], [34.17817, -82.37901], [35.13155, -79.42948], [-7.86865, -35.08171], [39.42845, -74.49571], [35.13155, -79.42948], [33.8323, -101.84295], [33.8323, -101.84295], [33.8323, -101.84295], [9.31972222, -74.97166777], [10.66516, -63.25387], [-7.86865, -35.08171], [-27.73558, 30.13537], [35.13155, -79.42948], [37.90472, -122.07857], [26.55063, -80.14866], [26.55063, -80.14866], [37.90472, -122.07857], [26.55063, -80.14866], [6.12104, 100.36014], [33.8323, -101.84295], [21.44472, -157.83778], [21.44472, -157.83778], [-27.73558, 30.13537], [26.55063, -80.14866], [26.55063, -80.14866], [26.55063, -80.14866], [-27.73558, 30.13537], [26.55063, -80.14866], [-33.66364, 115.25635], [26.55063, -80.14866], [-8.45, 115.61667], [33.8323, -101.84295], [20.39693, -87.31444], [-33.8701, 150.86119], [20.39693, -87.31444], [-33.8701, 150.86119], [-33.8701, 150.86119], [-27.58333, 153.03333], [-35.0768, 138.59163], [-27.58333, 153.03333], [-33.66364, 115.25635], [19.36433, -103.57676], [20.39693, -87.31444], [19.36433, -103.57676], [-33.8701, 150.86119], [20.39693, -87.31444], [-33.66364, 115.25635], [21.44472, -157.83778], [21.44472, -157.83778], [-8.45, 115.61667], [-33.66364, 115.25635], [-8.45, 115.61667], [-33.66364, 115.25635], [-33.66364, 115.25635], [-33.66364, 115.25635], [44.63651, -123.10593], [43.53425, -70.90978], [-33.66364, 115.25635], [37.90472, -122.07857], [-33.8701, 150.86119], [44.63651, -123.10593], [36.70983, -81.97735], [-33.8701, 150.86119], [26.55063, -80.14866], [26.55063, -80.14866], [26.55063, -80.14866], [26.55063, -80.14866], [-9.07786, 143.20893], [-2.4846, 28.9075], [-8.10303, 156.84186], [6.8964, 79.9181], [-14.99307, 22.67926], [26.55063, -80.14866], [-33.66364, 115.25635], [37.90472, -122.07857], [-27.58333, 153.03333], [-33.8701, 150.86119], [35.13155, -79.42948], [26.55063, -80.14866], [37.90472, -122.07857], [26.55063, -80.14866], [34.17817, -82.37901], [26.55063, -80.14866], [34.17817, -82.37901], [35.13155, -79.42948], [26.55063, -80.14866], [33.8323, -101.84295], [26.55063, -80.14866], [-27.73558, 30.13537], [43.80923, -76.02409], [37.90472, -122.07857], [37.90472, -122.07857], [33.8323, -101.84295], [34.17817, -82.37901], [35.13155, -79.42948], [26.55063, -80.14866], [-33.66364, 115.25635], [26.55063, -80.14866], [26.55063, -80.14866], [-33.8701, 150.86119], [-18.81667, 49.06667], [26.55063, -80.14866], [26.55063, -80.14866], [21.44472, -157.83778], [-27.58333, 153.03333], [-33.8701, 150.86119], [-33.8701, 150.86119], [26.55063, -80.14866], [26.55063, -80.14866], [-31.64597, -54.10715], [-27.58333, 153.03333], [25.0657, 55.17128], [-37.8, 145.0], [35.88152, 14.39872], [-9.07786, 143.20893], [-2.4846, 28.9075], [-8.10303, 156.84186], [6.8964, 79.9181], [-14.99307, 22.67926], [26.55063, -80.14866], [-2.1597, 30.5427], [25.93402, 49.6688], [8.34959, -11.33059], [7.29754, 81.68202], [-14.06779, 32.43917], [-33.8701, 150.86119], [-26.029, 32.389], [-27.58333, 153.03333], [-27.58333, 153.03333], [-27.73558, 30.13537], [-33.8701, 150.86119], [-33.8701, 150.86119], [39.42845, -74.49571], [37.90472, -122.07857], [26.55063, -80.14866], [37.90472, -122.07857], [26.55063, -80.14866], [26.55063, -80.14866], [26.55063, -80.14866], [-35.0768, 138.59163], [37.90472, -122.07857], [-37.8, 145.0], [35.88152, 14.39872], [-23.865, 35.38333], [-33.8701, 150.86119], [37.90472, -122.07857], [21.44472, -157.83778], [-33.66364, 115.25635], [37.90472, -122.07857], [26.55063, -80.14866], [-7.86865, -35.08171], [35.13155, -79.42948], [-7.86865, -35.08171], [-10.45442, 161.92045], [37.90472, -122.07857], [37.90472, -122.07857], [-27.73558, 30.13537], [26.55063, -80.14866], [21.44472, -157.83778], [29.97465, -92.13429], [-33.8701, 150.86119], [-4.05466, 39.66359], [33.8323, -101.84295], [35.13155, -79.42948], [26.55063, -80.14866], [37.90472, -122.07857], [26.55063, -80.14866], [26.55063, -80.14866], [-33.8701, 150.86119], [37.90472, -122.07857], [26.55063, -80.14866], [26.55063, -80.14866], [26.55063, -80.14866], [26.55063, -80.14866], [26.55063, -80.14866], [26.55063, -80.14866], [37.90472, -122.07857], [26.55063, -80.14866], [26.55063, -80.14866], [26.55063, -80.14866], [21.44472, -157.83778], [-33.8701, 150.86119], [-27.73558, 30.13537], [37.90472, -122.07857], [26.55063, -80.14866], [-33.8701, 150.86119], [-33.8701, 150.86119], [-33.8701, 150.86119], [26.55063, -80.14866], [21.44472, -157.83778], [-33.66364, 115.25635], [-33.8701, 150.86119], [-27.58333, 153.03333], [-33.8701, 150.86119], [-33.8701, 150.86119], [-33.8701, 150.86119], [18.16277778, -66.72222222], [-33.8701, 150.86119], [-33.8701, 150.86119], [-33.8701, 150.86119], [-4.69214, -47.34302], [-37.8, 145.0], [35.88152, 14.39872], [-33.8701, 150.86119], [-42.87932, 147.48459], [-33.8701, 150.86119], [-33.66364, 115.25635], [-42.87932, 147.48459], [-33.8701, 150.86119], [-33.8701, 150.86119], [-33.66364, 115.25635], [37.90472, -122.07857], [-33.8701, 150.86119], [-23.865, 35.38333], [26.10426, 34.27793], [21.06667, 36.31667], [-35.0768, 138.59163], [-33.8701, 150.86119], [-12.37954, 130.8732], [-33.8701, 150.86119], [26.55063, -80.14866], [26.55063, -80.14866], [26.55063, -80.14866], [-12.37954, 130.8732], [26.55063, -80.14866], [21.44472, -157.83778], [37.90472, -122.07857], [-33.8701, 150.86119], [26.55063, -80.14866], [26.55063, -80.14866], [26.55063, -80.14866], [26.55063, -80.14866], [-33.8701, 150.86119], [21.44472, -157.83778], [26.55063, -80.14866], [26.55063, -80.14866], [26.55063, -80.14866], [35.13155, -79.42948], [26.55063, -80.14866], [34.17817, -82.37901], [26.55063, -80.14866], [21.44472, -157.83778], [-37.8, 145.0], [35.88152, 14.39872], [21.44472, -157.83778], [26.55063, -80.14866], [21.44472, -157.83778], [35.13155, -79.42948], [35.13155, -79.42948], [26.55063, -80.14866], [26.55063, -80.14866], [35.13155, -79.42948], [34.17817, -82.37901], [35.13155, -79.42948], [34.17817, -82.37901], [21.44472, -157.83778], [26.55063, -80.14866], [34.17817, -82.37901], [-13.32129, -41.69759], [37.90472, -122.07857], [26.55063, -80.14866], [-7.86865, -35.08171], [26.55063, -80.14866], [34.17817, -82.37901], [-7.86865, -35.08171], [35.13155, -79.42948], [-33.66364, 115.25635], [26.55063, -80.14866], [26.55063, -80.14866], [26.55063, -80.14866], [26.55063, -80.14866], [37.90472, -122.07857], [26.55063, -80.14866], [-33.8701, 150.86119], [-27.73558, 30.13537], [20.39693, -87.31444], [-27.58333, 153.03333], [26.55063, -80.14866], [26.55063, -80.14866], [26.55063, -80.14866], [-33.8701, 150.86119], [26.55063, -80.14866], [-27.73558, 30.13537], [26.55063, -80.14866], [26.55063, -80.14866], [26.55063, -80.14866], [26.55063, -80.14866], [26.55063, -80.14866], [37.90472, -122.07857], [26.55063, -80.14866], [-33.8701, 150.86119], [26.55063, -80.14866], [-27.73558, 30.13537], [-27.58333, 153.03333], [26.55063, -80.14866], [26.55063, -80.14866], [32.54667, -116.61722], [-33.8701, 150.86119], [-27.58333, 153.03333], [-33.8701, 150.86119], [21.44472, -157.83778], [-7.86865, -35.08171], [-33.66364, 115.25635], [-33.8701, 150.86119], [26.55063, -80.14866], [26.55063, -80.14866], [32.54667, -116.61722], [21.44472, -157.83778], [-33.8701, 150.86119], [-27.58333, 153.03333], [37.90472, -122.07857], [26.55063, -80.14866], [37.90472, -122.07857], [37.90472, -122.07857], [26.10426, 34.27793], [21.06667, 36.31667], [26.55063, -80.14866], [26.55063, -80.14866], [26.55063, -80.14866], [26.55063, -80.14866], [26.55063, -80.14866], [26.55063, -80.14866], [26.55063, -80.14866], [26.55063, -80.14866], [34.17817, -82.37901], [26.55063, -80.14866], [26.55063, -80.14866], [21.44472, -157.83778], [37.90472, -122.07857], [26.55063, -80.14866], [26.55063, -80.14866], [35.13155, -79.42948], [39.62928, -75.65826], [26.55063, -80.14866], [26.55063, -80.14866], [34.17817, -82.37901], [26.55063, -80.14866], [26.55063, -80.14866], [26.55063, -80.14866], [34.17817, -82.37901], [34.17817, -82.37901], [26.55063, -80.14866], [26.55063, -80.14866], [37.90472, -122.07857], [37.90472, -122.07857], [37.90472, -122.07857], [21.44472, -157.83778], [35.13155, -79.42948], [37.90472, -122.07857], [35.13155, -79.42948], [26.55063, -80.14866], [26.55063, -80.14866], [37.90472, -122.07857], [26.55063, -80.14866], [21.44472, -157.83778], [26.55063, -80.14866], [26.55063, -80.14866], [-33.8701, 150.86119], [34.17817, -82.37901], [36.70983, -81.97735], [-33.66364, 115.25635], [-37.8, 145.0], [35.88152, 14.39872], [26.55063, -80.14866], [-33.8701, 150.86119], [21.44472, -157.83778], [26.55063, -80.14866], [-27.58333, 153.03333], [26.55063, -80.14866], [26.55063, -80.14866], [26.55063, -80.14866], [26.55063, -80.14866], [26.55063, -80.14866], [26.55063, -80.14866], [26.55063, -80.14866], [-33.8701, 150.86119], [26.55063, -80.14866], [-27.58333, 153.03333], [26.55063, -80.14866], [-33.8701, 150.86119], [26.55063, -80.14866], [-33.8701, 150.86119], [-33.8701, 150.86119], [-33.8701, 150.86119], [43.80923, -76.02409], [21.44472, -157.83778], [-37.8, 145.0], [35.88152, 14.39872], [37.90472, -122.07857], [-27.73558, 30.13537], [-33.66364, 115.25635], [21.44472, -157.83778], [44.63651, -123.10593], [26.55063, -80.14866], [26.55063, -80.14866], [33.8323, -101.84295], [26.55063, -80.14866], [26.55063, -80.14866], [26.55063, -80.14866], [35.13155, -79.42948], [26.55063, -80.14866], [26.55063, -80.14866], [-27.58333, 153.03333], [26.55063, -80.14866], [26.55063, -80.14866], [44.63651, -123.10593], [-35.0768, 138.59163], [-7.86865, -35.08171], [35.13155, -79.42948], [37.10416, -85.28065], [44.63651, -123.10593], [37.90472, -122.07857], [26.55063, -80.14866], [26.55063, -80.14866], [33.8323, -101.84295], [34.17817, -82.37901], [34.17817, -82.37901], [-7.86865, -35.08171], [26.55063, -80.14866], [26.55063, -80.14866], [34.17817, -82.37901], [26.55063, -80.14866], [26.55063, -80.14866], [26.55063, -80.14866], [26.55063, -80.14866], [26.55063, -80.14866], [26.55063, -80.14866], [-7.86865, -35.08171], [37.90472, -122.07857], [26.55063, -80.14866], [34.17817, -82.37901], [-35.0768, 138.59163], [21.44472, -157.83778], [21.44472, -157.83778], [21.44472, -157.83778], [21.44472, -157.83778], [-7.86865, -35.08171], [26.55063, -80.14866], [26.55063, -80.14866], [-27.58333, 153.03333], [26.55063, -80.14866], [26.55063, -80.14866], [26.55063, -80.14866], [26.55063, -80.14866], [-33.8701, 150.86119], [-7.86865, -35.08171], [26.55063, -80.14866], [8.48714, -13.2356], [21.44472, -157.83778], [-33.8701, 150.86119], [21.44472, -157.83778], [21.44472, -157.83778], [-27.58333, 153.03333], [-27.58333, 153.03333], [-35.0768, 138.59163], [21.44472, -157.83778], [37.90472, -122.07857], [-33.66364, 115.25635], [-27.58333, 153.03333], [26.55063, -80.14866], [44.63651, -123.10593], [21.44472, -157.83778], [-27.58333, 153.03333], [-35.0768, 138.59163], [26.55063, -80.14866], [26.55063, -80.14866], [-37.8, 145.0], [35.88152, 14.39872], [-37.8, 145.0], [35.88152, 14.39872], [26.55063, -80.14866], [26.55063, -80.14866], [26.55063, -80.14866], [37.90472, -122.07857], [37.90472, -122.07857], [26.55063, -80.14866], [37.90472, -122.07857], [37.90472, -122.07857], [26.55063, -80.14866], [21.44472, -157.83778], [26.55063, -80.14866], [-33.8701, 150.86119], [-35.0768, 138.59163], [-33.66364, 115.25635], [26.55063, -80.14866], [34.17817, -82.37901], [34.17817, -82.37901], [-33.8701, 150.86119], [35.13155, -79.42948], [-35.0768, 138.59163], [26.55063, -80.14866], [-35.0768, 138.59163], [37.90472, -122.07857], [34.17817, -82.37901], [34.17817, -82.37901], [33.8323, -101.84295], [35.13155, -79.42948], [34.17817, -82.37901], [26.55063, -80.14866], [26.55063, -80.14866], [26.55063, -80.14866], [31.22222, 121.45806], [35.13155, -79.42948], [33.8323, -101.84295], [26.55063, -80.14866], [26.55063, -80.14866], [26.55063, -80.14866], [32.54667, -116.61722], [21.44472, -157.83778], [26.55063, -80.14866], [34.17817, -82.37901], [39.42845, -74.49571], [33.8323, -101.84295], [26.55063, -80.14866], [26.55063, -80.14866], [-27.58333, 153.03333], [21.44472, -157.83778], [34.17817, -82.37901], [21.44472, -157.83778], [-33.8701, 150.86119], [-33.8701, 150.86119], [-12.37954, 130.8732], [-33.8701, 150.86119], [26.55063, -80.14866], [26.55063, -80.14866], [33.8323, -101.84295], [26.55063, -80.14866], [-33.8701, 150.86119], [-33.66364, 115.25635], [35.65448, -106.02224], [-27.73558, 30.13537], [-27.58333, 153.03333], [26.55063, -80.14866], [21.44472, -157.83778], [26.55063, -80.14866], [-13.32129, -41.69759], [20.29879, -76.24511], [-37.8, 145.0], [35.88152, 14.39872], [-37.8, 145.0], [35.88152, 14.39872], [-2.1597, 30.5427], [25.93402, 49.6688], [8.34959, -11.33059], [7.29754, 81.68202], [-14.06779, 32.43917], [-35.0768, 138.59163], [-27.58333, 153.03333], [37.90472, -122.07857], [-33.8701, 150.86119], [37.90472, -122.07857], [21.44472, -157.83778], [37.90472, -122.07857], [37.90472, -122.07857], [-27.58333, 153.03333], [44.63651, -123.10593], [33.8323, -101.84295], [-7.86865, -35.08171], [34.17817, -82.37901], [26.55063, -80.14866], [-7.86865, -35.08171], [37.90472, -122.07857], [37.90472, -122.07857], [26.55063, -80.14866], [-33.8701, 150.86119], [-27.73558, 30.13537], [26.55063, -80.14866], [35.13155, -79.42948], [35.13155, -79.42948], [33.8323, -101.84295], [33.8323, -101.84295], [-33.66364, 115.25635], [34.07937, 135.1423], [-33.66364, 115.25635], [31.57184, -85.25049], [37.90472, -122.07857], [-33.66364, 115.25635], [26.55063, -80.14866], [-33.66364, 115.25635], [26.55063, -80.14866], [33.8323, -101.84295], [-7.86865, -35.08171], [37.90472, -122.07857], [26.55063, -80.14866], [26.55063, -80.14866], [26.55063, -80.14866], [-7.86865, -35.08171], [33.8323, -101.84295], [-7.86865, -35.08171], [-33.8701, 150.86119], [21.44472, -157.83778], [21.44472, -157.83778], [26.55063, -80.14866], [26.55063, -80.14866], [-7.86865, -35.08171], [26.55063, -80.14866], [26.55063, -80.14866], [21.44472, -157.83778], [21.44472, -157.83778], [-33.66364, 115.25635], [-7.86865, -35.08171], [-33.8701, 150.86119], [-27.58333, 153.03333], [-33.8701, 150.86119], [-33.66364, 115.25635], [-27.73558, 30.13537], [-33.8701, 150.86119], [-33.66364, 115.25635], [-27.73558, 30.13537], [26.55063, -80.14866], [26.55063, -80.14866], [-37.8, 145.0], [35.88152, 14.39872], [-33.66364, 115.25635], [-33.66364, 115.25635], [-27.73558, 30.13537], [26.55063, -80.14866], [9.4423, 78.4399], [26.55063, -80.14866], [-27.73558, 30.13537], [-33.8701, 150.86119], [26.55063, -80.14866], [-33.8701, 150.86119], [21.44472, -157.83778], [26.55063, -80.14866], [21.44472, -157.83778], [26.55063, -80.14866], [26.55063, -80.14866], [26.55063, -80.14866], [26.55063, -80.14866], [26.55063, -80.14866], [26.55063, -80.14866], [21.44472, -157.83778], [26.55063, -80.14866], [26.55063, -80.14866], [26.55063, -80.14866], [26.55063, -80.14866], [26.55063, -80.14866], [26.55063, -80.14866], [26.55063, -80.14866], [34.17817, -82.37901], [26.55063, -80.14866], [33.8323, -101.84295], [37.90472, -122.07857], [37.90472, -122.07857], [-12.37954, 130.8732], [26.55063, -80.14866], [26.55063, -80.14866], [26.55063, -80.14866], [26.55063, -80.14866], [26.55063, -80.14866], [26.55063, -80.14866], [26.55063, -80.14866], [-7.86865, -35.08171], [26.55063, -80.14866], [21.44472, -157.83778], [35.13155, -79.42948], [26.55063, -80.14866], [34.17817, -82.37901], [26.55063, -80.14866], [26.55063, -80.14866], [21.44472, -157.83778], [26.55063, -80.14866], [26.55063, -80.14866], [-23.00667, -44.31806], [-23.00667, -44.31806], [-7.86865, -35.08171], [-23.00667, -44.31806], [26.55063, -80.14866], [26.55063, -80.14866], [26.55063, -80.14866], [26.55063, -80.14866], [26.55063, -80.14866], [26.55063, -80.14866], [26.55063, -80.14866], [26.55063, -80.14866], [11.08172, -63.96549], [26.55063, -80.14866], [26.55063, -80.14866], [26.55063, -80.14866], [-35.0768, 138.59163], [26.55063, -80.14866], [-33.8701, 150.86119], [-27.58333, 153.03333], [-33.66364, 115.25635], [-27.58333, 153.03333], [-27.58333, 153.03333], [-27.58333, 153.03333], [-27.58333, 153.03333], [-7.86865, -35.08171], [37.90472, -122.07857], [21.44472, -157.83778], [26.55063, -80.14866], [26.55063, -80.14866], [21.44472, -157.83778], [-7.86865, -35.08171], [26.55063, -80.14866], [26.55063, -80.14866], [26.55063, -80.14866], [26.55063, -80.14866], [26.55063, -80.14866], [26.55063, -80.14866], [21.44472, -157.83778], [26.55063, -80.14866], [44.63651, -123.10593], [37.90472, -122.07857], [-7.86865, -35.08171], [21.44472, -157.83778], [26.55063, -80.14866], [26.55063, -80.14866], [21.44472, -157.83778], [31.57184, -85.25049], [26.55063, -80.14866], [26.55063, -80.14866], [26.55063, -80.14866], [35.13155, -79.42948], [34.17817, -82.37901], [35.13155, -79.42948], [26.55063, -80.14866], [39.50956, -76.16412], [-7.86865, -35.08171], [35.13155, -79.42948], [-27.58333, 153.03333], [26.55063, -80.14866], [21.44472, -157.83778], [26.55063, -80.14866], [26.55063, -80.14866], [26.55063, -80.14866], [37.90472, -122.07857], [26.55063, -80.14866], [26.55063, -80.14866], [26.55063, -80.14866], [-10.25, 150.08333], [26.55063, -80.14866], [-7.86865, -35.08171], [-12.37954, 130.8732], [-35.0768, 138.59163], [-33.8701, 150.86119], [26.55063, -80.14866], [26.55063, -80.14866], [-33.8701, 150.86119], [26.55063, -80.14866], [26.55063, -80.14866], [21.44472, -157.83778], [26.55063, -80.14866], [-7.86865, -35.08171], [26.55063, -80.14866], [26.55063, -80.14866], [26.55063, -80.14866], [-27.58333, 153.03333], [-33.8701, 150.86119], [-33.8701, 150.86119], [-33.66364, 115.25635], [-27.73558, 30.13537], [-7.86865, -35.08171], [-27.73558, 30.13537], [21.44472, -157.83778], [-33.66364, 115.25635], [-33.8701, 150.86119], [21.44472, -157.83778], [-33.66364, 115.25635], [-27.73558, 30.13537], [-27.58333, 153.03333], [16.82917, -99.74083], [-27.58333, 153.03333], [26.55063, -80.14866], [26.55063, -80.14866], [26.55063, -80.14866], [26.55063, -80.14866], [35.13155, -79.42948], [26.55063, -80.14866], [26.55063, -80.14866], [34.17817, -82.37901], [35.13155, -79.42948], [35.13155, -79.42948], [26.55063, -80.14866], [36.70983, -81.97735], [26.55063, -80.14866], [26.55063, -80.14866], [26.55063, -80.14866], [26.55063, -80.14866], [26.55063, -80.14866], [26.55063, -80.14866], [26.55063, -80.14866], [26.55063, -80.14866], [26.55063, -80.14866], [26.55063, -80.14866], [26.55063, -80.14866], [26.55063, -80.14866], [34.17817, -82.37901], [34.17817, -82.37901], [26.55063, -80.14866], [26.55063, -80.14866], [42.10482, -70.94532], [26.55063, -80.14866], [26.55063, -80.14866], [32.54667, -116.61722], [26.55063, -80.14866], [34.17817, -82.37901], [31.99212, -83.30682], [33.8323, -101.84295], [37.90472, -122.07857], [-33.8701, 150.86119], [34.17817, -82.37901], [33.8323, -101.84295], [34.17817, -82.37901], [34.17817, -82.37901], [-33.8701, 150.86119], [26.55063, -80.14866], [26.55063, -80.14866], [26.55063, -80.14866], [26.55063, -80.14866], [26.55063, -80.14866], [26.55063, -80.14866], [26.55063, -80.14866], [26.55063, -80.14866], [26.55063, -80.14866], [26.55063, -80.14866], [26.55063, -80.14866], [21.44472, -157.83778], [26.55063, -80.14866], [-33.8701, 150.86119], [26.55063, -80.14866], [-33.8701, 150.86119], [21.44472, -157.83778], [26.55063, -80.14866], [-13.32129, -41.69759], [-7.86865, -35.08171], [-33.66364, 115.25635], [-33.8701, 150.86119], [-33.8701, 150.86119], [-35.0768, 138.59163], [37.90472, -122.07857], [-27.58333, 153.03333], [-35.0768, 138.59163], [47.05231, -64.95355], [-27.58333, 153.03333], [-27.58333, 153.03333], [-35.0768, 138.59163], [26.55063, -80.14866], [26.55063, -80.14866], [-33.66364, 115.25635], [-33.66364, 115.25635], [37.90472, -122.07857], [-27.58333, 153.03333], [26.55063, -80.14866], [21.44472, -157.83778], [26.55063, -80.14866], [26.55063, -80.14866], [26.55063, -80.14866], [26.55063, -80.14866], [35.13155, -79.42948], [37.90472, -122.07857], [-35.0768, 138.59163], [-35.0768, 138.59163], [-33.8701, 150.86119], [34.17817, -82.37901], [26.55063, -80.14866], [26.55063, -80.14866], [26.55063, -80.14866], [26.55063, -80.14866], [26.55063, -80.14866], [26.55063, -80.14866], [26.55063, -80.14866], [54.1335, -165.77686], [35.13155, -79.42948], [21.44472, -157.83778], [26.55063, -80.14866], [26.55063, -80.14866], [35.13155, -79.42948], [26.55063, -80.14866], [26.55063, -80.14866], [26.55063, -80.14866], [35.13155, -79.42948], [35.13155, -79.42948], [-27.73558, 30.13537], [26.55063, -80.14866], [26.55063, -80.14866], [33.8323, -101.84295], [35.13155, -79.42948], [26.55063, -80.14866], [26.55063, -80.14866], [26.55063, -80.14866], [26.55063, -80.14866], [-4.5, 145.0], [26.55063, -80.14866], [26.55063, -80.14866], [33.8323, -101.84295], [31.57184, -85.25049], [31.57184, -85.25049], [26.55063, -80.14866], [-37.8, 145.0], [35.88152, 14.39872], [-4.5, 145.0], [-4.5, 145.0], [26.55063, -80.14866], [26.55063, -80.14866], [26.55063, -80.14866], [-27.58333, 153.03333], [26.55063, -80.14866], [26.55063, -80.14866], [-33.8701, 150.86119], [-33.8701, 150.86119], [-33.8701, 150.86119], [-33.8701, 150.86119], [29.97465, -92.13429], [26.55063, -80.14866], [-35.0768, 138.59163], [26.55063, -80.14866], [-7.86865, -35.08171], [37.90472, -122.07857], [-23.00667, -44.31806], [26.55063, -80.14866], [26.55063, -80.14866], [21.44472, -157.83778], [37.90472, -122.07857], [-27.73558, 30.13537], [-23.00667, -44.31806], [26.55063, -80.14866], [26.55063, -80.14866], [26.55063, -80.14866], [21.44472, -157.83778], [26.55063, -80.14866], [37.90472, -122.07857], [26.55063, -80.14866], [34.17817, -82.37901], [26.55063, -80.14866], [26.55063, -80.14866], [26.55063, -80.14866], [26.55063, -80.14866], [35.13155, -79.42948], [26.55063, -80.14866], [34.17817, -82.37901], [26.55063, -80.14866], [26.55063, -80.14866], [21.44472, -157.83778], [34.17817, -82.37901], [26.55063, -80.14866], [26.55063, -80.14866], [26.55063, -80.14866], [26.55063, -80.14866], [26.55063, -80.14866], [-35.0768, 138.59163], [-7.86865, -35.08171], [26.55063, -80.14866], [21.44472, -157.83778], [21.44472, -157.83778], [21.44472, -157.83778], [35.13155, -79.42948], [-33.8701, 150.86119], [26.55063, -80.14866], [-12.37954, 130.8732], [36.70983, -81.97735], [26.55063, -80.14866], [-35.0768, 138.59163], [-35.0768, 138.59163], [26.55063, -80.14866], [26.55063, -80.14866], [26.55063, -80.14866], [44.63651, -123.10593], [-7.86865, -35.08171], [26.55063, -80.14866], [26.55063, -80.14866], [-7.86865, -35.08171], [26.55063, -80.14866], [26.55063, -80.14866], [26.55063, -80.14866], [26.55063, -80.14866], [26.55063, -80.14866], [37.90472, -122.07857], [36.70983, -81.97735], [26.55063, -80.14866], [-7.86865, -35.08171], [26.55063, -80.14866], [-35.0768, 138.59163], [26.55063, -80.14866], [26.55063, -80.14866], [26.55063, -80.14866], [26.55063, -80.14866], [44.63651, -123.10593], [26.55063, -80.14866], [-7.86865, -35.08171], [26.55063, -80.14866], [26.55063, -80.14866], [26.55063, -80.14866], [-33.8701, 150.86119], [18.5011, -73.3449], [-35.0768, 138.59163], [-26.029, 32.389], [36.70983, -81.97735], [26.55063, -80.14866], [26.55063, -80.14866], [-33.66364, 115.25635], [26.55063, -80.14866], [-33.8701, 150.86119], [-33.66364, 115.25635], [21.44472, -157.83778], [26.55063, -80.14866], [26.55063, -80.14866], [26.55063, -80.14866], [-7.86865, -35.08171], [26.55063, -80.14866], [26.55063, -80.14866], [26.55063, -80.14866], [26.55063, -80.14866], [26.55063, -80.14866], [37.90472, -122.07857], [20.39693, -87.31444], [20.39693, -87.31444], [26.55063, -80.14866], [26.10426, 34.27793], [21.06667, 36.31667], [26.10426, 34.27793], [21.06667, 36.31667], [26.55063, -80.14866], [26.55063, -80.14866], [33.8323, -101.84295], [26.55063, -80.14866], [26.55063, -80.14866], [26.55063, -80.14866], [-27.58333, 153.03333], [-7.86865, -35.08171], [34.17817, -82.37901], [-7.86865, -35.08171], [21.44472, -157.83778], [26.55063, -80.14866], [-23.00667, -44.31806], [26.55063, -80.14866], [26.55063, -80.14866], [26.55063, -80.14866], [26.55063, -80.14866], [-23.00667, -44.31806], [-27.58333, 153.03333], [-27.58333, 153.03333], [21.44472, -157.83778], [-33.8701, 150.86119], [-27.58333, 153.03333], [-33.66364, 115.25635], [-37.8, 145.0], [35.88152, 14.39872], [-27.58333, 153.03333], [37.90472, -122.07857], [26.55063, -80.14866], [-7.86865, -35.08171], [-7.86865, -35.08171], [37.90472, -122.07857], [26.55063, -80.14866], [37.90472, -122.07857], [-7.86865, -35.08171], [26.55063, -80.14866], [-43.95353, -176.55973], [26.55063, -80.14866], [26.55063, -80.14866], [26.55063, -80.14866], [34.17817, -82.37901], [-27.73558, 30.13537], [21.44472, -157.83778], [37.90472, -122.07857], [26.55063, -80.14866], [26.55063, -80.14866], [42.10482, -70.94532], [26.55063, -80.14866], [21.44472, -157.83778], [26.55063, -80.14866], [26.55063, -80.14866], [34.17817, -82.37901], [-37.8, 145.0], [35.88152, 14.39872], [-27.73558, 30.13537], [-33.8701, 150.86119], [26.55063, -80.14866], [26.55063, -80.14866], [21.44472, -157.83778], [-33.8701, 150.86119], [-33.8701, 150.86119], [-7.86865, -35.08171], [-27.58333, 153.03333], [-33.8701, 150.86119], [-33.8701, 150.86119], [40.19056, -92.60072], [-4.5, 145.0], [-4.5, 145.0], [-4.5, 145.0], [-33.8701, 150.86119], [26.55063, -80.14866], [-27.58333, 153.03333], [21.44472, -157.83778], [-33.66364, 115.25635], [-33.8701, 150.86119], [35.13155, -79.42948], [21.44472, -157.83778], [21.44472, -157.83778], [-27.58333, 153.03333], [26.55063, -80.14866], [26.55063, -80.14866], [-27.58333, 153.03333], [26.55063, -80.14866], [26.55063, -80.14866], [26.55063, -80.14866], [37.90472, -122.07857], [26.55063, -80.14866], [26.55063, -80.14866], [26.55063, -80.14866], [-33.66364, 115.25635], [37.90472, -122.07857], [35.13155, -79.42948], [26.55063, -80.14866], [34.17817, -82.37901], [-7.86865, -35.08171], [26.55063, -80.14866], [26.55063, -80.14866], [35.13155, -79.42948], [35.13155, -79.42948], [26.55063, -80.14866], [35.13155, -79.42948], [26.55063, -80.14866], [35.13155, -79.42948], [26.55063, -80.14866], [34.17817, -82.37901], [26.55063, -80.14866], [37.90472, -122.07857], [26.55063, -80.14866], [26.55063, -80.14866], [26.55063, -80.14866], [26.55063, -80.14866], [34.17817, -82.37901], [34.17817, -82.37901], [26.55063, -80.14866], [-7.86865, -35.08171], [33.8323, -101.84295], [33.82511, -88.54366], [34.17817, -82.37901], [37.90472, -122.07857], [37.90472, -122.07857], [31.99212, -83.30682], [34.17817, -82.37901], [26.55063, -80.14866], [26.55063, -80.14866], [21.44472, -157.83778], [26.55063, -80.14866], [-33.66364, 115.25635], [26.55063, -80.14866], [26.55063, -80.14866], [-33.8701, 150.86119], [35.17234, 136.69478], [-33.8701, 150.86119], [-35.0768, 138.59163], [-4.69214, -47.34302], [-27.73558, 30.13537], [-7.86865, -35.08171], [-27.58333, 153.03333], [35.13155, -79.42948], [34.17817, -82.37901], [21.44472, -157.83778], [-7.86865, -35.08171], [-7.86865, -35.08171], [-27.58333, 153.03333], [37.90472, -122.07857], [-7.86865, -35.08171], [21.44472, -157.83778], [21.44472, -157.83778], [-7.86865, -35.08171], [-7.86865, -35.08171], [26.55063, -80.14866], [26.55063, -80.14866], [34.17817, -82.37901], [44.63651, -123.10593], [26.55063, -80.14866], [21.44472, -157.83778], [31.7846, 130.60668], [-7.86865, -35.08171], [-7.86865, -35.08171], [-7.86865, -35.08171], [26.55063, -80.14866], [26.55063, -80.14866], [26.55063, -80.14866], [26.55063, -80.14866], [26.55063, -80.14866], [26.55063, -80.14866], [26.55063, -80.14866], [37.90472, -122.07857], [26.55063, -80.14866], [37.90472, -122.07857], [-7.86865, -35.08171], [26.55063, -80.14866], [21.44472, -157.83778], [-7.86865, -35.08171], [21.44472, -157.83778], [-33.66364, 115.25635], [-27.58333, 153.03333], [-27.73558, 30.13537], [26.55063, -80.14866], [21.44472, -157.83778], [26.55063, -80.14866], [-33.66364, 115.25635], [21.44472, -157.83778], [37.90472, -122.07857], [26.55063, -80.14866], [37.90472, -122.07857], [21.44472, -157.83778], [-7.71444, -79.10778], [-7.71444, -79.10778], [26.55063, -80.14866], [26.55063, -80.14866], [26.55063, -80.14866], [21.44472, -157.83778], [37.90472, -122.07857], [35.13155, -79.42948], [-33.66364, 115.25635], [37.90472, -122.07857], [-7.71444, -79.10778], [26.55063, -80.14866], [-7.86865, -35.08171], [20.39693, -87.31444], [21.44472, -157.83778], [-33.8701, 150.86119], [-42.87932, 147.48459], [35.13155, -79.42948], [-42.87932, 147.48459], [-7.86865, -35.08171], [26.55063, -80.14866], [33.97661, 132.77767], [21.44472, -157.83778], [37.90472, -122.07857], [-27.58333, 153.03333], [-7.86865, -35.08171], [-27.58333, 153.03333], [44.63651, -123.10593], [26.55063, -80.14866], [21.44472, -157.83778], [21.44472, -157.83778], [37.90472, -122.07857], [26.55063, -80.14866], [26.55063, -80.14866], [37.90472, -122.07857], [37.90472, -122.07857], [26.55063, -80.14866], [21.44472, -157.83778], [37.90472, -122.07857], [21.44472, -157.83778], [-33.8701, 150.86119], [-4.69214, -47.34302], [-27.58333, 153.03333], [-7.86865, -35.08171], [44.63651, -123.10593], [26.55063, -80.14866], [-7.86865, -35.08171], [26.55063, -80.14866], [-35.0768, 138.59163], [21.44472, -157.83778], [37.90472, -122.07857], [26.55063, -80.14866], [26.55063, -80.14866], [21.44472, -157.83778], [26.55063, -80.14866], [-4.69214, -47.34302], [-4.69214, -47.34302], [-7.86865, -35.08171], [33.97661, 132.77767], [35.13155, -79.42948], [21.44472, -157.83778], [-37.8, 145.0], [35.88152, 14.39872], [33.97661, 132.77767], [33.97661, 132.77767], [44.63651, -123.10593], [21.44472, -157.83778], [33.97661, 132.77767], [-42.87932, 147.48459], [-33.8701, 150.86119], [-27.73558, 30.13537], [-27.73558, 30.13537], [33.97661, 132.77767], [37.90472, -122.07857], [21.44472, -157.83778], [21.44472, -157.83778], [21.44472, -157.83778], [26.55063, -80.14866], [-33.66364, 115.25635], [26.55063, -80.14866], [37.90472, -122.07857], [-35.0768, 138.59163], [-27.58333, 153.03333], [34.17817, -82.37901], [26.55063, -80.14866], [26.55063, -80.14866], [26.55063, -80.14866], [26.55063, -80.14866], [26.55063, -80.14866], [37.90472, -122.07857], [36.70983, -81.97735], [26.55063, -80.14866], [26.55063, -80.14866], [21.44472, -157.83778], [-7.86865, -35.08171], [39.50956, -76.16412], [26.55063, -80.14866], [21.44472, -157.83778], [-33.8701, 150.86119], [44.63651, -123.10593], [-27.58333, 153.03333], [-33.66364, 115.25635], [-27.58333, 153.03333], [-27.58333, 153.03333], [37.90472, -122.07857], [26.55063, -80.14866], [26.55063, -80.14866], [26.55063, -80.14866], [-27.58333, 153.03333], [-35.0768, 138.59163], [26.55063, -80.14866], [21.44472, -157.83778], [26.55063, -80.14866], [37.90472, -122.07857], [37.90472, -122.07857], [26.55063, -80.14866], [37.90472, -122.07857], [33.8323, -101.84295], [33.8323, -101.84295], [33.8323, -101.84295], [26.55063, -80.14866], [-27.73558, 30.13537], [-27.58333, 153.03333], [-27.58333, 153.03333], [-27.58333, 153.03333], [-27.58333, 153.03333], [-27.58333, 153.03333], [-27.58333, 153.03333], [21.44472, -157.83778], [21.44472, -157.83778], [26.55063, -80.14866], [37.90472, -122.07857], [26.55063, -80.14866], [21.44472, -157.83778], [-12.37954, 130.8732], [-27.58333, 153.03333], [-37.8, 145.0], [35.88152, 14.39872], [21.44472, -157.83778], [-27.58333, 153.03333], [-12.37954, 130.8732], [-42.87932, 147.48459], [21.44472, -157.83778], [33.8323, -101.84295], [35.13155, -79.42948], [-37.8, 145.0], [35.88152, 14.39872], [26.55063, -80.14866], [37.90472, -122.07857], [37.90472, -122.07857], [35.13155, -79.42948], [37.90472, -122.07857], [-27.58333, 153.03333], [26.55063, -80.14866], [-33.8701, 150.86119], [-27.58333, 153.03333], [26.55063, -80.14866], [33.8323, -101.84295], [21.44472, -157.83778], [29.97465, -92.13429], [42.8812, 11.6722], [26.55063, -80.14866], [46.97537, -123.81572], [37.90472, -122.07857], [21.44472, -157.83778], [21.44472, -157.83778], [-35.0768, 138.59163], [-33.66364, 115.25635], [-27.73558, 30.13537], [37.90472, -122.07857], [37.90472, -122.07857], [21.44472, -157.83778], [-27.73558, 30.13537], [21.44472, -157.83778], [-33.8701, 150.86119], [36.70983, -81.97735], [-27.58333, 153.03333], [-27.58333, 153.03333], [44.63651, -123.10593], [-37.8, 145.0], [35.88152, 14.39872], [26.55063, -80.14866], [26.55063, -80.14866], [26.55063, -80.14866], [-35.0768, 138.59163], [26.55063, -80.14866], [26.55063, -80.14866], [26.55063, -80.14866], [26.55063, -80.14866], [29.97465, -92.13429], [37.90472, -122.07857], [26.55063, -80.14866], [26.55063, -80.14866], [35.13155, -79.42948], [34.17817, -82.37901], [26.55063, -80.14866], [26.55063, -80.14866], [26.55063, -80.14866], [26.55063, -80.14866], [16.25575, -14.10165], [37.90472, -122.07857], [26.55063, -80.14866], [21.44472, -157.83778], [26.55063, -80.14866], [26.55063, -80.14866], [-27.73558, 30.13537], [26.55063, -80.14866], [21.44472, -157.83778], [-27.73558, 30.13537], [-27.73558, 30.13537], [-27.73558, 30.13537], [-33.66364, 115.25635], [-27.73558, 30.13537], [29.97465, -92.13429], [-33.8701, 150.86119], [26.55063, -80.14866], [-33.8701, 150.86119], [26.55063, -80.14866], [-27.73558, 30.13537], [37.90472, -122.07857], [-27.73558, 30.13537], [-35.0768, 138.59163], [26.55063, -80.14866], [37.90472, -122.07857], [26.55063, -80.14866], [33.8323, -101.84295], [33.8323, -101.84295], [34.17817, -82.37901], [26.55063, -80.14866], [34.17817, -82.37901], [26.55063, -80.14866], [-33.8701, 150.86119], [-27.73558, 30.13537], [33.8323, -101.84295], [21.44472, -157.83778], [-33.66364, 115.25635], [26.55063, -80.14866], [-27.58333, 153.03333], [26.55063, -80.14866], [37.90472, -122.07857], [26.55063, -80.14866], [26.55063, -80.14866], [26.55063, -80.14866], [-27.73558, 30.13537], [26.55063, -80.14866], [-27.73558, 30.13537], [-33.66364, 115.25635], [26.55063, -80.14866], [26.55063, -80.14866], [26.55063, -80.14866], [26.55063, -80.14866], [35.13155, -79.42948], [-33.8701, 150.86119], [-33.66364, 115.25635], [34.17817, -82.37901], [-27.73558, 30.13537], [-33.8701, 150.86119], [21.44472, -157.83778], [41.51682, 1.901], [-27.73558, 30.13537], [-37.8, 145.0], [35.88152, 14.39872], [26.55063, -80.14866], [37.90472, -122.07857], [-27.73558, 30.13537], [35.13155, -79.42948], [-27.58333, 153.03333], [37.90472, -122.07857], [37.90472, -122.07857], [37.90472, -122.07857], [21.44472, -157.83778], [21.44472, -157.83778], [31.57184, -85.25049], [37.90472, -122.07857], [-27.73558, 30.13537], [26.55063, -80.14866], [26.55063, -80.14866], [34.17817, -82.37901], [26.55063, -80.14866], [26.55063, -80.14866], [26.55063, -80.14866], [26.55063, -80.14866], [37.90472, -122.07857], [34.17817, -82.37901], [37.02318, 14.49302], [37.90472, -122.07857], [-27.73558, 30.13537], [26.55063, -80.14866], [-35.0768, 138.59163], [37.90472, -122.07857], [26.55063, -80.14866], [-27.73558, 30.13537], [-27.73558, 30.13537], [-27.73558, 30.13537], [-27.58333, 153.03333], [26.55063, -80.14866], [26.55063, -80.14866], [26.55063, -80.14866], [26.55063, -80.14866], [26.55063, -80.14866], [26.55063, -80.14866], [44.63651, -123.10593], [37.90472, -122.07857], [26.55063, -80.14866], [26.55063, -80.14866], [26.55063, -80.14866], [26.55063, -80.14866], [37.90472, -122.07857], [37.90472, -122.07857], [32.54667, -116.61722], [26.55063, -80.14866], [33.8323, -101.84295], [33.8323, -101.84295], [26.55063, -80.14866], [-27.73558, 30.13537], [21.44472, -157.83778], [-27.73558, 30.13537], [-33.66364, 115.25635], [-27.73558, 30.13537], [-27.58333, 153.03333], [-27.73558, 30.13537], [37.90472, -122.07857], [26.55063, -80.14866], [26.55063, -80.14866], [-35.0768, 138.59163], [-27.73558, 30.13537], [26.55063, -80.14866], [-27.73558, 30.13537], [26.55063, -80.14866], [26.55063, -80.14866], [26.55063, -80.14866], [44.63651, -123.10593], [36.70983, -81.97735], [26.55063, -80.14866], [26.55063, -80.14866], [41.42343, -71.78562], [-27.58333, 153.03333], [-27.58333, 153.03333], [-27.58333, 153.03333], [26.55063, -80.14866], [26.55063, -80.14866], [26.55063, -80.14866], [26.55063, -80.14866], [26.55063, -80.14866], [26.55063, -80.14866], [26.55063, -80.14866], [26.55063, -80.14866], [26.55063, -80.14866], [-27.73558, 30.13537], [-27.73558, 30.13537], [26.55063, -80.14866], [-27.73558, 30.13537], [34.17817, -82.37901], [-27.73558, 30.13537], [34.17817, -82.37901], [26.55063, -80.14866], [26.55063, -80.14866], [37.90472, -122.07857], [37.90472, -122.07857], [26.55063, -80.14866], [32.48513, 130.0724], [37.90472, -122.07857], [-27.73558, 30.13537], [37.90472, -122.07857], [26.55063, -80.14866], [37.90472, -122.07857], [26.55063, -80.14866], [34.17817, -82.37901], [26.55063, -80.14866], [21.44472, -157.83778], [34.17817, -82.37901], [26.55063, -80.14866], [-33.8701, 150.86119], [-42.87932, 147.48459], [26.55063, -80.14866], [21.44472, -157.83778], [21.44472, -157.83778], [26.55063, -80.14866], [37.90472, -122.07857], [26.55063, -80.14866], [37.90472, -122.07857], [-27.58333, 153.03333], [21.44472, -157.83778], [21.44472, -157.83778], [26.55063, -80.14866], [26.55063, -80.14866], [26.55063, -80.14866], [26.55063, -80.14866], [26.55063, -80.14866], [26.55063, -80.14866], [26.55063, -80.14866], [26.55063, -80.14866], [26.55063, -80.14866], [26.55063, -80.14866], [26.55063, -80.14866], [21.44472, -157.83778], [26.55063, -80.14866], [26.55063, -80.14866], [26.55063, -80.14866], [26.55063, -80.14866], [-27.73558, 30.13537], [21.44472, -157.83778], [21.44472, -157.83778], [26.55063, -80.14866], [26.55063, -80.14866], [26.55063, -80.14866], [26.55063, -80.14866], [-30.21666667, -71.08333333], [-23.00667, -44.31806], [-27.73558, 30.13537], [-33.66364, 115.25635], [-33.66364, 115.25635], [26.55063, -80.14866], [-23.00667, -44.31806], [26.55063, -80.14866], [-27.73558, 30.13537], [-33.8701, 150.86119], [18.5011, -73.3449], [-33.66364, 115.25635], [-27.73558, 30.13537], [-7.86865, -35.08171], [44.63651, -123.10593], [37.90472, -122.07857], [35.13155, -79.42948], [21.44472, -157.83778], [28.12271, -16.726], [39.42845, -74.49571], [39.62928, -75.65826], [35.13155, -79.42948], [26.55063, -80.14866], [37.90472, -122.07857], [24.89639, -107.63278], [-27.73558, 30.13537], [-23.00667, -44.31806], [-27.73558, 30.13537], [-27.73558, 30.13537], [44.63651, -123.10593], [-33.8701, 150.86119], [26.55063, -80.14866], [26.55063, -80.14866], [26.55063, -80.14866], [-27.73558, 30.13537], [26.55063, -80.14866], [26.55063, -80.14866], [26.55063, -80.14866], [37.90472, -122.07857], [21.44472, -157.83778], [-27.58333, 153.03333], [-27.73558, 30.13537], [21.44472, -157.83778], [26.55063, -80.14866], [-27.73558, 30.13537], [-42.87932, 147.48459], [37.90472, -122.07857], [26.55063, -80.14866], [34.17817, -82.37901], [37.90472, -122.07857], [26.55063, -80.14866], [26.55063, -80.14866], [-42.87932, 147.48459], [-27.73558, 30.13537], [-27.73558, 30.13537], [26.55063, -80.14866], [21.44472, -157.83778], [26.55063, -80.14866], [-35.0768, 138.59163], [-27.58333, 153.03333], [37.90472, -122.07857], [26.55063, -80.14866], [37.90472, -122.07857], [26.55063, -80.14866], [33.8323, -101.84295], [-27.58333, 153.03333], [-27.58333, 153.03333], [21.44472, -157.83778], [-27.58333, 153.03333], [-27.58333, 153.03333], [-27.58333, 153.03333], [-33.8701, 150.86119], [-37.8, 145.0], [35.88152, 14.39872], [16.82917, -99.74083], [-27.58333, 153.03333], [37.90472, -122.07857], [-27.58333, 153.03333], [26.55063, -80.14866], [-27.73558, 30.13537], [37.90472, -122.07857], [-35.0768, 138.59163], [26.55063, -80.14866], [26.55063, -80.14866], [26.55063, -80.14866], [35.13155, -79.42948], [44.63651, -123.10593], [26.55063, -80.14866], [29.97465, -92.13429], [21.44472, -157.83778], [26.55063, -80.14866], [26.55063, -80.14866], [21.44472, -157.83778], [-27.58333, 153.03333], [33.8323, -101.84295], [26.55063, -80.14866], [-27.58333, 153.03333], [26.55063, -80.14866], [21.44472, -157.83778], [-35.0768, 138.59163], [37.90472, -122.07857], [-33.8701, 150.86119], [-33.8701, 150.86119], [-27.73558, 30.13537], [-27.58333, 153.03333], [26.55063, -80.14866], [39.42845, -74.49571], [-33.8701, 150.86119], [37.90472, -122.07857], [-27.73558, 30.13537], [26.55063, -80.14866], [37.90472, -122.07857], [44.63651, -123.10593], [-42.87932, 147.48459], [26.55063, -80.14866], [-27.58333, 153.03333], [37.90472, -122.07857], [37.90472, -122.07857], [26.55063, -80.14866], [-33.66364, 115.25635], [26.55063, -80.14866], [34.17817, -82.37901], [34.17817, -82.37901], [31.57184, -85.25049], [26.55063, -80.14866], [26.55063, -80.14866], [26.55063, -80.14866], [26.55063, -80.14866], [-27.73558, 30.13537], [-27.73558, 30.13537], [-27.58333, 153.03333], [26.55063, -80.14866], [-27.58333, 153.03333], [-27.73558, 30.13537], [-35.0768, 138.59163], [-37.8, 145.0], [35.88152, 14.39872], [-27.58333, 153.03333], [-35.0768, 138.59163], [-33.66364, 115.25635], [26.55063, -80.14866], [37.90472, -122.07857], [37.90472, -122.07857], [26.10426, 34.27793], [21.06667, 36.31667], [37.90472, -122.07857], [37.90472, -122.07857], [-27.58333, 153.03333], [44.63651, -123.10593], [43.35694, 16.95028], [37.90472, -122.07857], [37.90472, -122.07857], [31.99212, -83.30682], [26.55063, -80.14866], [26.55063, -80.14866], [37.90472, -122.07857], [26.55063, -80.14866], [-27.73558, 30.13537], [-27.73558, 30.13537], [-27.73558, 30.13537], [-27.73558, 30.13537], [-27.73558, 30.13537], [-35.0768, 138.59163], [-27.73558, 30.13537], [-33.66364, 115.25635], [45.30861, 14.53028], [21.44472, -157.83778], [16.82917, -99.74083], [-33.66364, 115.25635], [26.55063, -80.14866], [-27.58333, 153.03333], [-27.73558, 30.13537], [32.54667, -116.61722], [26.10426, 34.27793], [21.06667, 36.31667], [-27.58333, 153.03333], [-27.58333, 153.03333], [36.70983, -81.97735], [16.82917, -99.74083], [-27.58333, 153.03333], [-27.73558, 30.13537], [16.82917, -99.74083], [-27.73558, 30.13537], [21.44472, -157.83778], [16.82917, -99.74083], [-27.58333, 153.03333], [-33.8701, 150.86119], [-27.58333, 153.03333], [-33.8701, 150.86119], [26.55063, -80.14866], [37.90472, -122.07857], [-26.029, 32.389], [26.55063, -80.14866], [21.44472, -157.83778], [-42.87932, 147.48459], [37.90472, -122.07857], [-27.58333, 153.03333], [-27.58333, 153.03333], [26.55063, -80.14866], [37.90472, -122.07857], [-27.58333, 153.03333], [21.44472, -157.83778], [-37.8, 145.0], [35.88152, 14.39872], [-42.87932, 147.48459], [-27.73558, 30.13537], [-33.8701, 150.86119], [-27.58333, 153.03333], [-33.8701, 150.86119], [26.55063, -80.14866], [-27.73558, 30.13537], [37.90472, -122.07857], [35.13155, -79.42948], [45.04056, 13.78361], [-35.0768, 138.59163], [-33.8701, 150.86119], [26.55063, -80.14866], [37.90472, -122.07857], [16.82917, -99.74083], [-42.87932, 147.48459], [-35.0768, 138.59163], [30.3392, 48.3043], [30.3392, 48.3043], [21.44472, -157.83778], [21.44472, -157.83778], [26.55063, -80.14866], [26.55063, -80.14866], [-33.8701, 150.86119], [34.17817, -82.37901], [26.55063, -80.14866], [26.55063, -80.14866], [-27.73558, 30.13537], [21.44472, -157.83778], [26.55063, -80.14866], [26.10426, 34.27793], [21.06667, 36.31667], [16.82917, -99.74083], [-3.0, 151.41667], [-9.07786, 143.20893], [-2.4846, 28.9075], [-8.10303, 156.84186], [6.8964, 79.9181], [-14.99307, 22.67926], [28.12271, -16.726], [40.12812, 8.8176], [44.03444, 15.61278], [-33.66364, 115.25635], [21.44472, -157.83778], [-33.8701, 150.86119], [21.44472, -157.83778], [37.90472, -122.07857], [26.55063, -80.14866], [42.10482, -70.94532], [26.55063, -80.14866], [26.55063, -80.14866], [26.55063, -80.14866], [37.90472, -122.07857], [26.55063, -80.14866], [26.55063, -80.14866], [33.8323, -101.84295], [26.55063, -80.14866], [-27.58333, 153.03333], [-33.8701, 150.86119], [26.55063, -80.14866], [-33.8701, 150.86119], [21.44472, -157.83778], [-42.87932, 147.48459], [-27.58333, 153.03333], [-33.8701, 150.86119], [-37.8, 145.0], [35.88152, 14.39872], [-27.73558, 30.13537], [-33.8701, 150.86119], [-35.0768, 138.59163], [-27.73558, 30.13537], [-27.73558, 30.13537], [-27.73558, 30.13537], [-4.5, 145.0], [-33.66364, 115.25635], [26.55063, -80.14866], [26.55063, -80.14866], [26.55063, -80.14866], [26.55063, -80.14866], [2.0441, 102.6527], [37.90472, -122.07857], [26.55063, -80.14866], [34.17817, -82.37901], [32.54667, -116.61722], [26.55063, -80.14866], [-3.0, 151.41667], [26.55063, -80.14866], [26.55063, -80.14866], [-33.8701, 150.86119], [-33.8701, 150.86119], [-27.73558, 30.13537], [26.55063, -80.14866], [26.55063, -80.14866], [26.55063, -80.14866], [-33.66364, 115.25635], [-35.0768, 138.59163], [-33.8701, 150.86119], [-7.41667, 146.75], [10.08354, -83.33413], [26.55063, -80.14866], [26.55063, -80.14866], [-10.08333, 148.91667], [-9.10306, 160.15056], [7.86, 80.65167], [-14.65685, 28.07057], [-37.8, 145.0], [35.88152, 14.39872], [-33.8701, 150.86119], [-27.58333, 153.03333], [-27.73558, 30.13537], [17.78306, -95.54556], [26.55063, -80.14866], [21.44472, -157.83778], [-3.0, 151.41667], [26.55063, -80.14866], [-3.0, 151.41667], [-3.0, 151.41667], [37.90472, -122.07857], [34.21158, 134.3335], [43.87092, 7.55414], [-33.66364, 115.25635], [-33.8701, 150.86119], [26.55063, -80.14866], [26.55063, -80.14866], [34.17817, -82.37901], [26.55063, -80.14866], [37.02318, 14.49302], [-35.0768, 138.59163], [-27.73558, 30.13537], [-37.8, 145.0], [35.88152, 14.39872], [-33.8701, 150.86119], [17.78306, -95.54556], [-37.8, 145.0], [35.88152, 14.39872], [-42.87932, 147.48459], [-33.8701, 150.86119], [-33.8701, 150.86119], [-33.8701, 150.86119], [-3.0, 151.41667], [-3.0, 151.41667], [-3.0, 151.41667], [-27.58333, 153.03333], [21.44472, -157.83778], [-33.66364, 115.25635], [-33.66364, 115.25635], [-33.66364, 115.25635], [26.55063, -80.14866], [-12.37954, 130.8732], [-27.73558, 30.13537], [45.30861, 14.53028], [39.62928, -75.65826], [26.55063, -80.14866], [33.8323, -101.84295], [34.17817, -82.37901], [33.8323, -101.84295], [26.55063, -80.14866], [39.42845, -74.49571], [26.55063, -80.14866], [33.8323, -101.84295], [-33.8701, 150.86119], [-33.8701, 150.86119], [26.55063, -80.14866], [18.16277778, -66.72222222], [-33.8701, 150.86119], [-33.8701, 150.86119], [26.10426, 34.27793], [21.06667, 36.31667], [-33.8701, 150.86119], [37.90472, -122.07857], [-33.8701, 150.86119], [-33.66364, 115.25635], [-27.73558, 30.13537], [26.55063, -80.14866], [37.90472, -122.07857], [-33.66364, 115.25635], [-35.0768, 138.59163], [-27.58333, 153.03333], [-27.58333, 153.03333], [-4.5, 145.0], [17.78306, -95.54556], [39.42845, -74.49571], [17.78306, -95.54556], [26.55063, -80.14866], [26.55063, -80.14866], [17.78306, -95.54556], [17.78306, -95.54556], [17.78306, -95.54556], [17.78306, -95.54556], [26.55063, -80.14866], [37.90472, -122.07857], [26.55063, -80.14866], [26.55063, -80.14866], [18.16277778, -66.72222222], [26.55063, -80.14866], [-27.73558, 30.13537], [42.10482, -70.94532], [37.90472, -122.07857], [-27.73558, 30.13537], [-27.73558, 30.13537], [-37.8, 145.0], [35.88152, 14.39872], [-10.08333, 148.91667], [-9.10306, 160.15056], [7.86, 80.65167], [-14.65685, 28.07057], [33.8323, -101.84295], [37.90472, -122.07857], [26.55063, -80.14866], [-33.8701, 150.86119], [-37.8, 145.0], [35.88152, 14.39872], [-27.58333, 153.03333], [-33.8701, 150.86119], [18.16277778, -66.72222222], [-27.73558, 30.13537], [26.55063, -80.14866], [-33.66364, 115.25635], [26.55063, -80.14866], [16.82917, -99.74083], [26.55063, -80.14866], [26.55063, -80.14866], [26.55063, -80.14866], [34.83767, 134.01792], [18.16277778, -66.72222222], [-27.73558, 30.13537], [41.34621, -73.079], [-27.73558, 30.13537], [26.55063, -80.14866], [-3.0, 151.41667], [-3.0, 151.41667], [43.80923, -76.02409], [37.90472, -122.07857], [-27.73558, 30.13537], [-4.5, 145.0], [-35.0768, 138.59163], [-10.08333, 148.91667], [-9.10306, 160.15056], [7.86, 80.65167], [-14.65685, 28.07057], [26.55063, -80.14866], [-27.58333, 153.03333], [26.55063, -80.14866], [9.11667, -83.25], [-33.66364, 115.25635], [37.90472, -122.07857], [-33.66364, 115.25635], [-27.73558, 30.13537], [-27.73558, 30.13537], [-27.58333, 153.03333], [-27.73558, 30.13537], [-33.8701, 150.86119], [-27.73558, 30.13537], [-35.0768, 138.59163], [37.02318, 14.49302], [-27.58333, 153.03333], [26.55063, -80.14866], [26.55063, -80.14866], [26.55063, -80.14866], [-33.8701, 150.86119], [26.55063, -80.14866], [26.55063, -80.14866], [33.82511, -88.54366], [-10.08333, 148.91667], [-9.10306, 160.15056], [7.86, 80.65167], [-14.65685, 28.07057], [37.90472, -122.07857], [-33.8701, 150.86119], [-27.73558, 30.13537], [-33.66364, 115.25635], [21.44472, -157.83778], [21.44472, -157.83778], [-3.0, 151.41667], [-33.8701, 150.86119], [-19.69444, 63.40833], [26.55063, -80.14866], [-33.8701, 150.86119], [-33.8701, 150.86119], [-27.73558, 30.13537], [-27.73558, 30.13537], [-35.0768, 138.59163], [-27.73558, 30.13537], [-35.0768, 138.59163], [-33.8701, 150.86119], [-27.58333, 153.03333], [37.90472, -122.07857], [-33.8701, 150.86119], [-27.73558, 30.13537], [17.78306, -95.54556], [-35.0768, 138.59163], [37.90472, -122.07857], [17.78306, -95.54556], [32.83693, 35.40029], [37.90472, -122.07857], [26.55063, -80.14866], [33.8323, -101.84295], [39.42845, -74.49571], [34.17817, -82.37901], [37.90472, -122.07857], [31.99212, -83.30682], [31.99212, -83.30682], [26.55063, -80.14866], [26.55063, -80.14866], [37.90472, -122.07857], [37.90472, -122.07857], [37.90472, -122.07857], [-4.5, 145.0], [34.17817, -82.37901], [-33.66364, 115.25635], [37.90472, -122.07857], [26.55063, -80.14866], [26.55063, -80.14866], [37.90472, -122.07857], [-27.58333, 153.03333], [-27.73558, 30.13537], [-33.8701, 150.86119], [-10.08333, 148.91667], [-9.10306, 160.15056], [7.86, 80.65167], [-14.65685, 28.07057], [-27.58333, 153.03333], [-27.73558, 30.13537], [-27.73558, 30.13537], [-27.58333, 153.03333], [-9.43333, 159.95], [-33.8701, 150.86119], [-27.73558, 30.13537], [37.90472, -122.07857], [-33.8701, 150.86119], [-33.8701, 150.86119], [-35.0768, 138.59163], [-35.0768, 138.59163], [-33.8701, 150.86119], [-27.58333, 153.03333], [-33.8701, 150.86119], [-33.8701, 150.86119], [41.51682, 1.901], [-35.0768, 138.59163], [-27.58333, 153.03333], [-27.58333, 153.03333], [-27.73558, 30.13537], [-33.66364, 115.25635], [-35.0768, 138.59163], [-27.58333, 153.03333], [26.55063, -80.14866], [26.55063, -80.14866], [26.55063, -80.14866], [45.30861, 14.53028], [-33.66364, 115.25635], [37.90472, -122.07857], [34.17817, -82.37901], [21.44472, -157.83778], [-3.13697, 142.34913], [43.80923, -76.02409], [-27.58333, 153.03333], [26.55063, -80.14866], [26.55063, -80.14866], [26.55063, -80.14866], [37.90472, -122.07857], [26.55063, -80.14866], [-33.66364, 115.25635], [26.55063, -80.14866], [-33.8701, 150.86119], [26.55063, -80.14866], [-33.8701, 150.86119], [-33.8701, 150.86119], [-37.8, 145.0], [35.88152, 14.39872], [-33.66364, 115.25635], [-35.0768, 138.59163], [-37.8, 145.0], [35.88152, 14.39872], [-33.66364, 115.25635], [-35.0768, 138.59163], [-27.73558, 30.13537], [39.88649, -76.9847], [-37.8, 145.0], [35.88152, 14.39872], [-33.66364, 115.25635], [37.90472, -122.07857], [-27.73558, 30.13537], [-33.8701, 150.86119], [-27.73558, 30.13537], [-12.37954, 130.8732], [-27.73558, 30.13537], [-42.87932, 147.48459], [-33.8701, 150.86119], [21.44472, -157.83778], [21.44472, -157.83778], [-33.8701, 150.86119], [-27.73558, 30.13537], [-27.58333, 153.03333], [-27.58333, 153.03333], [-27.58333, 153.03333], [26.55063, -80.14866], [-27.58333, 153.03333], [-33.66364, 115.25635], [-10.08333, 148.91667], [-9.10306, 160.15056], [7.86, 80.65167], [-14.65685, 28.07057], [37.90472, -122.07857], [-33.8701, 150.86119], [26.55063, -80.14866], [34.17817, -82.37901], [-33.66364, 115.25635], [39.42845, -74.49571], [33.8323, -101.84295], [41.34621, -73.079], [-10.25, 150.08333], [39.42845, -74.49571], [39.42845, -74.49571], [26.55063, -80.14866], [39.62928, -75.65826], [34.17817, -82.37901], [-10.25, 150.08333], [33.82511, -88.54366], [36.70983, -81.97735], [34.17817, -82.37901], [26.55063, -80.14866], [37.90472, -122.07857], [31.99212, -83.30682], [37.90472, -122.07857], [26.55063, -80.14866], [-27.73558, 30.13537], [37.90472, -122.07857], [-33.66364, 115.25635], [-33.8701, 150.86119], [-33.66364, 115.25635], [-37.8, 145.0], [35.88152, 14.39872], [-33.8701, 150.86119], [-35.0768, 138.59163], [26.55063, -80.14866], [-42.87932, 147.48459], [21.44472, -157.83778], [-10.08333, 148.91667], [-9.10306, 160.15056], [7.86, 80.65167], [-14.65685, 28.07057], [-33.8701, 150.86119], [-33.8701, 150.86119], [21.44472, -157.83778], [-35.0768, 138.59163], [-33.8701, 150.86119], [-33.66364, 115.25635], [-42.87932, 147.48459], [-2.1597, 30.5427], [25.93402, 49.6688], [8.34959, -11.33059], [7.29754, 81.68202], [-14.06779, 32.43917], [-2.1597, 30.5427], [25.93402, 49.6688], [8.34959, -11.33059], [7.29754, 81.68202], [-14.06779, 32.43917], [-6.20655, 149.54744], [-27.58333, 153.03333], [-33.8701, 150.86119], [-27.58333, 153.03333], [-37.8, 145.0], [35.88152, 14.39872], [-35.0768, 138.59163], [-37.8, 145.0], [35.88152, 14.39872], [-27.58333, 153.03333], [-27.58333, 153.03333], [29.97465, -92.13429], [-35.0768, 138.59163], [37.90472, -122.07857], [-33.66364, 115.25635], [-26.029, 32.389], [37.90472, -122.07857], [26.55063, -80.14866], [34.17817, -82.37901], [37.90472, -122.07857], [43.80923, -76.02409], [-42.87932, 147.48459], [26.55063, -80.14866], [26.55063, -80.14866], [34.17817, -82.37901], [37.90472, -122.07857], [34.07937, 135.1423], [31.99212, -83.30682], [37.90472, -122.07857], [42.8812, 11.6722], [37.90472, -122.07857], [37.90472, -122.07857], [34.83767, 134.01792], [37.90472, -122.07857], [37.90472, -122.07857], [37.90472, -122.07857], [26.55063, -80.14866], [20.39693, -87.31444], [37.90472, -122.07857], [37.90472, -122.07857], [26.55063, -80.14866], [37.90472, -122.07857], [26.55063, -80.14866], [-33.8701, 150.86119], [21.44472, -157.83778], [-33.8701, 150.86119], [26.55063, -80.14866], [26.55063, -80.14866], [-37.8, 145.0], [35.88152, 14.39872], [11.08172, -63.96549], [-9.43333, 159.95], [-27.73558, 30.13537], [-33.66364, 115.25635], [-42.87932, 147.48459], [-42.87932, 147.48459], [-27.58333, 153.03333], [-10.25, 150.08333], [-26.029, 32.389], [-42.87932, 147.48459], [36.78361, 127.00417], [-6.20655, 149.54744], [-6.20655, 149.54744], [-7.41667, 146.75], [-4.5, 145.0], [21.44472, -157.83778], [-27.58333, 153.03333], [37.90472, -122.07857], [37.90472, -122.07857], [26.55063, -80.14866], [-6.20655, 149.54744], [43.80923, -76.02409], [32.54667, -116.61722], [45.30861, 14.53028], [16.82917, -99.74083], [26.55063, -80.14866], [26.55063, -80.14866], [26.55063, -80.14866], [26.55063, -80.14866], [26.55063, -80.14866], [26.55063, -80.14866], [26.55063, -80.14866], [26.55063, -80.14866], [-27.58333, 153.03333], [-27.73558, 30.13537], [26.55063, -80.14866], [-27.73558, 30.13537], [-27.73558, 30.13537], [-7.41667, 146.75], [-33.8701, 150.86119], [-33.8701, 150.86119], [-33.8701, 150.86119], [36.03333, 140.2], [-27.73558, 30.13537], [-6.20655, 149.54744], [-6.20655, 149.54744], [-7.41667, 146.75], [-27.73558, 30.13537], [-35.0768, 138.59163], [-27.73558, 30.13537], [-27.73558, 30.13537], [-27.73558, 30.13537], [-27.73558, 30.13537], [-27.73558, 30.13537], [-33.8701, 150.86119], [26.55063, -80.14866], [37.90472, -122.07857], [35.13155, -79.42948], [-33.8701, 150.86119], [26.55063, -80.14866], [37.90472, -122.07857], [-33.8701, 150.86119], [26.55063, -80.14866], [26.55063, -80.14866], [-33.66364, 115.25635], [26.55063, -80.14866], [-27.73558, 30.13537], [-9.07786, 143.20893], [-2.4846, 28.9075], [-8.10303, 156.84186], [6.8964, 79.9181], [-14.99307, 22.67926], [26.55063, -80.14866], [23.15794, -82.27837], [23.15794, -82.27837], [23.15794, -82.27837], [26.55063, -80.14866], [-10.25, 150.08333], [-10.25, 150.08333], [1.00019, 9.58229], [-10.08333, 148.91667], [-9.10306, 160.15056], [7.86, 80.65167], [-14.65685, 28.07057], [26.55063, -80.14866], [-10.08333, 148.91667], [-9.10306, 160.15056], [7.86, 80.65167], [-14.65685, 28.07057], [-10.08333, 148.91667], [-9.10306, 160.15056], [7.86, 80.65167], [-14.65685, 28.07057], [18.16277778, -66.72222222], [-27.58333, 153.03333], [37.90472, -122.07857], [-27.73558, 30.13537], [-10.08333, 148.91667], [-9.10306, 160.15056], [7.86, 80.65167], [-14.65685, 28.07057], [-10.08333, 148.91667], [-9.10306, 160.15056], [7.86, 80.65167], [-14.65685, 28.07057], [18.16277778, -66.72222222], [37.90472, -122.07857], [26.55063, -80.14866], [34.17817, -82.37901], [32.70143, -16.77874], [-33.8701, 150.86119], [-37.8, 145.0], [35.88152, 14.39872], [-33.66364, 115.25635], [-27.58333, 153.03333], [-37.8, 145.0], [35.88152, 14.39872], [-33.8701, 150.86119], [-4.5, 145.0], [36.70983, -81.97735], [36.70983, -81.97735], [-10.25, 150.08333], [-3.0, 151.41667], [-42.87932, 147.48459], [26.55063, -80.14866], [-10.08333, 148.91667], [-9.10306, 160.15056], [7.86, 80.65167], [-14.65685, 28.07057], [-27.58333, 153.03333], [21.44472, -157.83778], [37.90472, -122.07857], [37.90472, -122.07857], [37.90472, -122.07857], [45.30861, 14.53028], [34.17817, -82.37901], [-35.0768, 138.59163], [34.83767, 134.01792], [41.42343, -71.78562], [37.90472, -122.07857], [-10.08333, 148.91667], [-9.10306, 160.15056], [7.86, 80.65167], [-14.65685, 28.07057], [21.44472, -157.83778], [-33.8701, 150.86119], [-33.66364, 115.25635], [37.90472, -122.07857], [37.90472, -122.07857], [-33.8701, 150.86119], [9.4423, 78.4399], [-33.8701, 150.86119], [-33.8701, 150.86119], [-33.8701, 150.86119], [-27.73558, 30.13537], [26.55063, -80.14866], [23.15794, -82.27837], [40.80448, -90.4018], [-37.8, 145.0], [35.88152, 14.39872], [-10.08333, 148.91667], [-9.10306, 160.15056], [7.86, 80.65167], [-14.65685, 28.07057], [-27.73558, 30.13537], [36.70983, -81.97735], [44.03444, 15.61278], [32.69732, 128.84561], [37.90472, -122.07857], [39.42845, -74.49571], [29.97465, -92.13429], [29.97465, -92.13429], [26.55063, -80.14866], [37.90472, -122.07857], [-27.58333, 153.03333], [-4.5, 145.0], [21.44472, -157.83778], [26.10426, 34.27793], [21.06667, 36.31667], [-33.8701, 150.86119], [-33.8701, 150.86119], [-4.5, 145.0], [32.54667, -116.61722], [21.44472, -157.83778], [-6.20655, 149.54744], [-27.58333, 153.03333], [-33.8701, 150.86119], [-33.8701, 150.86119], [37.90472, -122.07857], [31.99212, -83.30682], [43.80923, -76.02409], [21.44472, -157.83778], [16.82917, -99.74083], [19.36433, -103.57676], [21.44472, -157.83778], [37.90472, -122.07857], [26.55063, -80.14866], [45.83345, -64.19874], [21.44472, -157.83778], [-27.58333, 153.03333], [-33.8701, 150.86119], [33.8323, -101.84295], [-33.8701, 150.86119], [-35.0768, 138.59163], [-10.25, 150.08333], [21.44472, -157.83778], [-33.8701, 150.86119], [-35.0768, 138.59163], [-42.87932, 147.48459], [26.55063, -80.14866], [-37.8, 145.0], [35.88152, 14.39872], [-35.0768, 138.59163], [21.44472, -157.83778], [37.90472, -122.07857], [21.44472, -157.83778], [26.55063, -80.14866], [34.17817, -82.37901], [34.17817, -82.37901], [37.90472, -122.07857], [37.90472, -122.07857], [18.16277778, -66.72222222], [37.90472, -122.07857], [-33.66364, 115.25635], [-35.0768, 138.59163], [-33.8701, 150.86119], [-3.0, 151.41667], [26.55063, -80.14866], [-33.8701, 150.86119], [-19.84361, 34.83889], [-33.8701, 150.86119], [-27.73558, 30.13537], [17.98297, -76.78685], [-27.73558, 30.13537], [-27.58333, 153.03333], [34.17817, -82.37901], [-27.58333, 153.03333], [37.90472, -122.07857], [21.44472, -157.83778], [-33.8701, 150.86119], [-33.8701, 150.86119], [-27.73558, 30.13537], [-33.8701, 150.86119], [-33.8701, 150.86119], [-27.73558, 30.13537], [-33.8701, 150.86119], [-4.5, 145.0], [-27.58333, 153.03333], [-33.8701, 150.86119], [-27.58333, 153.03333], [-12.37954, 130.8732], [-27.58333, 153.03333], [-27.58333, 153.03333], [37.90472, -122.07857], [-27.58333, 153.03333], [-7.71444, -79.10778], [-2.1597, 30.5427], [25.93402, 49.6688], [8.34959, -11.33059], [7.29754, 81.68202], [-14.06779, 32.43917], [-35.0768, 138.59163], [33.8323, -101.84295], [33.8323, -101.84295], [26.55063, -80.14866], [43.80923, -76.02409], [26.55063, -80.14866], [-27.73558, 30.13537], [-27.58333, 153.03333], [-27.73558, 30.13537], [-33.66364, 115.25635], [-33.66364, 115.25635], [-27.73558, 30.13537], [21.44472, -157.83778], [-37.8, 145.0], [35.88152, 14.39872], [-42.87932, 147.48459], [-2.1597, 30.5427], [25.93402, 49.6688], [8.34959, -11.33059], [7.29754, 81.68202], [-14.06779, 32.43917], [-2.59667, 29.73944], [8.10826, -11.84772], [6.2355, 80.0538], [-16.80889, 26.9875], [26.55063, -80.14866], [21.44472, -157.83778], [-37.8, 145.0], [35.88152, 14.39872], [-33.8701, 150.86119], [-37.8, 145.0], [35.88152, 14.39872], [-27.58333, 153.03333], [-27.58333, 153.03333], [42.8812, 11.6722], [-42.87932, 147.48459], [38.83585, 16.2653], [34.17817, -82.37901], [37.90472, -122.07857], [-33.66364, 115.25635], [-33.8701, 150.86119], [-27.58333, 153.03333], [-27.58333, 153.03333], [24.05844, -98.37333], [-35.0768, 138.59163], [-33.8701, 150.86119], [-33.8701, 150.86119], [-33.8701, 150.86119], [-33.66364, 115.25635], [-3.0, 151.41667], [-3.0, 151.41667], [-33.66364, 115.25635], [-27.58333, 153.03333], [-27.58333, 153.03333], [21.44472, -157.83778], [21.44472, -157.83778], [33.8323, -101.84295], [-33.8701, 150.86119], [-33.8701, 150.86119], [26.55063, -80.14866], [-7.41667, 146.75], [-33.8701, 150.86119], [-27.73558, 30.13537], [-35.0768, 138.59163], [-33.8701, 150.86119], [-33.8701, 150.86119], [-33.8701, 150.86119], [-33.8701, 150.86119], [-27.58333, 153.03333], [-12.37954, 130.8732], [-7.86865, -35.08171], [26.55063, -80.14866], [37.90472, -122.07857], [-12.37954, 130.8732], [-27.73558, 30.13537], [21.44472, -157.83778], [-33.8701, 150.86119], [-27.73558, 30.13537], [-27.73558, 30.13537], [-33.8701, 150.86119], [-27.73558, 30.13537], [-27.73558, 30.13537], [-27.58333, 153.03333], [-23.00667, -44.31806], [-33.8701, 150.86119], [-27.73558, 30.13537], [-35.0768, 138.59163], [-27.58333, 153.03333], [-33.8701, 150.86119], [-27.58333, 153.03333], [30.3392, 48.3043], [30.3392, 48.3043], [-27.58333, 153.03333], [-35.0768, 138.59163], [-35.0768, 138.59163], [-27.73558, 30.13537], [-33.66364, 115.25635], [-27.73558, 30.13537], [-27.73558, 30.13537], [-27.73558, 30.13537], [-27.58333, 153.03333], [-33.8701, 150.86119], [35.13155, -79.42948], [-27.58333, 153.03333], [35.13155, -79.42948], [-27.73558, 30.13537], [23.15794, -82.27837], [26.55063, -80.14866], [8.48714, -13.2356], [-27.58333, 153.03333], [-27.58333, 153.03333], [39.50956, -76.16412], [-27.73558, 30.13537], [26.55063, -80.14866], [-27.73558, 30.13537], [-27.73558, 30.13537], [-27.73558, 30.13537], [-27.73558, 30.13537], [-33.66364, 115.25635], [-33.8701, 150.86119], [-27.73558, 30.13537], [-27.73558, 30.13537], [34.17817, -82.37901], [26.55063, -80.14866], [26.55063, -80.14866], [17.78306, -95.54556], [-42.87932, 147.48459], [-27.58333, 153.03333], [21.44472, -157.83778], [-27.73558, 30.13537], [-7.41667, 146.75], [17.78306, -95.54556], [21.44472, -157.83778], [21.44472, -157.83778], [21.44472, -157.83778], [-33.8701, 150.86119], [-27.73558, 30.13537], [-27.73558, 30.13537], [-27.58333, 153.03333], [43.87092, 7.55414], [-27.58333, 153.03333], [-33.8701, 150.86119], [-33.8701, 150.86119], [-33.8701, 150.86119], [-33.8701, 150.86119], [-42.87932, 147.48459], [-33.66364, 115.25635], [-33.66364, 115.25635], [43.80923, -76.02409], [-33.8701, 150.86119], [34.17817, -82.37901], [39.42845, -74.49571], [21.44472, -157.83778], [43.80923, -76.02409], [37.90472, -122.07857], [-33.8701, 150.86119], [30.3392, 48.3043], [30.3392, 48.3043], [30.3392, 48.3043], [30.3392, 48.3043], [30.3392, 48.3043], [-33.8701, 150.86119], [-27.73558, 30.13537], [-27.58333, 153.03333], [-12.37954, 130.8732], [34.17817, -82.37901], [34.17817, -82.37901], [35.13155, -79.42948], [-27.73558, 30.13537], [-33.8701, 150.86119], [-27.73558, 30.13537], [-33.8701, 150.86119], [-33.8701, 150.86119], [-27.58333, 153.03333], [-33.8701, 150.86119], [-27.58333, 153.03333], [-27.73558, 30.13537], [-27.58333, 153.03333], [-27.73558, 30.13537], [-33.8701, 150.86119], [-27.58333, 153.03333], [-33.8701, 150.86119], [-33.8701, 150.86119], [-33.8701, 150.86119], [-33.8701, 150.86119], [-27.58333, 153.03333], [21.44472, -157.83778], [37.90472, -122.07857], [33.8323, -101.84295], [36.70983, -81.97735], [-7.41667, 146.75], [-10.08333, 148.91667], [-9.10306, 160.15056], [7.86, 80.65167], [-14.65685, 28.07057], [9.4423, 78.4399], [-33.8701, 150.86119], [10.22609, -67.877], [-33.8701, 150.86119], [-27.58333, 153.03333], [37.90472, -122.07857], [34.17817, -82.37901], [37.90472, -122.07857], [-33.8701, 150.86119], [23.83009, 87.68661], [-12.37954, 130.8732], [-33.8701, 150.86119], [-27.73558, 30.13537], [-33.8701, 150.86119], [-33.8701, 150.86119], [35.13155, -79.42948], [-27.73558, 30.13537], [35.13155, -79.42948], [-27.58333, 153.03333], [-27.58333, 153.03333], [-33.8701, 150.86119], [-33.8701, 150.86119], [43.35694, 16.95028], [-12.37954, 130.8732], [43.87092, 7.55414], [-33.8701, 150.86119], [33.8323, -101.84295], [33.8323, -101.84295], [-27.58333, 153.03333], [-33.8701, 150.86119], [-37.8, 145.0], [35.88152, 14.39872], [-33.8701, 150.86119], [-33.8701, 150.86119], [-33.8701, 150.86119], [-27.58333, 153.03333], [-35.0768, 138.59163], [-33.8701, 150.86119], [21.44472, -157.83778], [-27.58333, 153.03333], [-33.8701, 150.86119], [-33.8701, 150.86119], [-37.8, 145.0], [35.88152, 14.39872], [21.44472, -157.83778], [35.13155, -79.42948], [42.10482, -70.94532], [39.42845, -74.49571], [26.55063, -80.14866], [-27.58333, 153.03333], [-27.58333, 153.03333], [26.55063, -80.14866], [-27.58333, 153.03333], [-12.37954, 130.8732], [-33.8701, 150.86119], [-27.58333, 153.03333], [-33.8701, 150.86119], [-35.0768, 138.59163], [-27.58333, 153.03333], [-33.8701, 150.86119], [-37.8, 145.0], [35.88152, 14.39872], [-37.8, 145.0], [35.88152, 14.39872], [35.13155, -79.42948], [-10.08333, 148.91667], [-9.10306, 160.15056], [7.86, 80.65167], [-14.65685, 28.07057], [-27.58333, 153.03333], [37.90472, -122.07857], [37.90472, -122.07857], [39.42845, -74.49571], [-35.0768, 138.59163], [-27.73558, 30.13537], [-33.8701, 150.86119], [37.90472, -122.07857], [-27.58333, 153.03333], [-27.73558, 30.13537], [-27.58333, 153.03333], [-33.8701, 150.86119], [-33.8701, 150.86119], [-33.8701, 150.86119], [-33.8701, 150.86119], [-33.8701, 150.86119], [-27.58333, 153.03333], [-27.58333, 153.03333], [-33.8701, 150.86119], [-33.8701, 150.86119], [-33.8701, 150.86119], [-33.8701, 150.86119], [-12.37954, 130.8732], [37.02318, 14.49302], [-27.58333, 153.03333], [31.99212, -83.30682], [-33.8701, 150.86119], [-33.8701, 150.86119], [26.55063, -80.14866], [-27.58333, 153.03333], [-27.73558, 30.13537], [-27.73558, 30.13537], [-33.8701, 150.86119], [-33.8701, 150.86119], [-33.8701, 150.86119], [40.86913, 29.12064], [-33.8701, 150.86119], [-33.8701, 150.86119], [-27.58333, 153.03333], [-27.58333, 153.03333], [37.90472, -122.07857], [34.17817, -82.37901], [41.34621, -73.079], [37.90472, -122.07857], [-33.66364, 115.25635], [34.17817, -82.37901], [34.17817, -82.37901], [-12.37954, 130.8732], [-27.58333, 153.03333], [-27.58333, 153.03333], [23.15794, -82.27837], [26.55063, -80.14866], [-33.8701, 150.86119], [-35.0768, 138.59163], [-35.0768, 138.59163], [-27.58333, 153.03333], [-12.37954, 130.8732], [-33.8701, 150.86119], [-33.8701, 150.86119], [-33.8701, 150.86119], [39.42845, -74.49571], [33.8323, -101.84295], [39.42845, -74.49571], [39.42845, -74.49571], [21.44472, -157.83778], [-27.58333, 153.03333], [-27.58333, 153.03333], [-37.8, 145.0], [35.88152, 14.39872], [32.54667, -116.61722], [26.55063, -80.14866], [26.55063, -80.14866], [21.44472, -157.83778], [23.15794, -82.27837], [21.44472, -157.83778], [39.42845, -74.49571], [23.15794, -82.27837], [23.15794, -82.27837], [33.8323, -101.84295], [39.42845, -74.49571], [-27.58333, 153.03333], [39.42845, -74.49571], [21.44472, -157.83778], [21.44472, -157.83778], [26.55063, -80.14866], [-33.8701, 150.86119], [-27.58333, 153.03333], [-35.0768, 138.59163], [-33.8701, 150.86119], [-27.58333, 153.03333], [-33.8701, 150.86119], [-33.8701, 150.86119], [-37.8, 145.0], [35.88152, 14.39872], [-33.8701, 150.86119], [-27.58333, 153.03333], [-33.66364, 115.25635], [28.12271, -16.726], [26.55063, -80.14866], [23.15794, -82.27837], [26.55063, -80.14866], [33.8323, -101.84295], [10.08354, -83.33413], [26.55063, -80.14866], [-37.8, 145.0], [35.88152, 14.39872], [-33.66364, 115.25635], [17.78306, -95.54556], [-33.8701, 150.86119], [-33.8701, 150.86119], [-27.58333, 153.03333], [-2.81, -171.678], [22.27797, -80.56931], [40.06139, -1.28677], [-27.58333, 153.03333], [34.17817, -82.37901], [24.05844, -98.37333], [26.55063, -80.14866], [-27.58333, 153.03333], [-27.58333, 153.03333], [-27.58333, 153.03333], [26.55063, -80.14866], [-35.0768, 138.59163], [-35.0768, 138.59163], [-33.8701, 150.86119], [-33.66364, 115.25635], [-33.8701, 150.86119], [-27.58333, 153.03333], [-33.8701, 150.86119], [-33.8701, 150.86119], [-35.0768, 138.59163], [26.55063, -80.14866], [-33.8701, 150.86119], [26.55063, -80.14866], [39.42845, -74.49571], [36.70983, -81.97735], [33.8323, -101.84295], [39.42845, -74.49571], [42.8812, 11.6722], [26.55063, -80.14866], [-27.58333, 153.03333], [-33.8701, 150.86119], [-27.58333, 153.03333], [-33.8701, 150.86119], [-27.58333, 153.03333], [26.55063, -80.14866], [26.55063, -80.14866], [-27.73558, 30.13537], [-33.8701, 150.86119], [-33.8701, 150.86119], [-33.8701, 150.86119], [-27.58333, 153.03333], [-27.58333, 153.03333], [-33.8701, 150.86119], [-27.58333, 153.03333], [37.90472, -122.07857], [-33.8701, 150.86119], [-33.8701, 150.86119], [-10.08333, 148.91667], [-9.10306, 160.15056], [7.86, 80.65167], [-14.65685, 28.07057], [-33.8701, 150.86119], [39.42845, -74.49571], [39.42845, -74.49571], [37.90472, -122.07857], [21.44472, -157.83778], [21.44472, -157.83778], [-35.0768, 138.59163], [-37.8, 145.0], [35.88152, 14.39872], [-33.66364, 115.25635], [18.16277778, -66.72222222], [18.16277778, -66.72222222], [40.06139, -1.28677], [34.17817, -82.37901], [-33.66364, 115.25635], [18.16277778, -66.72222222], [-33.8701, 150.86119], [-33.8701, 150.86119], [-10.08333, 148.91667], [-9.10306, 160.15056], [7.86, 80.65167], [-14.65685, 28.07057], [26.55063, -80.14866], [24.05844, -98.37333], [18.16277778, -66.72222222], [-37.8, 145.0], [35.88152, 14.39872], [34.17817, -82.37901], [37.90472, -122.07857], [26.55063, -80.14866], [-33.8701, 150.86119], [-33.66364, 115.25635], [-10.08333, 148.91667], [-9.10306, 160.15056], [7.86, 80.65167], [-14.65685, 28.07057], [-33.8701, 150.86119], [-27.58333, 153.03333], [-27.73558, 30.13537], [-33.8701, 150.86119], [-33.8701, 150.86119], [-33.8701, 150.86119], [-33.66364, 115.25635], [-33.8701, 150.86119], [-33.8701, 150.86119], [-33.8701, 150.86119], [-27.58333, 153.03333], [-33.8701, 150.86119], [17.78306, -95.54556], [-33.66364, 115.25635], [-27.58333, 153.03333], [-27.58333, 153.03333], [18.16277778, -66.72222222], [-33.66364, 115.25635], [-33.66364, 115.25635], [39.42845, -74.49571], [39.42845, -74.49571], [39.42845, -74.49571], [18.16277778, -66.72222222], [-27.58333, 153.03333], [-33.8701, 150.86119], [21.44472, -157.83778], [42.10482, -70.94532], [26.55063, -80.14866], [26.55063, -80.14866], [18.21097, -78.13603], [-33.8701, 150.86119], [17.98297, -76.78685], [17.98297, -76.78685], [-33.8701, 150.86119], [-33.8701, 150.86119], [-33.8701, 150.86119], [-27.58333, 153.03333], [-33.8701, 150.86119], [-33.8701, 150.86119], [-27.58333, 153.03333], [-27.58333, 153.03333], [-27.58333, 153.03333], [-27.58333, 153.03333], [-27.58333, 153.03333], [-33.66364, 115.25635], [-33.66364, 115.25635], [43.80923, -76.02409], [26.55063, -80.14866], [-27.58333, 153.03333], [-33.8701, 150.86119], [18.21097, -78.13603], [-27.73558, 30.13537], [-27.58333, 153.03333], [-33.8701, 150.86119], [-12.37954, 130.8732], [26.55063, -80.14866], [34.17817, -82.37901], [26.55063, -80.14866], [-33.8701, 150.86119], [-33.8701, 150.86119], [-33.8701, 150.86119], [-27.58333, 153.03333], [26.55063, -80.14866], [21.44472, -157.83778], [-27.58333, 153.03333], [-33.8701, 150.86119], [-27.58333, 153.03333], [-33.66364, 115.25635], [-26.029, 32.389], [39.42845, -74.49571], [21.44472, -157.83778], [26.55063, -80.14866], [34.17817, -82.37901], [-27.58333, 153.03333], [-33.8701, 150.86119], [-33.8701, 150.86119], [-27.58333, 153.03333], [-27.58333, 153.03333], [26.55063, -80.14866], [29.97465, -92.13429], [35.13155, -79.42948], [43.80923, -76.02409], [43.80923, -76.02409], [39.42845, -74.49571], [39.42845, -74.49571], [39.42845, -74.49571], [39.42845, -74.49571], [39.42845, -74.49571], [39.42845, -74.49571], [26.55063, -80.14866], [-33.8701, 150.86119], [-37.8, 145.0], [35.88152, 14.39872], [-33.8701, 150.86119], [-27.58333, 153.03333], [-33.8701, 150.86119], [26.55063, -80.14866], [24.05844, -98.37333], [-27.58333, 153.03333], [-33.8701, 150.86119], [26.55063, -80.14866], [-27.58333, 153.03333], [17.98297, -76.78685], [29.97465, -92.13429], [44.03444, 15.61278], [29.97465, -92.13429], [45.30861, 14.53028], [-37.8, 145.0], [35.88152, 14.39872], [26.55063, -80.14866], [26.55063, -80.14866], [21.44472, -157.83778], [-35.0768, 138.59163], [-33.8701, 150.86119], [-27.58333, 153.03333], [-27.73558, 30.13537], [26.55063, -80.14866], [6.4488, 3.35901], [-27.58333, 153.03333], [26.55063, -80.14866], [45.04056, 13.78361], [39.42845, -74.49571], [39.42845, -74.49571], [34.17817, -82.37901], [26.55063, -80.14866], [-33.8701, 150.86119], [-37.8, 145.0], [35.88152, 14.39872], [31.99212, -83.30682], [34.17817, -82.37901], [-10.08333, 148.91667], [-9.10306, 160.15056], [7.86, 80.65167], [-14.65685, 28.07057], [-27.73558, 30.13537], [-33.66364, 115.25635], [-33.8701, 150.86119], [-33.8701, 150.86119], [-33.8701, 150.86119], [-27.58333, 153.03333], [26.55063, -80.14866], [34.17817, -82.37901], [-27.58333, 153.03333], [33.8323, -101.84295], [26.55063, -80.14866], [26.55063, -80.14866], [39.62928, -75.65826], [33.8323, -101.84295], [-43.95353, -176.55973], [-33.66364, 115.25635], [33.8323, -101.84295], [45.30861, 14.53028], [-33.66364, 115.25635], [-27.58333, 153.03333], [31.57184, -85.25049], [9.27356, -79.69551], [21.44472, -157.83778], [-33.66364, 115.25635], [-33.8701, 150.86119], [21.44472, -157.83778], [26.55063, -80.14866], [-33.8701, 150.86119], [-33.8701, 150.86119], [39.62928, -75.65826], [26.55063, -80.14866], [43.80923, -76.02409], [26.55063, -80.14866], [16.82917, -99.74083], [-27.58333, 153.03333], [21.44472, -157.83778], [37.02318, 14.49302], [-33.8701, 150.86119], [20.39693, -87.31444], [37.90472, -122.07857], [42.9618, -8.75784], [28.12271, -16.726], [31.99212, -83.30682], [26.55063, -80.14866], [21.44472, -157.83778], [-33.8701, 150.86119], [-33.8701, 150.86119], [21.44472, -157.83778], [45.30861, 14.53028], [45.30861, 14.53028], [39.42845, -74.49571], [-27.58333, 153.03333], [34.17817, -82.37901], [18.53973, -96.60568], [26.55063, -80.14866], [-18.01274, 31.07555], [-27.58333, 153.03333], [21.44472, -157.83778], [18.21097, -78.13603], [21.44472, -157.83778], [21.44472, -157.83778], [21.44472, -157.83778], [21.44472, -157.83778], [37.90472, -122.07857], [39.50956, -76.16412], [33.82511, -88.54366], [-26.029, 32.389], [-37.8, 145.0], [35.88152, 14.39872], [-27.58333, 153.03333], [-33.8701, 150.86119], [-33.8701, 150.86119], [-27.73558, 30.13537], [-27.73558, 30.13537], [-33.66364, 115.25635], [-33.8701, 150.86119], [26.55063, -80.14866], [39.42845, -74.49571], [35.13155, -79.42948], [35.13155, -79.42948], [26.55063, -80.14866], [-27.73558, 30.13537], [-33.8701, 150.86119], [-42.87932, 147.48459], [-37.8, 145.0], [35.88152, 14.39872], [-37.8, 145.0], [35.88152, 14.39872], [35.13155, -79.42948], [23.15794, -82.27837], [22.51996, -79.46599], [39.42845, -74.49571], [33.8323, -101.84295], [-27.58333, 153.03333], [21.44472, -157.83778], [23.15794, -82.27837], [39.42845, -74.49571], [-33.8701, 150.86119], [17.78306, -95.54556], [-33.8701, 150.86119], [-27.58333, 153.03333], [-33.8701, 150.86119], [21.44472, -157.83778], [-33.8701, 150.86119], [33.8323, -101.84295], [38.83585, 16.2653], [45.04056, 13.78361], [21.44472, -157.83778], [43.87092, 7.55414], [39.42845, -74.49571], [-33.8701, 150.86119], [-27.73558, 30.13537], [-27.58333, 153.03333], [-27.58333, 153.03333], [-27.58333, 153.03333], [26.55063, -80.14866], [-33.8701, 150.86119], [-27.58333, 153.03333], [41.42343, -71.78562], [21.44472, -157.83778], [35.13155, -79.42948], [45.30861, 14.53028], [21.44472, -157.83778], [41.34621, -73.079], [-33.8701, 150.86119], [21.44472, -157.83778], [-27.58333, 153.03333], [-37.8, 145.0], [35.88152, 14.39872], [24.05844, -98.37333], [37.90472, -122.07857], [26.55063, -80.14866], [38.83585, 16.2653], [-33.8701, 150.86119], [-27.73558, 30.13537], [26.55063, -80.14866], [26.55063, -80.14866], [-27.58333, 153.03333], [21.44472, -157.83778], [43.80923, -76.02409], [26.55063, -80.14866], [-33.8701, 150.86119], [20.29879, -76.24511], [34.17817, -82.37901], [20.29879, -76.24511], [17.98297, -76.78685], [26.55063, -80.14866], [21.44472, -157.83778], [17.78306, -95.54556], [41.42343, -71.78562], [34.17817, -82.37901], [-27.73558, 30.13537], [42.10482, -70.94532], [-37.8, 145.0], [35.88152, 14.39872], [-33.66364, 115.25635], [-33.66364, 115.25635], [21.44472, -157.83778], [34.17817, -82.37901], [-33.8701, 150.86119], [26.55063, -80.14866], [-33.8701, 150.86119], [-33.8701, 150.86119], [23.15794, -82.27837], [35.13155, -79.42948], [41.42343, -71.78562], [39.42845, -74.49571], [-33.66364, 115.25635], [-27.58333, 153.03333], [-33.8701, 150.86119], [-33.66364, 115.25635], [26.55063, -80.14866], [-33.8701, 150.86119], [31.57184, -85.25049], [36.70983, -81.97735], [33.8323, -101.84295], [43.80923, -76.02409], [26.55063, -80.14866], [26.55063, -80.14866], [35.13155, -79.42948], [45.30861, 14.53028], [23.15794, -82.27837], [-27.58333, 153.03333], [-42.87932, 147.48459], [-27.58333, 153.03333], [33.8323, -101.84295], [23.15794, -82.27837], [-33.8701, 150.86119], [-33.8701, 150.86119], [1.98329, -157.36526], [45.83345, -64.19874], [39.42845, -74.49571], [36.70983, -81.97735], [17.98297, -76.78685], [-27.58333, 153.03333], [39.42845, -74.49571], [41.34621, -73.079], [-42.87932, 147.48459], [9.4423, 78.4399], [9.4423, 78.4399], [-27.73558, 30.13537], [-27.58333, 153.03333], [21.44472, -157.83778], [9.4423, 78.4399], [26.55063, -80.14866], [33.8323, -101.84295], [-37.8, 145.0], [35.88152, 14.39872], [26.55063, -80.14866], [8.48714, -13.2356], [-33.8701, 150.86119], [-33.8701, 150.86119], [45.30861, 14.53028], [45.83345, -64.19874], [43.80923, -76.02409], [20.85865, 72.90648], [-37.8, 145.0], [35.88152, 14.39872], [-37.8, 145.0], [35.88152, 14.39872], [-33.8701, 150.86119], [-33.8701, 150.86119], [26.55063, -80.14866], [45.30861, 14.53028], [-35.0768, 138.59163], [-9.26988, -37.91917], [39.42845, -74.49571], [39.42845, -74.49571], [39.42845, -74.49571], [33.82511, -88.54366], [-27.58333, 153.03333], [21.44472, -157.83778], [-27.58333, 153.03333], [-33.8701, 150.86119], [-37.8, 145.0], [35.88152, 14.39872], [-27.58333, 153.03333], [-33.8701, 150.86119], [-27.58333, 153.03333], [-33.66364, 115.25635], [21.44472, -157.83778], [21.44472, -157.83778], [21.44472, -157.83778], [-27.73558, 30.13537], [-35.0768, 138.59163], [39.42845, -74.49571], [43.80923, -76.02409], [-35.0768, 138.59163], [-33.8701, 150.86119], [33.8323, -101.84295], [-42.87932, 147.48459], [-12.37954, 130.8732], [-12.37954, 130.8732], [-33.8701, 150.86119], [26.55063, -80.14866], [34.17817, -82.37901], [34.17817, -82.37901], [-33.8701, 150.86119], [-33.8701, 150.86119], [-33.8701, 150.86119], [26.55063, -80.14866], [-27.58333, 153.03333], [-33.8701, 150.86119], [26.55063, -80.14866], [35.13155, -79.42948], [41.42343, -71.78562], [31.57184, -85.25049], [37.02318, 14.49302], [-27.58333, 153.03333], [-33.8701, 150.86119], [43.80923, -76.02409], [23.83009, 87.68661], [23.83009, 87.68661], [23.83009, 87.68661], [23.83009, 87.68661], [-33.8701, 150.86119], [-33.8701, 150.86119], [26.55063, -80.14866], [-9.43333, 159.95], [-33.8701, 150.86119], [40.06139, -1.28677], [37.90472, -122.07857], [-33.8701, 150.86119], [33.82511, -88.54366], [-33.8701, 150.86119], [41.34621, -73.079], [43.80923, -76.02409], [43.80923, -76.02409], [-33.8701, 150.86119], [-33.8701, 150.86119], [-33.8701, 150.86119], [-33.8701, 150.86119], [-42.87932, 147.48459], [-37.8, 145.0], [35.88152, 14.39872], [-37.8, 145.0], [35.88152, 14.39872], [-37.8, 145.0], [35.88152, 14.39872], [-37.8, 145.0], [35.88152, 14.39872], [-27.73558, 30.13537], [43.80923, -76.02409], [31.99212, -83.30682], [-33.8701, 150.86119], [-37.8, 145.0], [35.88152, 14.39872], [-33.66364, 115.25635], [-33.8701, 150.86119], [-33.8701, 150.86119], [-27.73558, 30.13537], [-27.58333, 153.03333], [-27.58333, 153.03333], [-33.66364, 115.25635], [44.03444, 15.61278], [21.44472, -157.83778], [43.80923, -76.02409], [17.78306, -95.54556], [1.85293, 172.94369], [-33.8701, 150.86119], [39.50956, -76.16412], [-33.8701, 150.86119], [-27.58333, 153.03333], [23.15794, -82.27837], [21.44472, -157.83778], [-27.58333, 153.03333], [-33.8701, 150.86119], [21.44472, -157.83778], [43.80923, -76.02409], [-2.1597, 30.5427], [25.93402, 49.6688], [8.34959, -11.33059], [7.29754, 81.68202], [-14.06779, 32.43917], [-33.8701, 150.86119], [-27.58333, 153.03333], [-33.8701, 150.86119], [35.13155, -79.42948], [23.83009, 87.68661], [-27.58333, 153.03333], [-27.58333, 153.03333], [-42.87932, 147.48459], [-35.0768, 138.59163], [-35.0768, 138.59163], [17.78306, -95.54556], [22.51996, -79.46599], [-37.8, 145.0], [35.88152, 14.39872], [31.57184, -85.25049], [-33.66364, 115.25635], [43.80923, -76.02409], [33.8323, -101.84295], [-35.0768, 138.59163], [35.13155, -79.42948], [43.80923, -76.02409], [9.27356, -79.69551], [-35.0768, 138.59163], [34.17817, -82.37901], [21.44472, -157.83778], [-27.58333, 153.03333], [-37.8, 145.0], [35.88152, 14.39872], [-27.73558, 30.13537], [-33.8701, 150.86119], [-27.58333, 153.03333], [-27.73558, 30.13537], [-27.73558, 30.13537], [21.44472, -157.83778], [-27.58333, 153.03333], [-33.8701, 150.86119], [45.83345, -64.19874], [43.80923, -76.02409], [21.44472, -157.83778], [43.80923, -76.02409], [43.80923, -76.02409], [-37.8, 145.0], [35.88152, 14.39872], [21.44472, -157.83778], [26.55063, -80.14866], [-37.8, 145.0], [35.88152, 14.39872], [-37.8, 145.0], [35.88152, 14.39872], [35.13155, -79.42948], [-35.0768, 138.59163], [-35.0768, 138.59163], [-10.45442, 161.92045], [-33.8701, 150.86119], [-33.8701, 150.86119], [35.13155, -79.42948], [34.17817, -82.37901], [-27.58333, 153.03333], [35.13155, -79.42948], [34.17817, -82.37901], [26.55063, -80.14866], [-33.8701, 150.86119], [-33.8701, 150.86119], [-21.15216, -175.21333], [36.70983, -81.97735], [-27.73558, 30.13537], [34.17817, -82.37901], [18.53973, -96.60568], [21.44472, -157.83778], [37.90472, -122.07857], [21.44472, -157.83778], [-33.8701, 150.86119], [-33.8701, 150.86119], [-37.8, 145.0], [35.88152, 14.39872], [26.55063, -80.14866], [26.55063, -80.14866], [-33.8701, 150.86119], [39.50956, -76.16412], [42.10482, -70.94532], [-27.58333, 153.03333], [42.10482, -70.94532], [21.44472, -157.83778], [-27.58333, 153.03333], [-27.58333, 153.03333], [34.17817, -82.37901], [34.17817, -82.37901], [17.78306, -95.54556], [23.15794, -82.27837], [-33.8701, 150.86119], [17.78306, -95.54556], [26.55063, -80.14866], [26.55063, -80.14866], [39.42845, -74.49571], [39.42845, -74.49571], [9.4423, 78.4399], [-33.8701, 150.86119], [-33.8701, 150.86119], [-33.8701, 150.86119], [34.17817, -82.37901], [-42.87932, 147.48459], [-33.8701, 150.86119], [-35.0768, 138.59163], [34.17817, -82.37901], [43.80923, -76.02409], [-33.8701, 150.86119], [34.17817, -82.37901], [-35.0768, 138.59163], [-33.8701, 150.86119], [-33.8701, 150.86119], [-42.87932, 147.48459], [42.10482, -70.94532], [9.4423, 78.4399], [9.4423, 78.4399], [8.48714, -13.2356], [39.42845, -74.49571], [8.48714, -13.2356], [21.44472, -157.83778], [8.48714, -13.2356], [8.48714, -13.2356], [-42.87932, 147.48459], [-33.66364, 115.25635], [34.17817, -82.37901], [21.25665, 77.51006], [-9.07786, 143.20893], [-2.4846, 28.9075], [-8.10303, 156.84186], [6.8964, 79.9181], [-14.99307, 22.67926], [41.42343, -71.78562], [34.17817, -82.37901], [-33.8701, 150.86119], [43.80923, -76.02409], [-33.8701, 150.86119], [34.17817, -82.37901], [-33.66364, 115.25635], [-33.8701, 150.86119], [-33.8701, 150.86119], [26.55063, -80.14866], [21.44472, -157.83778], [42.10482, -70.94532], [23.15794, -82.27837], [37.02318, 14.49302], [40.12812, 8.8176], [23.83009, 87.68661], [23.83009, 87.68661], [43.80923, -76.02409], [9.15595, 76.73192], [-33.8701, 150.86119], [-4.05466, 39.66359], [-4.05466, 39.66359], [9.30091, -82.4018], [34.17817, -82.37901], [-7.41667, 146.75], [-27.58333, 153.03333], [-27.58333, 153.03333], [21.44472, -157.83778], [37.90472, -122.07857], [28.12271, -16.726], [26.55063, -80.14866], [26.55063, -80.14866], [-1.5763, 30.0675], [9.15356, -11.38712], [9.66845, 80.00742], [-8.46887, 29.66193], [26.55063, -80.14866], [-23.865, 35.38333], [26.55063, -80.14866], [18.5011, -73.3449], [-8.76778, 160.69778], [30.3392, 48.3043], [26.55063, -80.14866], [-10.25, 150.08333], [37.90472, -122.07857], [21.44472, -157.83778], [26.55063, -80.14866], [-33.66364, 115.25635], [-26.029, 32.389], [37.90472, -122.07857], [26.55063, -80.14866], [21.25665, 77.51006], [23.15794, -82.27837], [-2.81, -171.678], [1.85293, 172.94369], [30.3392, 48.3043], [30.3392, 48.3043], [30.3392, 48.3043], [-2.1597, 30.5427], [25.93402, 49.6688], [8.34959, -11.33059], [7.29754, 81.68202], [-14.06779, 32.43917], [-2.1597, 30.5427], [25.93402, 49.6688], [8.34959, -11.33059], [7.29754, 81.68202], [-14.06779, 32.43917], [-2.1597, 30.5427], [25.93402, 49.6688], [8.34959, -11.33059], [7.29754, 81.68202], [-14.06779, 32.43917], [-4.5, 145.0], [-33.8701, 150.86119], [-27.73558, 30.13537], [-27.58333, 153.03333], [26.55063, -80.14866], [-27.73558, 30.13537], [-27.73558, 30.13537], [35.13155, -79.42948], [-27.73558, 30.13537], [-27.73558, 30.13537], [21.44472, -157.83778], [-33.8701, 150.86119], [-33.66364, 115.25635], [-33.66364, 115.25635], [35.13155, -79.42948], [-2.1597, 30.5427], [25.93402, 49.6688], [8.34959, -11.33059], [7.29754, 81.68202], [-14.06779, 32.43917]],\n",
       "                {&quot;blur&quot;: 5, &quot;maxZoom&quot;: 18, &quot;minOpacity&quot;: 0.5, &quot;radius&quot;: 7}\n",
       "            );\n",
       "        \n",
       "    \n",
       "            heat_map_051591a47aeeb2fd57904d07ff171ada.addTo(map_d4efce572c713c9f1d0a42330515eb78);\n",
       "        \n",
       "&lt;/script&gt;\n",
       "&lt;/html&gt;\" style=\"position:absolute;width:100%;height:100%;left:0;top:0;border:none !important;\" allowfullscreen webkitallowfullscreen mozallowfullscreen></iframe></div></div>"
      ],
      "text/plain": [
       "<folium.folium.Map at 0x748ed401d910>"
      ]
     },
     "execution_count": 22,
     "metadata": {},
     "output_type": "execute_result"
    }
   ],
   "source": [
    "# Convert DataFrame values to a list format\n",
    "df_list = df_join.values.tolist()\n",
    "\n",
    "# Import the Folium library for creating interactive maps\n",
    "import folium\n",
    "from folium.plugins import HeatMap\n",
    "\n",
    "# Create a base map centered at latitude 10 and longitude -20, with a zoom level of 3\n",
    "map = folium.Map(location=[10, -20], zoom_start=3)\n",
    "\n",
    "# Create a HeatMap layer using the list of values converted from the DataFrame\n",
    "# with a radius of 7 and a blur factor of 5, and add it to the map\n",
    "HeatMap(df_list, radius=7, blur=5).add_to(map)\n",
    "\n",
    "# Display the map\n",
    "map"
   ]
  },
  {
   "cell_type": "markdown",
   "metadata": {},
   "source": [
    "Successfully visualized heatmap!\n",
    "\n",
    "We can see that there are incidents with sharks in various locations in the United States. However, it's important to note that the latitude and longitude data may not be perfectly accurate, resulting in some coloration even on land due to imprecise geolocation data. Nevertheless, exploring this heatmap can still provide valuable insights into areas where shark incidents are more prevalent.\n",
    "\n",
    "Feel free to interact with the map by moving around the region and zooming in to explore specific areas. This visualization can be useful for gaining awareness and understanding potential risk areas, allowing you to make informed decisions and take precautions when traveling or engaging in activities near coastal areas."
   ]
  },
  {
   "cell_type": "markdown",
   "metadata": {},
   "source": [
    "# ML"
   ]
  },
  {
   "cell_type": "code",
   "execution_count": 23,
   "metadata": {
    "execution": {
     "iopub.execute_input": "2024-06-25T01:51:46.816964Z",
     "iopub.status.busy": "2024-06-25T01:51:46.816615Z",
     "iopub.status.idle": "2024-06-25T01:51:46.823278Z",
     "shell.execute_reply": "2024-06-25T01:51:46.821923Z",
     "shell.execute_reply.started": "2024-06-25T01:51:46.816936Z"
    }
   },
   "outputs": [],
   "source": [
    "# Importing libraries\n",
    "from sklearn.model_selection import train_test_split, GridSearchCV\n",
    "from sklearn.linear_model import LogisticRegression\n",
    "from sklearn.tree import DecisionTreeClassifier\n",
    "#random florest (the best option?)\n",
    "from sklearn.ensemble import RandomForestClassifier\n",
    "from sklearn.neighbors import KNeighborsClassifier\n",
    "from sklearn.svm import SVC\n",
    "from sklearn.metrics import accuracy_score, precision_score, recall_score, f1_score"
   ]
  },
  {
   "cell_type": "code",
   "execution_count": 24,
   "metadata": {
    "execution": {
     "iopub.execute_input": "2024-06-25T01:51:46.825675Z",
     "iopub.status.busy": "2024-06-25T01:51:46.825318Z",
     "iopub.status.idle": "2024-06-25T01:51:46.850962Z",
     "shell.execute_reply": "2024-06-25T01:51:46.849534Z",
     "shell.execute_reply.started": "2024-06-25T01:51:46.825646Z"
    }
   },
   "outputs": [
    {
     "name": "stdout",
     "output_type": "stream",
     "text": [
      "<bound method DataFrame.info of        Case Number                  Date    Year        Type  \\\n",
      "0       2020.02.05           05-Feb-2020  2020.0  Unprovoked   \n",
      "1     2020.01.30.R  Reported 30-Jan-2020  2020.0    Provoked   \n",
      "2       2020.01.17           17-Jan-2020  2020.0  Unprovoked   \n",
      "3       2020.01.16           16-Jan-2020  2020.0  Unprovoked   \n",
      "4       2020.01.13           13-Jan-2020  2020.0  Unprovoked   \n",
      "...            ...                   ...     ...         ...   \n",
      "6457       ND.0005           Before 1903     0.0  Unprovoked   \n",
      "6458       ND.0004           Before 1903     0.0  Unprovoked   \n",
      "6459       ND.0003             1900-1905     0.0  Unprovoked   \n",
      "6460       ND.0002             1883-1889     0.0  Unprovoked   \n",
      "6461       ND.0001             1845-1853     0.0  Unprovoked   \n",
      "\n",
      "                 Country               Area  \\\n",
      "0                    USA               Maui   \n",
      "1                BAHAMAS             Exumas   \n",
      "2              AUSTRALIA    New South Wales   \n",
      "3            NEW ZEALAND          Southland   \n",
      "4                    USA     North Carolina   \n",
      "...                  ...                ...   \n",
      "6457           AUSTRALIA  Western Australia   \n",
      "6458           AUSTRALIA  Western Australia   \n",
      "6459                 USA     North Carolina   \n",
      "6460              PANAMA                NaN   \n",
      "6461  CEYLON (SRI LANKA)   Eastern Province   \n",
      "\n",
      "                                 Location                  Activity  \\\n",
      "0                                     NaN  Stand-Up Paddle boarding   \n",
      "1                                     NaN                  Floating   \n",
      "2                           Windang Beach                   Surfing   \n",
      "3                             Oreti Beach                   Surfing   \n",
      "4                   Rodanthe, Dare County                   Surfing   \n",
      "...                                   ...                       ...   \n",
      "6457                          Roebuck Bay                    Diving   \n",
      "6458                                  NaN              Pearl diving   \n",
      "6459                       Ocracoke Inlet                  Swimming   \n",
      "6460                 Panama Bay 8ºN, 79ºW                       NaN   \n",
      "6461  Below the English fort, Trincomalee                  Swimming   \n",
      "\n",
      "                       Name Victim's Gender  Age   Time  \\\n",
      "0                       NaN             NaN  NaN  09h40   \n",
      "1           Ana Bruna Avila               F   24    NaN   \n",
      "2            Will Schroeter               M   59  08h00   \n",
      "3               Jordan King               F   13  20h30   \n",
      "4              Samuel Horne               M   26  14h33   \n",
      "...                     ...             ...  ...    ...   \n",
      "6457                   male             NaN  NaN    NaN   \n",
      "6458                  Ahmun             NaN  NaN    NaN   \n",
      "6459  Coast Guard personnel             NaN  NaN    NaN   \n",
      "6460        Jules Patterson             NaN  NaN    NaN   \n",
      "6461                   male             NaN   15    NaN   \n",
      "\n",
      "                          Species Fatal  \\\n",
      "0                     Tiger shark     N   \n",
      "1                             NaN     N   \n",
      "2                 \"A small shark\"     N   \n",
      "3     Broadnose seven gill shark?     N   \n",
      "4                             NaN     N   \n",
      "...                           ...   ...   \n",
      "6457                          NaN     Y   \n",
      "6458                          NaN     Y   \n",
      "6459                          NaN     Y   \n",
      "6460                          NaN     Y   \n",
      "6461                          NaN     Y   \n",
      "\n",
      "                                                 Injury  \n",
      "0                     No injury, but paddleboard bitten  \n",
      "1             PROVOKED INCIDENT Scratches to left wrist  \n",
      "2                     Laceration ot left ankle and foot  \n",
      "3                             Minor injury to lower leg  \n",
      "4                                   Lacerations to foot  \n",
      "...                                                 ...  \n",
      "6457                                              FATAL  \n",
      "6458                                              FATAL  \n",
      "6459                                              FATAL  \n",
      "6460                                              FATAL  \n",
      "6461  FATAL. \"Shark bit him in half, carrying away t...  \n",
      "\n",
      "[6462 rows x 15 columns]>\n"
     ]
    }
   ],
   "source": [
    "#df = pd.read_csv(\"./inputs/sharks/GSAF5.xls.csv\",low_memory=False)\n",
    "print(df.info)\n",
    "\n",
    "df = df[['Case Number','Time', 'Date', 'Year', 'Type', 'Country','Fatal','Injury', 'Area','Location', 'Activity', 'Name', 'Victim\\'s Gender', 'Age','Species']]\n",
    "#df_ml = df[['Time','Country','Location','Fatal','Injury','Age','Species',Activity','Victim\\'s Gender']]"
   ]
  },
  {
   "cell_type": "markdown",
   "metadata": {},
   "source": [
    "### Analyze"
   ]
  },
  {
   "cell_type": "code",
   "execution_count": 25,
   "metadata": {
    "execution": {
     "iopub.execute_input": "2024-06-25T01:51:46.853029Z",
     "iopub.status.busy": "2024-06-25T01:51:46.852535Z",
     "iopub.status.idle": "2024-06-25T01:51:46.870200Z",
     "shell.execute_reply": "2024-06-25T01:51:46.868923Z",
     "shell.execute_reply.started": "2024-06-25T01:51:46.852987Z"
    }
   },
   "outputs": [
    {
     "data": {
      "text/html": [
       "<div>\n",
       "<style scoped>\n",
       "    .dataframe tbody tr th:only-of-type {\n",
       "        vertical-align: middle;\n",
       "    }\n",
       "\n",
       "    .dataframe tbody tr th {\n",
       "        vertical-align: top;\n",
       "    }\n",
       "\n",
       "    .dataframe thead th {\n",
       "        text-align: right;\n",
       "    }\n",
       "</style>\n",
       "<table border=\"1\" class=\"dataframe\">\n",
       "  <thead>\n",
       "    <tr style=\"text-align: right;\">\n",
       "      <th></th>\n",
       "      <th>Year</th>\n",
       "    </tr>\n",
       "  </thead>\n",
       "  <tbody>\n",
       "    <tr>\n",
       "      <th>count</th>\n",
       "      <td>6459.000000</td>\n",
       "    </tr>\n",
       "    <tr>\n",
       "      <th>mean</th>\n",
       "      <td>1929.619446</td>\n",
       "    </tr>\n",
       "    <tr>\n",
       "      <th>std</th>\n",
       "      <td>278.316340</td>\n",
       "    </tr>\n",
       "    <tr>\n",
       "      <th>min</th>\n",
       "      <td>0.000000</td>\n",
       "    </tr>\n",
       "    <tr>\n",
       "      <th>25%</th>\n",
       "      <td>1943.000000</td>\n",
       "    </tr>\n",
       "    <tr>\n",
       "      <th>50%</th>\n",
       "      <td>1980.000000</td>\n",
       "    </tr>\n",
       "    <tr>\n",
       "      <th>75%</th>\n",
       "      <td>2006.000000</td>\n",
       "    </tr>\n",
       "    <tr>\n",
       "      <th>max</th>\n",
       "      <td>3019.000000</td>\n",
       "    </tr>\n",
       "  </tbody>\n",
       "</table>\n",
       "</div>"
      ],
      "text/plain": [
       "              Year\n",
       "count  6459.000000\n",
       "mean   1929.619446\n",
       "std     278.316340\n",
       "min       0.000000\n",
       "25%    1943.000000\n",
       "50%    1980.000000\n",
       "75%    2006.000000\n",
       "max    3019.000000"
      ]
     },
     "execution_count": 25,
     "metadata": {},
     "output_type": "execute_result"
    }
   ],
   "source": [
    "df.describe()"
   ]
  },
  {
   "cell_type": "code",
   "execution_count": 26,
   "metadata": {
    "execution": {
     "iopub.execute_input": "2024-06-25T01:51:46.871897Z",
     "iopub.status.busy": "2024-06-25T01:51:46.871551Z",
     "iopub.status.idle": "2024-06-25T01:51:46.897743Z",
     "shell.execute_reply": "2024-06-25T01:51:46.896608Z",
     "shell.execute_reply.started": "2024-06-25T01:51:46.871868Z"
    }
   },
   "outputs": [
    {
     "name": "stdout",
     "output_type": "stream",
     "text": [
      "<class 'pandas.core.frame.DataFrame'>\n",
      "RangeIndex: 6462 entries, 0 to 6461\n",
      "Data columns (total 15 columns):\n",
      " #   Column           Non-Null Count  Dtype  \n",
      "---  ------           --------------  -----  \n",
      " 0   Case Number      6460 non-null   object \n",
      " 1   Time             3070 non-null   object \n",
      " 2   Date             6461 non-null   object \n",
      " 3   Year             6459 non-null   float64\n",
      " 4   Type             6457 non-null   object \n",
      " 5   Country          6411 non-null   object \n",
      " 6   Fatal            5915 non-null   object \n",
      " 7   Injury           6433 non-null   object \n",
      " 8   Area             5999 non-null   object \n",
      " 9   Location         5917 non-null   object \n",
      " 10  Activity         5910 non-null   object \n",
      " 11  Name             6247 non-null   object \n",
      " 12  Victim's Gender  28 non-null     object \n",
      " 13  Age              3591 non-null   object \n",
      " 14  Species          3538 non-null   object \n",
      "dtypes: float64(1), object(14)\n",
      "memory usage: 757.4+ KB\n",
      "\n",
      "Number of NaNs in each column:\n",
      "\n",
      " Case Number           2\n",
      "Time               3392\n",
      "Date                  1\n",
      "Year                  3\n",
      "Type                  5\n",
      "Country              51\n",
      "Fatal               547\n",
      "Injury               29\n",
      "Area                463\n",
      "Location            545\n",
      "Activity            552\n",
      "Name                215\n",
      "Victim's Gender    6434\n",
      "Age                2871\n",
      "Species            2924\n",
      "dtype: int64\n"
     ]
    }
   ],
   "source": [
    "df.info()\n",
    "\n",
    "# Check NaNs\n",
    "print(\"\\nNumber of NaNs in each column:\\n\\n\", df.isna().sum())"
   ]
  },
  {
   "cell_type": "code",
   "execution_count": 27,
   "metadata": {
    "execution": {
     "iopub.execute_input": "2024-06-25T01:51:46.899798Z",
     "iopub.status.busy": "2024-06-25T01:51:46.899355Z",
     "iopub.status.idle": "2024-06-25T01:51:47.384866Z",
     "shell.execute_reply": "2024-06-25T01:51:47.383697Z",
     "shell.execute_reply.started": "2024-06-25T01:51:46.899740Z"
    }
   },
   "outputs": [
    {
     "name": "stdout",
     "output_type": "stream",
     "text": [
      "Percentage of missing data in critical columns:\n",
      " Country     0.789229\n",
      "Location    8.433921\n",
      "Activity    8.542247\n",
      "Injury      0.448777\n",
      "dtype: float64\n"
     ]
    },
    {
     "data": {
      "image/png": "[encoded data removed]",
      "text/plain": [
       "<Figure size 1000x600 with 1 Axes>"
      ]
     },
     "metadata": {},
     "output_type": "display_data"
    }
   ],
   "source": [
    "# Calculate the percentage of missing values in critical columns\n",
    "critical_columns = ['Country', 'Location', 'Activity', 'Injury']\n",
    "missing_data_percentage = df[critical_columns].isna().mean() * 100\n",
    "print(\"Percentage of missing data in critical columns:\\n\", missing_data_percentage)\n",
    "\n",
    "import seaborn as sns\n",
    "import matplotlib.pyplot as plt\n",
    "\n",
    "# Heatmap to visualize missing data\n",
    "plt.figure(figsize=(10, 6))\n",
    "sns.heatmap(df[critical_columns].isna(), cbar=False, cmap='viridis')\n",
    "plt.title(\"Missing Data in Critical Columns\")\n",
    "plt.show()\n"
   ]
  },
  {
   "cell_type": "markdown",
   "metadata": {},
   "source": [
    "# Data Cleaning Strategy for Shark Attack Dataset\n",
    "\n",
    "Based on the analysis of missing values (NaNs) in the shark attack dataset, we need a more nuanced approach to clean the data while retaining as much valuable information as possible.\n",
    "\n",
    "## NaN Analysis Summary\n",
    "\n",
    "The following columns have been identified with the respective number of NaNs:\n",
    "\n",
    "- **Case Number**: 2 NaNs\n",
    "- **Date**: 1 NaN\n",
    "- **Year**: 3 NaNs\n",
    "- **Type**: 5 NaNs\n",
    "- **Country**: 51 NaNs\n",
    "- **Area**: 463 NaNs\n",
    "- **Location**: 545 NaNs\n",
    "- **Activity**: 552 NaNs\n",
    "- **Name**: 215 NaNs\n",
    "- **Victim's Gender**: 6434 NaNs\n",
    "- **Age**: 2871 NaNs\n",
    "- **Time**: 3392 NaNs\n",
    "- **Species**: 2924 NaNs\n",
    "- **Fatal**: 547 NaNs\n",
    "- **Injury**: 29 NaNs\n",
    "\n",
    "## Data Cleaning Strategy\n",
    "\n",
    "### Columns to Drop NaNs\n",
    "\n",
    "For columns where a minimal number of entries are missing, we will drop the rows containing NaNs. This is crucial for columns where missing values would significantly impact the analysis.\n",
    "\n",
    "- **Country**: 51 NaNs\n",
    "- **Location**: 545 NaNs\n",
    "- **Activity**: 552 NaNs\n",
    "- **Injury**: 29 NaNs\n",
    "\n",
    "### Columns to Fill NaNs\n",
    "\n",
    "For columns with a high percentage of missing values, we will fill or impute the NaNs with appropriate values to retain as much data as possible.\n",
    "\n",
    "- **Age**: 2871 NaNs (Fill with median)\n",
    "- **Time**: 3392 NaNs (Fill with 'Unknown')\n",
    "- **Victim's Gender**: 6434 NaNs (Fill with 'Unknown')\n",
    "- **Species**: 2924 NaNs (Fill with 'Unknown')\n",
    "\n",
    "### Other Columns with Minimal NaNs\n",
    "\n",
    "For columns with a minimal number of missing values, we will handle these individually by dropping rows with NaNs.\n",
    "\n",
    "- **Case Number**\n",
    "- **Date**\n",
    "- **Year**\n",
    "- **Type**\n",
    "- **Fatal**\n",
    "- **Area**\n",
    "- **Name**"
   ]
  },
  {
   "cell_type": "markdown",
   "metadata": {},
   "source": [
    "Normalizing / Nan\n",
    "\n",
    "! Further Cleaning !\n",
    "\n",
    "4FUTURE: Review entries with 'Unknown' values and investigate if additional data sources or methods can reduce these unknowns.\n",
    "Consider imputing values based on more sophisticated methods if further cleaning is necessary."
   ]
  },
  {
   "cell_type": "code",
   "execution_count": 28,
   "metadata": {
    "execution": {
     "iopub.execute_input": "2024-06-25T01:51:47.391043Z",
     "iopub.status.busy": "2024-06-25T01:51:47.390627Z",
     "iopub.status.idle": "2024-06-25T01:51:47.437340Z",
     "shell.execute_reply": "2024-06-25T01:51:47.436189Z",
     "shell.execute_reply.started": "2024-06-25T01:51:47.391009Z"
    }
   },
   "outputs": [
    {
     "name": "stdout",
     "output_type": "stream",
     "text": [
      "\n",
      "Number of NaNs after treatment:\n",
      "\n",
      " Case Number        0\n",
      "Time               0\n",
      "Date               0\n",
      "Year               0\n",
      "Type               0\n",
      "Country            0\n",
      "Fatal              0\n",
      "Injury             0\n",
      "Area               0\n",
      "Location           0\n",
      "Activity           0\n",
      "Name               0\n",
      "Victim's Gender    0\n",
      "Age                0\n",
      "Species            0\n",
      "dtype: int64\n",
      "<class 'pandas.core.frame.DataFrame'>\n",
      "Index: 5147 entries, 2 to 6461\n",
      "Data columns (total 15 columns):\n",
      " #   Column           Non-Null Count  Dtype  \n",
      "---  ------           --------------  -----  \n",
      " 0   Case Number      5147 non-null   object \n",
      " 1   Time             5147 non-null   object \n",
      " 2   Date             5147 non-null   object \n",
      " 3   Year             5147 non-null   float64\n",
      " 4   Type             5147 non-null   object \n",
      " 5   Country          5147 non-null   object \n",
      " 6   Fatal            5147 non-null   object \n",
      " 7   Injury           5147 non-null   object \n",
      " 8   Area             5147 non-null   object \n",
      " 9   Location         5147 non-null   object \n",
      " 10  Activity         5147 non-null   object \n",
      " 11  Name             5147 non-null   object \n",
      " 12  Victim's Gender  5147 non-null   object \n",
      " 13  Age              5147 non-null   float64\n",
      " 14  Species          5147 non-null   object \n",
      "dtypes: float64(2), object(13)\n",
      "memory usage: 643.4+ KB\n",
      "None\n"
     ]
    }
   ],
   "source": [
    "# Define critical columns\n",
    "critical_columns = ['Country', 'Location', 'Activity', 'Injury']\n",
    "\n",
    "# Drop rows with NaNs in critical columns if percentage is acceptable\n",
    "df = df.dropna(subset=critical_columns)\n",
    "\n",
    "# Fill NaNs in other columns with appropriate values\n",
    "# Converted to numeric and filled with the median age, Retaining the central tendency of the data.\n",
    "df['Age'] = pd.to_numeric(df['Age'], errors='coerce')\n",
    "df['Age'].fillna(df['Age'].median(), inplace=True)\n",
    "\n",
    "# Filled with 'Unknown' to maintain consistency and handle missing values without assuming incorrect times.\n",
    "# 4FUTURE: Considered doing the MEDIAN \n",
    "df['Time'].fillna('Unknown', inplace=True)\n",
    "\n",
    "# Filled with 'Unknown' to avoid dropping rows, ensuring the dataset remains comprehensive.\n",
    "# 4FUTURE: Find a library (or similar) to help w/ that - We need to read the gender\n",
    "df['Victim\\'s Gender'].fillna('Unknown', inplace=True)\n",
    "\n",
    "# Filled with 'Unknown' to retain entries even if the species is not identified.\n",
    "# 4FUTURE: Find a library (or similar) to help w/ that - this variable it's helpfull to read Injury (and only that. ?)\n",
    "df['Species'].fillna('Unknown', inplace=True)\n",
    "\n",
    "# Filled with 'Unknown' to retain information on non-fatal incidents.\n",
    "# 4FUTURE: Reading Injury this should be easier to read\n",
    "df['Fatal'].fillna('Unknown', inplace=True)\n",
    "\n",
    "# Drop remaining rows with NaNs in minimal NaN columns\n",
    "df = df.dropna(subset=['Case Number', 'Date', 'Year', 'Type', 'Fatal', 'Area', 'Name'])\n",
    "\n",
    "# Verify the changes\n",
    "print(\"\\nNumber of NaNs after treatment:\\n\\n\", df.isna().sum())\n",
    "print(df.info())"
   ]
  },
  {
   "cell_type": "code",
   "execution_count": 29,
   "metadata": {
    "execution": {
     "iopub.execute_input": "2024-06-25T01:51:47.439384Z",
     "iopub.status.busy": "2024-06-25T01:51:47.439031Z",
     "iopub.status.idle": "2024-06-25T01:51:47.456331Z",
     "shell.execute_reply": "2024-06-25T01:51:47.455104Z",
     "shell.execute_reply.started": "2024-06-25T01:51:47.439355Z"
    }
   },
   "outputs": [
    {
     "name": "stdout",
     "output_type": "stream",
     "text": [
      "     Case Number     Time                                               Date  \\\n",
      "2     2020.01.17    08h00                                        17-Jan-2020   \n",
      "3     2020.01.16    20h30                                        16-Jan-2020   \n",
      "4     2020.01.13    14h33                                        13-Jan-2020   \n",
      "5     2020.01.12    07h15                                        12-Jan-2020   \n",
      "6     2020.01.07    17h30                                        07-Jan-2020   \n",
      "...          ...      ...                                                ...   \n",
      "6449     ND.0013  Unknown  No date (3 days after preceding incident) & pr...   \n",
      "6450     ND.0012  Unknown                                 Before 19-Jul-1913   \n",
      "6457     ND.0005  Unknown                                        Before 1903   \n",
      "6459     ND.0003  Unknown                                          1900-1905   \n",
      "6461     ND.0001  Unknown                                          1845-1853   \n",
      "\n",
      "        Year        Type             Country Fatal  \\\n",
      "2     2020.0  Unprovoked           AUSTRALIA     N   \n",
      "3     2020.0  Unprovoked         NEW ZEALAND     N   \n",
      "4     2020.0  Unprovoked                 USA     N   \n",
      "5     2020.0  Unprovoked            THAILAND     N   \n",
      "6     2020.0  Unprovoked           AUSTRALIA     N   \n",
      "...      ...         ...                 ...   ...   \n",
      "6449     0.0  Unprovoked        SOUTH AFRICA     Y   \n",
      "6450     0.0  Unprovoked        SOUTH AFRICA     Y   \n",
      "6457     0.0  Unprovoked           AUSTRALIA     Y   \n",
      "6459     0.0  Unprovoked                 USA     Y   \n",
      "6461     0.0  Unprovoked  CEYLON (SRI LANKA)     Y   \n",
      "\n",
      "                                                 Injury                Area  \\\n",
      "2                     Laceration ot left ankle and foot     New South Wales   \n",
      "3                             Minor injury to lower leg           Southland   \n",
      "4                                   Lacerations to foot      North Carolina   \n",
      "5                                           Calf bitten  Phang Nga Province   \n",
      "6                                    Lacerations to leg          Queensland   \n",
      "...                                                 ...                 ...   \n",
      "6449  FATAL, body not recovered but shark was caught...       KwaZulu-Natal   \n",
      "6450                       FATAL, leg stripped of flesh       KwaZulu-Natal   \n",
      "6457                                              FATAL   Western Australia   \n",
      "6459                                              FATAL      North Carolina   \n",
      "6461  FATAL. \"Shark bit him in half, carrying away t...    Eastern Province   \n",
      "\n",
      "                                 Location  Activity                   Name  \\\n",
      "2                           Windang Beach   Surfing         Will Schroeter   \n",
      "3                             Oreti Beach   Surfing            Jordan King   \n",
      "4                   Rodanthe, Dare County   Surfing           Samuel Horne   \n",
      "5                        Nang Thong Beach  Swimming      Hans-Peter Malten   \n",
      "6                       North West Island  Swimming            Miah Holmes   \n",
      "...                                   ...       ...                    ...   \n",
      "6449                               Durban   Fishing     a native fisherman   \n",
      "6450                               Durban    Wading       a young Scotsman   \n",
      "6457                          Roebuck Bay    Diving                   male   \n",
      "6459                       Ocracoke Inlet  Swimming  Coast Guard personnel   \n",
      "6461  Below the English fort, Trincomalee  Swimming                   male   \n",
      "\n",
      "     Victim's Gender   Age                      Species  \n",
      "2                  M  59.0              \"A small shark\"  \n",
      "3                  F  13.0  Broadnose seven gill shark?  \n",
      "4                  M  26.0                      Unknown  \n",
      "5                  M  75.0                      Unknown  \n",
      "6                  F   7.0                  Lemon shark  \n",
      "...              ...   ...                          ...  \n",
      "6449         Unknown  24.0                      Unknown  \n",
      "6450         Unknown  24.0                      Unknown  \n",
      "6457         Unknown  24.0                      Unknown  \n",
      "6459         Unknown  24.0                      Unknown  \n",
      "6461         Unknown  15.0                      Unknown  \n",
      "\n",
      "[5147 rows x 15 columns]\n"
     ]
    }
   ],
   "source": [
    "#import pandas as pd\n",
    "\n",
    "# Remove irrelevant columns\n",
    "#df = df.loc[:, ~df.columns.str.contains('Unnamed')]\n",
    "\n",
    "# Check NaNs\n",
    "#print(\"\\nNumber of NaNs before treatment:\\n\\n\", df.isna().sum())\n",
    "\n",
    "# Handle NaNs\n",
    "#df = df.dropna(subset=['Time','Country','Location','Fatal','Injury','Age','Activity','Species','Victim\\'s Gender'])\n",
    "\n",
    "# Check again\n",
    "#print(\"\\nNumber of NaNs after treatment:\\n\\n\", df.isna().sum())\n",
    "\n",
    "# Show the cleaned DataFrame\n",
    "print(df)"
   ]
  },
  {
   "cell_type": "code",
   "execution_count": 30,
   "metadata": {
    "execution": {
     "iopub.execute_input": "2024-06-25T01:51:47.458316Z",
     "iopub.status.busy": "2024-06-25T01:51:47.457887Z",
     "iopub.status.idle": "2024-06-25T01:51:47.837559Z",
     "shell.execute_reply": "2024-06-25T01:51:47.836413Z",
     "shell.execute_reply.started": "2024-06-25T01:51:47.458278Z"
    }
   },
   "outputs": [
    {
     "data": {
      "image/png": "[encoded data removed]",
      "text/plain": [
       "<Figure size 1000x600 with 1 Axes>"
      ]
     },
     "metadata": {},
     "output_type": "display_data"
    }
   ],
   "source": [
    "import seaborn as sns\n",
    "import matplotlib.pyplot as plt\n",
    "\n",
    "# Age Distribution\n",
    "plt.figure(figsize=(10, 6))\n",
    "sns.histplot(df['Age'], bins=30, kde=True, color='blue')\n",
    "plt.title('Distribution of Shark Incidents by Age')\n",
    "plt.xlabel('Age')\n",
    "plt.ylabel('Number of Incidents')\n",
    "plt.show()"
   ]
  },
  {
   "cell_type": "markdown",
   "metadata": {},
   "source": [
    "Currently it is possible to visualize shark encounters, not shark attacks. "
   ]
  },
  {
   "cell_type": "markdown",
   "metadata": {},
   "source": [
    "In which period people are attacked the most? "
   ]
  },
  {
   "cell_type": "code",
   "execution_count": 31,
   "metadata": {
    "execution": {
     "iopub.execute_input": "2024-06-25T01:51:47.839662Z",
     "iopub.status.busy": "2024-06-25T01:51:47.839313Z",
     "iopub.status.idle": "2024-06-25T01:51:47.866231Z",
     "shell.execute_reply": "2024-06-25T01:51:47.865068Z",
     "shell.execute_reply.started": "2024-06-25T01:51:47.839634Z"
    }
   },
   "outputs": [
    {
     "name": "stdout",
     "output_type": "stream",
     "text": [
      "2         Morning\n",
      "3         Evening\n",
      "4       Afternoon\n",
      "5         Morning\n",
      "6       Afternoon\n",
      "          ...    \n",
      "6449      Unknown\n",
      "6450      Unknown\n",
      "6457      Unknown\n",
      "6459      Unknown\n",
      "6461      Unknown\n",
      "Name: Time, Length: 5147, dtype: object\n"
     ]
    }
   ],
   "source": [
    "# Function to categorize time\n",
    "def categorize_time(time):\n",
    "    if pd.isnull(time) or time.strip() == '':\n",
    "        return \"Unknown\"\n",
    "    \n",
    "    time = time.strip().lower()\n",
    "    \n",
    "    # Direct categories\n",
    "    if \"morning\" in time:\n",
    "        return \"Morning\"\n",
    "    elif \"afternoon\" in time or \"pm\" in time:\n",
    "        return \"Afternoon\"\n",
    "    elif \"evening\" in time or \"night\" in time:\n",
    "        return \"Evening\"\n",
    "    elif \"early morning\" in time:\n",
    "        return \"Morning\"\n",
    "    elif \"late afternoon\" in time:\n",
    "        return \"Afternoon\"\n",
    "    \n",
    "    # Specific time conversion\n",
    "    try:\n",
    "        time = time.replace('h', ':').replace('H', ':')\n",
    "        hour = int(time.split(':')[0])\n",
    "        if 0 <= hour < 12:\n",
    "            return \"Morning\"\n",
    "        elif 12 <= hour < 18:\n",
    "            return \"Afternoon\"\n",
    "        else:\n",
    "            return \"Evening\"\n",
    "    except ValueError:\n",
    "        return \"Unknown\"\n",
    "\n",
    "# Apply the categorization function\n",
    "df['Time'] = df['Time'].apply(categorize_time)\n",
    "\n",
    "# Fill remaining missing values with 'Unknown'\n",
    "df['Time'] = df['Time'].fillna('Unknown')\n",
    "print(df['Time'])"
   ]
  },
  {
   "cell_type": "code",
   "execution_count": 32,
   "metadata": {
    "execution": {
     "iopub.execute_input": "2024-06-25T01:51:47.868228Z",
     "iopub.status.busy": "2024-06-25T01:51:47.867854Z",
     "iopub.status.idle": "2024-06-25T01:51:47.890437Z",
     "shell.execute_reply": "2024-06-25T01:51:47.888802Z",
     "shell.execute_reply.started": "2024-06-25T01:51:47.868199Z"
    }
   },
   "outputs": [
    {
     "name": "stdout",
     "output_type": "stream",
     "text": [
      "\n",
      "Count of all values in the 'Time' column:\n",
      "2         Morning\n",
      "3         Evening\n",
      "4       Afternoon\n",
      "5         Morning\n",
      "6       Afternoon\n",
      "          ...    \n",
      "6449      Unknown\n",
      "6450      Unknown\n",
      "6457      Unknown\n",
      "6459      Unknown\n",
      "6461      Unknown\n",
      "Name: Time, Length: 5147, dtype: object\n",
      "\n",
      "Entries in the 'Time' column that are not 'Unknown':\n",
      "Time\n",
      "Unknown    2379\n",
      "Name: count, dtype: int64\n",
      "         Time\n",
      "20    Unknown\n",
      "22    Unknown\n",
      "25    Unknown\n",
      "26    Unknown\n",
      "27    Unknown\n",
      "...       ...\n",
      "6449  Unknown\n",
      "6450  Unknown\n",
      "6457  Unknown\n",
      "6459  Unknown\n",
      "6461  Unknown\n",
      "\n",
      "[2379 rows x 1 columns]\n"
     ]
    }
   ],
   "source": [
    "# Visualize all entries in the 'Time' column\n",
    "print(\"\\nCount of all values in the 'Time' column:\")\n",
    "print(df['Time'])\n",
    "\n",
    "# Filter and visualize only the entries that are not 'Unknown' - checking the cleaning\n",
    "non_unknown_times = df[df['Time'] == 'Unknown']\n",
    "print(\"\\nEntries in the 'Time' column that are not 'Unknown':\")\n",
    "print(non_unknown_times['Time'].value_counts())\n",
    "print(non_unknown_times[['Time']])"
   ]
  },
  {
   "cell_type": "code",
   "execution_count": 33,
   "metadata": {
    "execution": {
     "iopub.execute_input": "2024-06-25T01:51:47.893354Z",
     "iopub.status.busy": "2024-06-25T01:51:47.892316Z",
     "iopub.status.idle": "2024-06-25T01:51:48.106542Z",
     "shell.execute_reply": "2024-06-25T01:51:48.105328Z",
     "shell.execute_reply.started": "2024-06-25T01:51:47.893307Z"
    }
   },
   "outputs": [
    {
     "data": {
      "image/png": "[encoded data removed]",
      "text/plain": [
       "<Figure size 1000x600 with 1 Axes>"
      ]
     },
     "metadata": {},
     "output_type": "display_data"
    }
   ],
   "source": [
    "# Plot bar chart to visualize the distribution of shark attacks over time\n",
    "time_counts = df['Time'].value_counts()\n",
    "\n",
    "plt.figure(figsize=(10, 6))\n",
    "time_counts.plot(kind='bar', color=['violet','crimson','gold','lightgreen'])\n",
    "plt.title('Distribution of Shark Incidents by Time of Day')\n",
    "plt.xlabel('Time of Day')\n",
    "plt.ylabel('Number of Incidents')\n",
    "plt.xticks(rotation=0)\n",
    "plt.show()"
   ]
  },
  {
   "cell_type": "markdown",
   "metadata": {},
   "source": [
    "# Why Do Shark Attacks Occur More in the Afternoon?\n",
    "\n",
    "We observe that shark attacks are more common in the afternoon due to a blend of human activity, shark behavior, and environmental factors.\n",
    "\n",
    "## Human Activity\n",
    "- **Peak Beach Hours**: In the afternoon, there is a significant increase in beachgoers participating in swimming, surfing, and other water activities. This heightened human presence in the water elevates the likelihood of encounters with sharks.\n",
    "- **Surfing Patterns**: Surfers, who are frequently attacked, often prefer the afternoon for better wave conditions, leading them to spend more time in the water and becoming more susceptible to shark encounters.\n",
    "\n",
    "## Shark Behavior\n",
    "- **Feeding Times**: Sharks are generally more active in their feeding during dawn and dusk, coinciding with peak human activity in the water during these times.\n",
    "- **Prey Movement**: The movement of prey fish closer to shore in the afternoon draws sharks nearer to coastal areas, increasing the chances of shark-human interactions.\n",
    "\n",
    "## Environmental Factors\n",
    "- **Water Conditions**: Warmer and clearer water conditions in the afternoon attract more marine life, including sharks, thus heightening the potential for shark attacks.\n",
    "\n",
    "Understanding these patterns can help us develop strategies to reduce the risk of shark attacks by avoiding peak shark activity times and raising awareness among beachgoers."
   ]
  },
  {
   "cell_type": "markdown",
   "metadata": {},
   "source": [
    "Higher incidence of shark attacks (M/F)? "
   ]
  },
  {
   "cell_type": "code",
   "execution_count": 34,
   "metadata": {
    "execution": {
     "iopub.execute_input": "2024-06-25T01:51:48.108907Z",
     "iopub.status.busy": "2024-06-25T01:51:48.108481Z",
     "iopub.status.idle": "2024-06-25T01:51:48.115742Z",
     "shell.execute_reply": "2024-06-25T01:51:48.114607Z",
     "shell.execute_reply.started": "2024-06-25T01:51:48.108860Z"
    }
   },
   "outputs": [
    {
     "name": "stdout",
     "output_type": "stream",
     "text": [
      "2             M\n",
      "3             F\n",
      "4             M\n",
      "5             M\n",
      "6             F\n",
      "         ...   \n",
      "6449    Unknown\n",
      "6450    Unknown\n",
      "6457    Unknown\n",
      "6459    Unknown\n",
      "6461    Unknown\n",
      "Name: Victim's Gender, Length: 5147, dtype: object\n"
     ]
    }
   ],
   "source": [
    "# Convert gender values to readable format\n",
    "# df['Victim\\'s Gender'] = df['Victim\\'s Gender'].map({'F': 'Female', 'M': 'Male', 'UNKNOWN': 'Unknown'})\n",
    "\n",
    "print(df['Victim\\'s Gender'])"
   ]
  },
  {
   "cell_type": "code",
   "execution_count": 35,
   "metadata": {
    "execution": {
     "iopub.execute_input": "2024-06-25T01:51:48.117361Z",
     "iopub.status.busy": "2024-06-25T01:51:48.117045Z",
     "iopub.status.idle": "2024-06-25T01:51:48.364694Z",
     "shell.execute_reply": "2024-06-25T01:51:48.363568Z",
     "shell.execute_reply.started": "2024-06-25T01:51:48.117333Z"
    }
   },
   "outputs": [
    {
     "name": "stdout",
     "output_type": "stream",
     "text": [
      "Number of shark incidents by gender:\n",
      "Victim's Gender\n",
      "Unknown    5123\n",
      "M            21\n",
      "F             3\n",
      "Name: count, dtype: int64\n"
     ]
    },
    {
     "data": {
      "image/png": "[encoded data removed]",
      "text/plain": [
       "<Figure size 800x600 with 1 Axes>"
      ]
     },
     "metadata": {},
     "output_type": "display_data"
    }
   ],
   "source": [
    "# Count the number of incidents by gender\n",
    "gender_counts = df['Victim\\'s Gender'].value_counts()\n",
    "\n",
    "# Display the result\n",
    "print(\"Number of shark incidents by gender:\")\n",
    "print(gender_counts)\n",
    "\n",
    "# Visualize the distribution of incidents by gender\n",
    "import matplotlib.pyplot as plt\n",
    "\n",
    "plt.figure(figsize=(8, 6))\n",
    "gender_counts.plot(kind='bar', color=['violet','lightblue', 'lightpink'])\n",
    "plt.title('Distribution of Shark Incidents by Gender')\n",
    "plt.xlabel('Gender')\n",
    "plt.ylabel('Number of Incidents')\n",
    "plt.xticks(rotation=0)\n",
    "plt.show()"
   ]
  },
  {
   "cell_type": "code",
   "execution_count": 36,
   "metadata": {},
   "outputs": [
    {
     "name": "stdout",
     "output_type": "stream",
     "text": [
      "Requirement already satisfied: gender-guesser in /home/helena/anaconda3/lib/python3.11/site-packages (0.4.0)\n",
      "Requirement already satisfied: spacy in /home/helena/anaconda3/lib/python3.11/site-packages (3.7.5)\n",
      "Requirement already satisfied: spacy-legacy<3.1.0,>=3.0.11 in /home/helena/anaconda3/lib/python3.11/site-packages (from spacy) (3.0.12)\n",
      "Requirement already satisfied: spacy-loggers<2.0.0,>=1.0.0 in /home/helena/anaconda3/lib/python3.11/site-packages (from spacy) (1.0.5)\n",
      "Requirement already satisfied: murmurhash<1.1.0,>=0.28.0 in /home/helena/anaconda3/lib/python3.11/site-packages (from spacy) (1.0.10)\n",
      "Requirement already satisfied: cymem<2.1.0,>=2.0.2 in /home/helena/anaconda3/lib/python3.11/site-packages (from spacy) (2.0.8)\n",
      "Requirement already satisfied: preshed<3.1.0,>=3.0.2 in /home/helena/anaconda3/lib/python3.11/site-packages (from spacy) (3.0.9)\n",
      "Requirement already satisfied: thinc<8.3.0,>=8.2.2 in /home/helena/anaconda3/lib/python3.11/site-packages (from spacy) (8.2.5)\n",
      "Requirement already satisfied: wasabi<1.2.0,>=0.9.1 in /home/helena/anaconda3/lib/python3.11/site-packages (from spacy) (1.1.3)\n",
      "Requirement already satisfied: srsly<3.0.0,>=2.4.3 in /home/helena/anaconda3/lib/python3.11/site-packages (from spacy) (2.4.8)\n",
      "Requirement already satisfied: catalogue<2.1.0,>=2.0.6 in /home/helena/anaconda3/lib/python3.11/site-packages (from spacy) (2.0.10)\n",
      "Requirement already satisfied: weasel<0.5.0,>=0.1.0 in /home/helena/anaconda3/lib/python3.11/site-packages (from spacy) (0.4.1)\n",
      "Requirement already satisfied: typer<1.0.0,>=0.3.0 in /home/helena/anaconda3/lib/python3.11/site-packages (from spacy) (0.12.3)\n",
      "Requirement already satisfied: tqdm<5.0.0,>=4.38.0 in /home/helena/anaconda3/lib/python3.11/site-packages (from spacy) (4.65.0)\n",
      "Requirement already satisfied: requests<3.0.0,>=2.13.0 in /home/helena/anaconda3/lib/python3.11/site-packages (from spacy) (2.31.0)\n",
      "Requirement already satisfied: pydantic!=1.8,!=1.8.1,<3.0.0,>=1.7.4 in /home/helena/anaconda3/lib/python3.11/site-packages (from spacy) (1.10.8)\n",
      "Requirement already satisfied: jinja2 in /home/helena/anaconda3/lib/python3.11/site-packages (from spacy) (3.1.2)\n",
      "Requirement already satisfied: setuptools in /home/helena/anaconda3/lib/python3.11/site-packages (from spacy) (68.0.0)\n",
      "Requirement already satisfied: packaging>=20.0 in /home/helena/anaconda3/lib/python3.11/site-packages (from spacy) (23.1)\n",
      "Requirement already satisfied: langcodes<4.0.0,>=3.2.0 in /home/helena/anaconda3/lib/python3.11/site-packages (from spacy) (3.4.0)\n",
      "Requirement already satisfied: numpy>=1.19.0 in /home/helena/anaconda3/lib/python3.11/site-packages (from spacy) (1.24.3)\n",
      "Requirement already satisfied: language-data>=1.2 in /home/helena/anaconda3/lib/python3.11/site-packages (from langcodes<4.0.0,>=3.2.0->spacy) (1.2.0)\n",
      "Requirement already satisfied: typing-extensions>=4.2.0 in /home/helena/anaconda3/lib/python3.11/site-packages (from pydantic!=1.8,!=1.8.1,<3.0.0,>=1.7.4->spacy) (4.7.1)\n",
      "Requirement already satisfied: charset-normalizer<4,>=2 in /home/helena/anaconda3/lib/python3.11/site-packages (from requests<3.0.0,>=2.13.0->spacy) (2.0.4)\n",
      "Requirement already satisfied: idna<4,>=2.5 in /home/helena/anaconda3/lib/python3.11/site-packages (from requests<3.0.0,>=2.13.0->spacy) (3.4)\n",
      "Requirement already satisfied: urllib3<3,>=1.21.1 in /home/helena/anaconda3/lib/python3.11/site-packages (from requests<3.0.0,>=2.13.0->spacy) (1.26.16)\n",
      "Requirement already satisfied: certifi>=2017.4.17 in /home/helena/anaconda3/lib/python3.11/site-packages (from requests<3.0.0,>=2.13.0->spacy) (2024.2.2)\n",
      "Requirement already satisfied: blis<0.8.0,>=0.7.8 in /home/helena/anaconda3/lib/python3.11/site-packages (from thinc<8.3.0,>=8.2.2->spacy) (0.7.11)\n",
      "Requirement already satisfied: confection<1.0.0,>=0.0.1 in /home/helena/anaconda3/lib/python3.11/site-packages (from thinc<8.3.0,>=8.2.2->spacy) (0.1.5)\n",
      "Requirement already satisfied: click>=8.0.0 in /home/helena/anaconda3/lib/python3.11/site-packages (from typer<1.0.0,>=0.3.0->spacy) (8.0.4)\n",
      "Requirement already satisfied: shellingham>=1.3.0 in /home/helena/anaconda3/lib/python3.11/site-packages (from typer<1.0.0,>=0.3.0->spacy) (1.5.4)\n",
      "Requirement already satisfied: rich>=10.11.0 in /home/helena/anaconda3/lib/python3.11/site-packages (from typer<1.0.0,>=0.3.0->spacy) (13.7.1)\n",
      "Requirement already satisfied: cloudpathlib<1.0.0,>=0.7.0 in /home/helena/anaconda3/lib/python3.11/site-packages (from weasel<0.5.0,>=0.1.0->spacy) (0.18.1)\n",
      "Requirement already satisfied: smart-open<8.0.0,>=5.2.1 in /home/helena/anaconda3/lib/python3.11/site-packages (from weasel<0.5.0,>=0.1.0->spacy) (5.2.1)\n",
      "Requirement already satisfied: MarkupSafe>=2.0 in /home/helena/anaconda3/lib/python3.11/site-packages (from jinja2->spacy) (2.1.1)\n",
      "Requirement already satisfied: marisa-trie>=0.7.7 in /home/helena/anaconda3/lib/python3.11/site-packages (from language-data>=1.2->langcodes<4.0.0,>=3.2.0->spacy) (1.2.0)\n",
      "Requirement already satisfied: markdown-it-py>=2.2.0 in /home/helena/anaconda3/lib/python3.11/site-packages (from rich>=10.11.0->typer<1.0.0,>=0.3.0->spacy) (2.2.0)\n",
      "Requirement already satisfied: pygments<3.0.0,>=2.13.0 in /home/helena/anaconda3/lib/python3.11/site-packages (from rich>=10.11.0->typer<1.0.0,>=0.3.0->spacy) (2.15.1)\n",
      "Requirement already satisfied: mdurl~=0.1 in /home/helena/anaconda3/lib/python3.11/site-packages (from markdown-it-py>=2.2.0->rich>=10.11.0->typer<1.0.0,>=0.3.0->spacy) (0.1.0)\n",
      "Collecting en-core-web-sm==3.7.1\n",
      "  Downloading https://github.com/explosion/spacy-models/releases/download/en_core_web_sm-3.7.1/en_core_web_sm-3.7.1-py3-none-any.whl (12.8 MB)\n",
      "\u001b[2K     \u001b[38;2;114;156;31m━━━━━━━━━━━━━━━━━━━━━━━━━━━━━━━━━━━━━━━━\u001b[0m \u001b[32m12.8/12.8 MB\u001b[0m \u001b[31m20.0 MB/s\u001b[0m eta \u001b[36m0:00:00\u001b[0mm eta \u001b[36m0:00:01\u001b[0m0:01\u001b[0m01\u001b[0m\n",
      "\u001b[?25hRequirement already satisfied: spacy<3.8.0,>=3.7.2 in /home/helena/anaconda3/lib/python3.11/site-packages (from en-core-web-sm==3.7.1) (3.7.5)\n",
      "Requirement already satisfied: spacy-legacy<3.1.0,>=3.0.11 in /home/helena/anaconda3/lib/python3.11/site-packages (from spacy<3.8.0,>=3.7.2->en-core-web-sm==3.7.1) (3.0.12)\n",
      "Requirement already satisfied: spacy-loggers<2.0.0,>=1.0.0 in /home/helena/anaconda3/lib/python3.11/site-packages (from spacy<3.8.0,>=3.7.2->en-core-web-sm==3.7.1) (1.0.5)\n",
      "Requirement already satisfied: murmurhash<1.1.0,>=0.28.0 in /home/helena/anaconda3/lib/python3.11/site-packages (from spacy<3.8.0,>=3.7.2->en-core-web-sm==3.7.1) (1.0.10)\n",
      "Requirement already satisfied: cymem<2.1.0,>=2.0.2 in /home/helena/anaconda3/lib/python3.11/site-packages (from spacy<3.8.0,>=3.7.2->en-core-web-sm==3.7.1) (2.0.8)\n",
      "Requirement already satisfied: preshed<3.1.0,>=3.0.2 in /home/helena/anaconda3/lib/python3.11/site-packages (from spacy<3.8.0,>=3.7.2->en-core-web-sm==3.7.1) (3.0.9)\n",
      "Requirement already satisfied: thinc<8.3.0,>=8.2.2 in /home/helena/anaconda3/lib/python3.11/site-packages (from spacy<3.8.0,>=3.7.2->en-core-web-sm==3.7.1) (8.2.5)\n",
      "Requirement already satisfied: wasabi<1.2.0,>=0.9.1 in /home/helena/anaconda3/lib/python3.11/site-packages (from spacy<3.8.0,>=3.7.2->en-core-web-sm==3.7.1) (1.1.3)\n",
      "Requirement already satisfied: srsly<3.0.0,>=2.4.3 in /home/helena/anaconda3/lib/python3.11/site-packages (from spacy<3.8.0,>=3.7.2->en-core-web-sm==3.7.1) (2.4.8)\n",
      "Requirement already satisfied: catalogue<2.1.0,>=2.0.6 in /home/helena/anaconda3/lib/python3.11/site-packages (from spacy<3.8.0,>=3.7.2->en-core-web-sm==3.7.1) (2.0.10)\n",
      "Requirement already satisfied: weasel<0.5.0,>=0.1.0 in /home/helena/anaconda3/lib/python3.11/site-packages (from spacy<3.8.0,>=3.7.2->en-core-web-sm==3.7.1) (0.4.1)\n",
      "Requirement already satisfied: typer<1.0.0,>=0.3.0 in /home/helena/anaconda3/lib/python3.11/site-packages (from spacy<3.8.0,>=3.7.2->en-core-web-sm==3.7.1) (0.12.3)\n",
      "Requirement already satisfied: tqdm<5.0.0,>=4.38.0 in /home/helena/anaconda3/lib/python3.11/site-packages (from spacy<3.8.0,>=3.7.2->en-core-web-sm==3.7.1) (4.65.0)\n",
      "Requirement already satisfied: requests<3.0.0,>=2.13.0 in /home/helena/anaconda3/lib/python3.11/site-packages (from spacy<3.8.0,>=3.7.2->en-core-web-sm==3.7.1) (2.31.0)\n",
      "Requirement already satisfied: pydantic!=1.8,!=1.8.1,<3.0.0,>=1.7.4 in /home/helena/anaconda3/lib/python3.11/site-packages (from spacy<3.8.0,>=3.7.2->en-core-web-sm==3.7.1) (1.10.8)\n",
      "Requirement already satisfied: jinja2 in /home/helena/anaconda3/lib/python3.11/site-packages (from spacy<3.8.0,>=3.7.2->en-core-web-sm==3.7.1) (3.1.2)\n",
      "Requirement already satisfied: setuptools in /home/helena/anaconda3/lib/python3.11/site-packages (from spacy<3.8.0,>=3.7.2->en-core-web-sm==3.7.1) (68.0.0)\n",
      "Requirement already satisfied: packaging>=20.0 in /home/helena/anaconda3/lib/python3.11/site-packages (from spacy<3.8.0,>=3.7.2->en-core-web-sm==3.7.1) (23.1)\n",
      "Requirement already satisfied: langcodes<4.0.0,>=3.2.0 in /home/helena/anaconda3/lib/python3.11/site-packages (from spacy<3.8.0,>=3.7.2->en-core-web-sm==3.7.1) (3.4.0)\n",
      "Requirement already satisfied: numpy>=1.19.0 in /home/helena/anaconda3/lib/python3.11/site-packages (from spacy<3.8.0,>=3.7.2->en-core-web-sm==3.7.1) (1.24.3)\n",
      "Requirement already satisfied: language-data>=1.2 in /home/helena/anaconda3/lib/python3.11/site-packages (from langcodes<4.0.0,>=3.2.0->spacy<3.8.0,>=3.7.2->en-core-web-sm==3.7.1) (1.2.0)\n",
      "Requirement already satisfied: typing-extensions>=4.2.0 in /home/helena/anaconda3/lib/python3.11/site-packages (from pydantic!=1.8,!=1.8.1,<3.0.0,>=1.7.4->spacy<3.8.0,>=3.7.2->en-core-web-sm==3.7.1) (4.7.1)\n"
     ]
    },
    {
     "name": "stdout",
     "output_type": "stream",
     "text": [
      "Requirement already satisfied: charset-normalizer<4,>=2 in /home/helena/anaconda3/lib/python3.11/site-packages (from requests<3.0.0,>=2.13.0->spacy<3.8.0,>=3.7.2->en-core-web-sm==3.7.1) (2.0.4)\n",
      "Requirement already satisfied: idna<4,>=2.5 in /home/helena/anaconda3/lib/python3.11/site-packages (from requests<3.0.0,>=2.13.0->spacy<3.8.0,>=3.7.2->en-core-web-sm==3.7.1) (3.4)\n",
      "Requirement already satisfied: urllib3<3,>=1.21.1 in /home/helena/anaconda3/lib/python3.11/site-packages (from requests<3.0.0,>=2.13.0->spacy<3.8.0,>=3.7.2->en-core-web-sm==3.7.1) (1.26.16)\n",
      "Requirement already satisfied: certifi>=2017.4.17 in /home/helena/anaconda3/lib/python3.11/site-packages (from requests<3.0.0,>=2.13.0->spacy<3.8.0,>=3.7.2->en-core-web-sm==3.7.1) (2024.2.2)\n",
      "Requirement already satisfied: blis<0.8.0,>=0.7.8 in /home/helena/anaconda3/lib/python3.11/site-packages (from thinc<8.3.0,>=8.2.2->spacy<3.8.0,>=3.7.2->en-core-web-sm==3.7.1) (0.7.11)\n",
      "Requirement already satisfied: confection<1.0.0,>=0.0.1 in /home/helena/anaconda3/lib/python3.11/site-packages (from thinc<8.3.0,>=8.2.2->spacy<3.8.0,>=3.7.2->en-core-web-sm==3.7.1) (0.1.5)\n",
      "Requirement already satisfied: click>=8.0.0 in /home/helena/anaconda3/lib/python3.11/site-packages (from typer<1.0.0,>=0.3.0->spacy<3.8.0,>=3.7.2->en-core-web-sm==3.7.1) (8.0.4)\n",
      "Requirement already satisfied: shellingham>=1.3.0 in /home/helena/anaconda3/lib/python3.11/site-packages (from typer<1.0.0,>=0.3.0->spacy<3.8.0,>=3.7.2->en-core-web-sm==3.7.1) (1.5.4)\n",
      "Requirement already satisfied: rich>=10.11.0 in /home/helena/anaconda3/lib/python3.11/site-packages (from typer<1.0.0,>=0.3.0->spacy<3.8.0,>=3.7.2->en-core-web-sm==3.7.1) (13.7.1)\n",
      "Requirement already satisfied: cloudpathlib<1.0.0,>=0.7.0 in /home/helena/anaconda3/lib/python3.11/site-packages (from weasel<0.5.0,>=0.1.0->spacy<3.8.0,>=3.7.2->en-core-web-sm==3.7.1) (0.18.1)\n",
      "Requirement already satisfied: smart-open<8.0.0,>=5.2.1 in /home/helena/anaconda3/lib/python3.11/site-packages (from weasel<0.5.0,>=0.1.0->spacy<3.8.0,>=3.7.2->en-core-web-sm==3.7.1) (5.2.1)\n",
      "Requirement already satisfied: MarkupSafe>=2.0 in /home/helena/anaconda3/lib/python3.11/site-packages (from jinja2->spacy<3.8.0,>=3.7.2->en-core-web-sm==3.7.1) (2.1.1)\n",
      "Requirement already satisfied: marisa-trie>=0.7.7 in /home/helena/anaconda3/lib/python3.11/site-packages (from language-data>=1.2->langcodes<4.0.0,>=3.2.0->spacy<3.8.0,>=3.7.2->en-core-web-sm==3.7.1) (1.2.0)\n",
      "Requirement already satisfied: markdown-it-py>=2.2.0 in /home/helena/anaconda3/lib/python3.11/site-packages (from rich>=10.11.0->typer<1.0.0,>=0.3.0->spacy<3.8.0,>=3.7.2->en-core-web-sm==3.7.1) (2.2.0)\n",
      "Requirement already satisfied: pygments<3.0.0,>=2.13.0 in /home/helena/anaconda3/lib/python3.11/site-packages (from rich>=10.11.0->typer<1.0.0,>=0.3.0->spacy<3.8.0,>=3.7.2->en-core-web-sm==3.7.1) (2.15.1)\n",
      "Requirement already satisfied: mdurl~=0.1 in /home/helena/anaconda3/lib/python3.11/site-packages (from markdown-it-py>=2.2.0->rich>=10.11.0->typer<1.0.0,>=0.3.0->spacy<3.8.0,>=3.7.2->en-core-web-sm==3.7.1) (0.1.0)\n",
      "\u001b[38;5;2m✔ Download and installation successful\u001b[0m\n",
      "You can now load the package via spacy.load('en_core_web_sm')\n"
     ]
    }
   ],
   "source": [
    "# 4FUTURE: Kaggle notebooks has restrictions -- Figured it out\n",
    "!pip install gender-guesser\n",
    "!pip install spacy\n",
    "!python -m spacy download en_core_web_sm"
   ]
  },
  {
   "cell_type": "code",
   "execution_count": 37,
   "metadata": {},
   "outputs": [
    {
     "name": "stdout",
     "output_type": "stream",
     "text": [
      "Victim's Gender\n",
      "M          2727\n",
      "Unknown    2094\n",
      "F           326\n",
      "Name: count, dtype: int64\n"
     ]
    },
    {
     "data": {
      "text/plain": [
       "Victim's Gender\n",
       "M    2727\n",
       "F     326\n",
       "Name: count, dtype: int64"
      ]
     },
     "execution_count": 37,
     "metadata": {},
     "output_type": "execute_result"
    }
   ],
   "source": [
    "import spacy\n",
    "from gender_guesser.detector import Detector\n",
    "\n",
    "# Load SpaCy model\n",
    "nlp = spacy.load('en_core_web_sm')\n",
    "\n",
    "# Initialize gender detector\n",
    "detector = Detector()\n",
    "\n",
    "# Define a function to guess gender from name\n",
    "def guess_gender(name):\n",
    "    if pd.isnull(name) or name.strip() == '':\n",
    "        return 'Unknown'\n",
    "    \n",
    "    doc = nlp(name)\n",
    "    \n",
    "    for ent in doc.ents:\n",
    "        if ent.label_ == 'PERSON':\n",
    "            gender = detector.get_gender(ent.text.split()[0])\n",
    "            \n",
    "            if gender in ['male', 'female']:\n",
    "                return gender.capitalize()[0]\n",
    "            \n",
    "    return 'Unknown'\n",
    "\n",
    "# Apply the function to the 'Name' column\n",
    "df['Predicted Gender'] = df['Name'].apply(guess_gender)\n",
    "\n",
    "# Replace 'Unknown' values in 'Victim\\'s Gender' with predicted values where possible\n",
    "df['Victim\\'s Gender'] = df.apply(lambda row: row['Victim\\'s Gender'] if row['Victim\\'s Gender'] != 'Unknown' else row['Predicted Gender'], axis=1)\n",
    "\n",
    "# Drop the 'Predicted Gender' column as it's no longer needed\n",
    "df.drop(columns=['Predicted Gender'], inplace=True)\n",
    "\n",
    "print(df['Victim\\'s Gender'].value_counts())\n",
    "# Remove 'Unknown's\n",
    "df = df[df['Victim\\'s Gender'] != 'Unknown']\n",
    "df['Victim\\'s Gender'].value_counts()"
   ]
  },
  {
   "cell_type": "code",
   "execution_count": 38,
   "metadata": {},
   "outputs": [
    {
     "data": {
      "text/plain": [
       "2                                         Surfing\n",
       "3                                         Surfing\n",
       "4                                         Surfing\n",
       "5                                        Swimming\n",
       "6                                        Swimming\n",
       "                          ...                    \n",
       "6396                                 Pearl diving\n",
       "6406                                 Spearfishing\n",
       "6410    Testing movie camera in full diving dress\n",
       "6439                                       Wading\n",
       "6443                                      Fishing\n",
       "Name: Activity, Length: 3053, dtype: object"
      ]
     },
     "execution_count": 38,
     "metadata": {},
     "output_type": "execute_result"
    }
   ],
   "source": [
    "# Understanding the Activity variable\n",
    "df['Activity']"
   ]
  },
  {
   "cell_type": "code",
   "execution_count": 39,
   "metadata": {
    "scrolled": true
   },
   "outputs": [
    {
     "name": "stdout",
     "output_type": "stream",
     "text": [
      "Activity (Categorized)\n",
      "Surface Water Sports            844\n",
      "Casual Water Activities         816\n",
      "Fishing and Hunting             541\n",
      "Underwater Activities           192\n",
      "Unique or Unspecified             3\n",
      "Interaction with Marine Life      2\n",
      "Unknown                         655\n",
      "Name: count, dtype: int64\n"
     ]
    },
    {
     "data": {
      "image/png": "[encoded data removed]",
      "text/plain": [
       "<Figure size 1000x600 with 1 Axes>"
      ]
     },
     "metadata": {},
     "output_type": "display_data"
    }
   ],
   "source": [
    "# Trying to automate the categorization of activities\n",
    "\n",
    "import spacy\n",
    "from spacy.matcher import PhraseMatcher\n",
    "\n",
    "# Load SpaCy model\n",
    "nlp = spacy.load(\"en_core_web_sm\")\n",
    "\n",
    "# Create a PhraseMatcher object\n",
    "matcher = PhraseMatcher(nlp.vocab, attr=\"LOWER\")\n",
    "\n",
    "categories = {\n",
    "    \"Surface Water Sports\": [\"surfing\", \"stand-up paddleboarding\", \"kayak fishing\", \"windsurfing\", \"kite surfing\", \"body boarding\"],\n",
    "    \"Underwater Activities\": [\"scuba diving\", \"snorkeling\", \"spearfishing\", \"free diving\"],\n",
    "    \"Casual Water Activities\": [\"swimming\", \"floating\", \"wading\", \"bathing\"],\n",
    "    \"Fishing and Hunting\": [\"fishing\", \"spearfishing\", \"crabbing\", \"lobstering\", \"collecting seashells\"],\n",
    "    \"Interaction with Marine Life\": [\"feeding sharks\", \"touching a shark\", \"photographing marine life\"],\n",
    "    \"Unique or Unspecified\": [\"sea disaster\", \"walking on the beach\", \"cleaning fish\", \"standing in water\"]\n",
    "}\n",
    "\n",
    "# Add patterns to the matcher\n",
    "for category, activities in categories.items():\n",
    "    patterns = [nlp.make_doc(text) for text in activities]\n",
    "    matcher.add(category, patterns)\n",
    "\n",
    "# Function to process text and extract features or categorize\n",
    "def categorize_activities(activity):\n",
    "    try:\n",
    "        doc = nlp(activity)\n",
    "        matches = matcher(doc)\n",
    "        \n",
    "        main_match = matches[0]\n",
    "        match_id = main_match[0]\n",
    "        rule_id = nlp.vocab.strings[match_id]\n",
    "\n",
    "        return rule_id\n",
    "    \n",
    "    except:\n",
    "        return \"Unknown\"\n",
    "\n",
    "# Apply the function to the 'Activity' column\n",
    "df['Activity (Categorized)'] = df['Activity']\n",
    "df['Activity (Categorized)'] = df['Activity (Categorized)'].apply(categorize_activities)\n",
    "\n",
    "activity_counts = df['Activity (Categorized)'].value_counts().sort_values(ascending=False)\n",
    "\n",
    "# Move \"Unknown\" to the end\n",
    "if 'Unknown' in activity_counts:\n",
    "    unknown_count = activity_counts['Unknown']\n",
    "    activity_counts = activity_counts.drop('Unknown')\n",
    "    activity_counts['Unknown'] = unknown_count\n",
    "\n",
    "print(activity_counts)\n",
    "\n",
    "plt.figure(figsize=(10, 6))\n",
    "activity_counts.plot(kind='bar', color=['crimson', 'gold', 'lightgreen', 'violet', 'brown', 'orange', 'blue'])\n",
    "plt.title('Distribution of Shark Incidents by Victim\\'s Activity at the moment')\n",
    "plt.xlabel('Activity')\n",
    "plt.ylabel('Number of Incidents')\n",
    "plt.xticks(rotation=0)\n",
    "plt.show()"
   ]
  },
  {
   "cell_type": "code",
   "execution_count": null,
   "metadata": {},
   "outputs": [],
   "source": []
  }
 ],
 "metadata": {
  "colab": {
   "provenance": []
  },
  "kaggle": {
   "accelerator": "none",
   "dataSources": [
    {
     "datasetId": 1991032,
     "sourceId": 3288213,
     "sourceType": "datasetVersion"
    },
    {
     "datasetId": 4109592,
     "sourceId": 7124238,
     "sourceType": "datasetVersion"
    }
   ],
   "dockerImageVersionId": 30673,
   "isGpuEnabled": false,
   "isInternetEnabled": false,
   "language": "python",
   "sourceType": "notebook"
  },
  "kernelspec": {
   "display_name": "Python 3 (ipykernel)",
   "language": "python",
   "name": "python3"
  },
  "language_info": {
   "codemirror_mode": {
    "name": "ipython",
    "version": 3
   },
   "file_extension": ".py",
   "mimetype": "text/x-python",
   "name": "python",
   "nbconvert_exporter": "python",
   "pygments_lexer": "ipython3",
   "version": "3.11.5"
  }
 },
 "nbformat": 4,
 "nbformat_minor": 4
}
